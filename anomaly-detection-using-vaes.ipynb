{
 "cells": [
  {
   "cell_type": "markdown",
   "metadata": {},
   "source": [
    "# Anomaly Detection using a Variational Auto-Encoder\n",
    "In this project, we are using a Variational Auto-Encoder (VAE) to detect anomalies in a timeseries."
   ]
  },
  {
   "cell_type": "markdown",
   "metadata": {},
   "source": [
    "## 1. Introduction to VAEs in Anomaly Detection\n",
    "### 1.1 What is a VAE?\n",
    "VAEs are a class of generative models that learn a compressed latent representation of the data. Intuitively, they learn the inherent structure of the data, so that it can be reconstructed just by providing a few values. As an analogy, imagine that you were asked to describe any object to someone just from basic shapes, so that they can draw it. It would take ages to explain everything in enough detail. Now, imaging you can tell them the object is in fact a dog. Immediately, it becomes much easier to explain, and within a few minutes, you should be able to give a pretty accurate description of the dog. This is because you and your friend share a common knowledge of what constitutes a dog and what distinguishes one dog from another. With this pre-learned knowledge, the description of the object becomes much more compact. \n",
    "\n",
    "To learn this structure, the VAE has two parts: An encoder and a decoder. The compact representation (the \"latent vector\") is sandwiched between these two parts. During training, we present the encoder with data samples that it converts into latent vectors. Then the decoder takes the latent vectors and tries to reconstruct the data samples. By minimising the recontruction error (plus a regularisation loss, more on that later), the encoder gets better at compressing the data into a meaningful latent vector, and the decoder becomes better at converting this latent vector into plausible reconstructed samples.\n",
    "\n",
    "However, we also need to make sure that the VAE is able to reconstruct samples outside of the training set, i.e. to generalise. This is achieved by penalising (\"regularising\") the reconstruction loss with an additional term, the Kullback-Leibler Divergence. In broad terms, this ensures that the VAE learns the distribution of the data, rather than the datapoints themselves. There is much more to the theory of VAEs (e.g. the \"reparameterisation trick\") but this is outside the scope of this notebook. You can learn a lot more about VAEs [here](https://arxiv.org/abs/1606.05908) \\[1\\].\n",
    "\n",
    "### 1.2 Why use a VAE in Anomaly Detection?\n",
    "\n",
    "The idea behind Anomaly Detection is to detect samples that are far from what is usually seen, in some sense or other. The definition of \"far\" is the difficult bit. In simple, one-dimensional cases, we could just look at the value tracked over time and decide that extreme values are anomalies. Lots of methods use this idea in more or less sophisticated ways.\n",
    "\n",
    "However, things become trickier in higher-dimensional spaces where variables interact with each other or are correlated in some non-obvious ways. Sure, a sheep is \"far\" from a dog, but how do you formalise this distance? Its size is clearly not enough: some dogs are as big or larger than sheeps. Colour doesn't work either -- there are black sheeps and white dogs. Ear shape -- let's not even get there. The decision will clearly require a combination of many variables.\n",
    "\n",
    "This is where VAEs come it useful. As we saw, a VAE trained on dogs will have learned a latent, non-explicit representation of the structural features of a dog. What will happen if we pass it an instance of a sheep? It will try to reconstruct the sheep, but since the structure of a sheep is different to that of a dog, most likely the reconstruction will not be very good. As a result, the reconstruction loss will probably be quite poor on this particular sample, much worse than on dog instances -- at least if our VAE has benn properly trained. By detecting data samples that cause a large reconstruction loss, we can therefore hope to identify anomalies.\n",
    "\n",
    "The process is as follows:  \n",
    "\n",
    "- Gather and preprocess data, including train/test split,\n",
    "- Build a VAE and train it on the training set,\n",
    "- Pass test samples to the VAE and record the reconstruction loss for each,\n",
    "- Identify test samples with a reconstruction loss higher than some criterion and flag them as anomalies."
   ]
  },
  {
   "cell_type": "markdown",
   "metadata": {},
   "source": [
    "### 1.3 Scope of this project\n",
    "In this notebook, we will use one of the public datasets available on Kaggle: https://www.kaggle.com/boltzmannbrain/nab\n",
    "It contains many one-dimensional timeseries, but to make things a bit more interesting, we will do some feature engineering and make the data multi-dimensional. This is also often useful in improving the accuracy of any model."
   ]
  },
  {
   "cell_type": "markdown",
   "metadata": {},
   "source": [
    "## 2. Data preprocessing\n",
    "\n",
    "Much of the pre-processing in this section has been inspired by this great [notebook](https://www.kaggle.com/victorambonati/unsupervised-anomaly-detection) by Victor Ambonati.\n",
    "\n",
    "Before we start, we need to install and import some useful libraries. For this project, I am using [Pytorch-Lightning](https://pytorch-lightning.readthedocs.io/en/latest/), a thin layer on top of Pytorch that handles a lot of the tedious tasks such as writing a training loop. The experiments are recorded using [Weights and Biases](https://app.wandb.ai/), but you can use whatever method you want, or none."
   ]
  },
  {
   "cell_type": "code",
   "execution_count": 142,
   "metadata": {},
   "outputs": [
    {
     "name": "stdout",
     "output_type": "stream",
     "text": [
      "Looking in indexes: https://pypi.douban.com/simple\n",
      "Collecting git+https://github.com/PyTorchLightning/pytorch-lightning.git\n",
      "  Cloning https://github.com/PyTorchLightning/pytorch-lightning.git to c:\\users\\niying~1\\appdata\\local\\temp\\pip-req-build-uw4fu410\n",
      "  Installing build dependencies: started\n",
      "  Installing build dependencies: finished with status 'done'\n",
      "  Getting requirements to build wheel: started\n",
      "  Getting requirements to build wheel: finished with status 'done'\n",
      "    Preparing wheel metadata: started\n",
      "    Preparing wheel metadata: finished with status 'done'\n",
      "Requirement already satisfied: PyYAML>=5.1 in d:\\anaconda3\\lib\\site-packages (from pytorch-lightning==1.1.1rc0) (5.3)\n",
      "Requirement already satisfied: tensorboard>=2.2.0 in d:\\anaconda3\\lib\\site-packages (from pytorch-lightning==1.1.1rc0) (2.3.0)\n",
      "Requirement already satisfied: tqdm>=4.41.0 in d:\\anaconda3\\lib\\site-packages (from pytorch-lightning==1.1.1rc0) (4.42.1)\n",
      "Requirement already satisfied: fsspec>=0.8.0 in d:\\anaconda3\\lib\\site-packages (from pytorch-lightning==1.1.1rc0) (0.8.4)\n",
      "Requirement already satisfied: torch>=1.3 in d:\\anaconda3\\lib\\site-packages (from pytorch-lightning==1.1.1rc0) (1.7.1)\n",
      "Requirement already satisfied: future>=0.17.1 in d:\\anaconda3\\lib\\site-packages (from pytorch-lightning==1.1.1rc0) (0.18.2)\n",
      "Requirement already satisfied: numpy>=1.16.6 in d:\\anaconda3\\lib\\site-packages (from pytorch-lightning==1.1.1rc0) (1.18.1)\n",
      "Requirement already satisfied: requests<3,>=2.21.0 in d:\\anaconda3\\lib\\site-packages (from tensorboard>=2.2.0->pytorch-lightning==1.1.1rc0) (2.22.0)\n",
      "Requirement already satisfied: tensorboard-plugin-wit>=1.6.0 in d:\\anaconda3\\lib\\site-packages (from tensorboard>=2.2.0->pytorch-lightning==1.1.1rc0) (1.6.0.post3)\n",
      "Requirement already satisfied: protobuf>=3.6.0 in d:\\anaconda3\\lib\\site-packages (from tensorboard>=2.2.0->pytorch-lightning==1.1.1rc0) (3.12.2)\n",
      "Requirement already satisfied: google-auth-oauthlib<0.5,>=0.4.1 in d:\\anaconda3\\lib\\site-packages (from tensorboard>=2.2.0->pytorch-lightning==1.1.1rc0) (0.4.1)\n",
      "Requirement already satisfied: absl-py>=0.4 in d:\\anaconda3\\lib\\site-packages (from tensorboard>=2.2.0->pytorch-lightning==1.1.1rc0) (0.9.0)\n",
      "Requirement already satisfied: google-auth<2,>=1.6.3 in d:\\anaconda3\\lib\\site-packages (from tensorboard>=2.2.0->pytorch-lightning==1.1.1rc0) (1.18.0)\n",
      "Requirement already satisfied: werkzeug>=0.11.15 in d:\\anaconda3\\lib\\site-packages (from tensorboard>=2.2.0->pytorch-lightning==1.1.1rc0) (1.0.0)\n",
      "Requirement already satisfied: grpcio>=1.24.3 in d:\\anaconda3\\lib\\site-packages (from tensorboard>=2.2.0->pytorch-lightning==1.1.1rc0) (1.29.0)\n",
      "Requirement already satisfied: wheel>=0.26; python_version >= \"3\" in d:\\anaconda3\\lib\\site-packages (from tensorboard>=2.2.0->pytorch-lightning==1.1.1rc0) (0.34.2)\n",
      "Requirement already satisfied: markdown>=2.6.8 in d:\\anaconda3\\lib\\site-packages (from tensorboard>=2.2.0->pytorch-lightning==1.1.1rc0) (3.2.2)\n",
      "Requirement already satisfied: six>=1.10.0 in d:\\anaconda3\\lib\\site-packages (from tensorboard>=2.2.0->pytorch-lightning==1.1.1rc0) (1.14.0)\n",
      "Requirement already satisfied: setuptools>=41.0.0 in d:\\anaconda3\\lib\\site-packages (from tensorboard>=2.2.0->pytorch-lightning==1.1.1rc0) (45.2.0.post20200210)\n",
      "Requirement already satisfied: typing-extensions in d:\\anaconda3\\lib\\site-packages (from torch>=1.3->pytorch-lightning==1.1.1rc0) (3.7.4.3)\n",
      "Requirement already satisfied: chardet<3.1.0,>=3.0.2 in d:\\anaconda3\\lib\\site-packages (from requests<3,>=2.21.0->tensorboard>=2.2.0->pytorch-lightning==1.1.1rc0) (3.0.4)\n",
      "Requirement already satisfied: urllib3!=1.25.0,!=1.25.1,<1.26,>=1.21.1 in d:\\anaconda3\\lib\\site-packages (from requests<3,>=2.21.0->tensorboard>=2.2.0->pytorch-lightning==1.1.1rc0) (1.24.3)\n",
      "Requirement already satisfied: certifi>=2017.4.17 in d:\\anaconda3\\lib\\site-packages (from requests<3,>=2.21.0->tensorboard>=2.2.0->pytorch-lightning==1.1.1rc0) (2019.11.28)\n",
      "Requirement already satisfied: idna<2.9,>=2.5 in d:\\anaconda3\\lib\\site-packages (from requests<3,>=2.21.0->tensorboard>=2.2.0->pytorch-lightning==1.1.1rc0) (2.8)\n",
      "Requirement already satisfied: requests-oauthlib>=0.7.0 in d:\\anaconda3\\lib\\site-packages (from google-auth-oauthlib<0.5,>=0.4.1->tensorboard>=2.2.0->pytorch-lightning==1.1.1rc0) (1.3.0)\n",
      "Requirement already satisfied: rsa<5,>=3.1.4; python_version >= \"3\" in d:\\anaconda3\\lib\\site-packages (from google-auth<2,>=1.6.3->tensorboard>=2.2.0->pytorch-lightning==1.1.1rc0) (4.6)\n",
      "Requirement already satisfied: pyasn1-modules>=0.2.1 in d:\\anaconda3\\lib\\site-packages (from google-auth<2,>=1.6.3->tensorboard>=2.2.0->pytorch-lightning==1.1.1rc0) (0.2.8)\n",
      "Requirement already satisfied: cachetools<5.0,>=2.0.0 in d:\\anaconda3\\lib\\site-packages (from google-auth<2,>=1.6.3->tensorboard>=2.2.0->pytorch-lightning==1.1.1rc0) (4.1.0)\n",
      "Requirement already satisfied: importlib-metadata; python_version < \"3.8\" in d:\\anaconda3\\lib\\site-packages (from markdown>=2.6.8->tensorboard>=2.2.0->pytorch-lightning==1.1.1rc0) (1.5.0)\n",
      "Requirement already satisfied: oauthlib>=3.0.0 in d:\\anaconda3\\lib\\site-packages (from requests-oauthlib>=0.7.0->google-auth-oauthlib<0.5,>=0.4.1->tensorboard>=2.2.0->pytorch-lightning==1.1.1rc0) (3.1.0)\n",
      "Requirement already satisfied: pyasn1>=0.1.3 in d:\\anaconda3\\lib\\site-packages (from rsa<5,>=3.1.4; python_version >= \"3\"->google-auth<2,>=1.6.3->tensorboard>=2.2.0->pytorch-lightning==1.1.1rc0) (0.4.8)\n",
      "Requirement already satisfied: zipp>=0.5 in d:\\anaconda3\\lib\\site-packages (from importlib-metadata; python_version < \"3.8\"->markdown>=2.6.8->tensorboard>=2.2.0->pytorch-lightning==1.1.1rc0) (2.2.0)\n",
      "Building wheels for collected packages: pytorch-lightning\n",
      "  Building wheel for pytorch-lightning (PEP 517): started\n",
      "  Building wheel for pytorch-lightning (PEP 517): finished with status 'done'\n",
      "  Created wheel for pytorch-lightning: filename=pytorch_lightning-1.1.1rc0-py3-none-any.whl size=674748 sha256=a25a3da78b2bc8ec85e30d832276e35fca9a80a0df93fc772ae5ad17fbf537e3\n",
      "  Stored in directory: C:\\Users\\NIYING~1\\AppData\\Local\\Temp\\pip-ephem-wheel-cache-gd1yrcte\\wheels\\3f\\59\\d1\\6c3cb10cbcbe0b4ec861d23c98ad407afc61464ed3ed315da6\n",
      "Successfully built pytorch-lightning\n",
      "Installing collected packages: pytorch-lightning\n",
      "  Attempting uninstall: pytorch-lightning\n",
      "    Found existing installation: pytorch-lightning 1.1.0\n",
      "    Uninstalling pytorch-lightning-1.1.0:\n",
      "      Successfully uninstalled pytorch-lightning-1.1.0\n",
      "Successfully installed pytorch-lightning-1.1.1rc0\n"
     ]
    },
    {
     "name": "stderr",
     "output_type": "stream",
     "text": [
      "  Running command git clone -q https://github.com/PyTorchLightning/pytorch-lightning.git 'C:\\Users\\NIYING~1\\AppData\\Local\\Temp\\pip-req-build-uw4fu410'\n"
     ]
    }
   ],
   "source": [
    "! pip install git+https://github.com/PyTorchLightning/pytorch-lightning.git"
   ]
  },
  {
   "cell_type": "code",
   "execution_count": 141,
   "metadata": {},
   "outputs": [
    {
     "name": "stdout",
     "output_type": "stream",
     "text": [
      "Looking in indexes: https://pypi.douban.com/simple\n",
      "Requirement already up-to-date: pytorch-lightning in d:\\anaconda3\\lib\\site-packages (1.1.0)\n",
      "Requirement already satisfied, skipping upgrade: tensorboard>=2.2.0 in d:\\anaconda3\\lib\\site-packages (from pytorch-lightning) (2.3.0)\n",
      "Requirement already satisfied, skipping upgrade: torch>=1.3 in d:\\anaconda3\\lib\\site-packages (from pytorch-lightning) (1.7.1)\n",
      "Requirement already satisfied, skipping upgrade: numpy>=1.16.6 in d:\\anaconda3\\lib\\site-packages (from pytorch-lightning) (1.18.1)\n",
      "Requirement already satisfied, skipping upgrade: tqdm>=4.41.0 in d:\\anaconda3\\lib\\site-packages (from pytorch-lightning) (4.42.1)\n",
      "Requirement already satisfied, skipping upgrade: PyYAML>=5.1 in d:\\anaconda3\\lib\\site-packages (from pytorch-lightning) (5.3)\n",
      "Requirement already satisfied, skipping upgrade: future>=0.17.1 in d:\\anaconda3\\lib\\site-packages (from pytorch-lightning) (0.18.2)\n",
      "Requirement already satisfied, skipping upgrade: fsspec>=0.8.0 in d:\\anaconda3\\lib\\site-packages (from pytorch-lightning) (0.8.4)\n",
      "Requirement already satisfied, skipping upgrade: setuptools>=41.0.0 in d:\\anaconda3\\lib\\site-packages (from tensorboard>=2.2.0->pytorch-lightning) (45.2.0.post20200210)\n",
      "Requirement already satisfied, skipping upgrade: six>=1.10.0 in d:\\anaconda3\\lib\\site-packages (from tensorboard>=2.2.0->pytorch-lightning) (1.14.0)\n",
      "Requirement already satisfied, skipping upgrade: grpcio>=1.24.3 in d:\\anaconda3\\lib\\site-packages (from tensorboard>=2.2.0->pytorch-lightning) (1.29.0)\n",
      "Requirement already satisfied, skipping upgrade: absl-py>=0.4 in d:\\anaconda3\\lib\\site-packages (from tensorboard>=2.2.0->pytorch-lightning) (0.9.0)\n",
      "Requirement already satisfied, skipping upgrade: google-auth<2,>=1.6.3 in d:\\anaconda3\\lib\\site-packages (from tensorboard>=2.2.0->pytorch-lightning) (1.18.0)\n",
      "Requirement already satisfied, skipping upgrade: markdown>=2.6.8 in d:\\anaconda3\\lib\\site-packages (from tensorboard>=2.2.0->pytorch-lightning) (3.2.2)\n",
      "Requirement already satisfied, skipping upgrade: tensorboard-plugin-wit>=1.6.0 in d:\\anaconda3\\lib\\site-packages (from tensorboard>=2.2.0->pytorch-lightning) (1.6.0.post3)\n",
      "Requirement already satisfied, skipping upgrade: protobuf>=3.6.0 in d:\\anaconda3\\lib\\site-packages (from tensorboard>=2.2.0->pytorch-lightning) (3.12.2)\n",
      "Requirement already satisfied, skipping upgrade: google-auth-oauthlib<0.5,>=0.4.1 in d:\\anaconda3\\lib\\site-packages (from tensorboard>=2.2.0->pytorch-lightning) (0.4.1)\n",
      "Requirement already satisfied, skipping upgrade: werkzeug>=0.11.15 in d:\\anaconda3\\lib\\site-packages (from tensorboard>=2.2.0->pytorch-lightning) (1.0.0)\n",
      "Requirement already satisfied, skipping upgrade: requests<3,>=2.21.0 in d:\\anaconda3\\lib\\site-packages (from tensorboard>=2.2.0->pytorch-lightning) (2.22.0)\n",
      "Requirement already satisfied, skipping upgrade: wheel>=0.26; python_version >= \"3\" in d:\\anaconda3\\lib\\site-packages (from tensorboard>=2.2.0->pytorch-lightning) (0.34.2)\n",
      "Requirement already satisfied, skipping upgrade: typing-extensions in d:\\anaconda3\\lib\\site-packages (from torch>=1.3->pytorch-lightning) (3.7.4.3)\n",
      "Requirement already satisfied, skipping upgrade: rsa<5,>=3.1.4; python_version >= \"3\" in d:\\anaconda3\\lib\\site-packages (from google-auth<2,>=1.6.3->tensorboard>=2.2.0->pytorch-lightning) (4.6)\n",
      "Requirement already satisfied, skipping upgrade: pyasn1-modules>=0.2.1 in d:\\anaconda3\\lib\\site-packages (from google-auth<2,>=1.6.3->tensorboard>=2.2.0->pytorch-lightning) (0.2.8)\n",
      "Requirement already satisfied, skipping upgrade: cachetools<5.0,>=2.0.0 in d:\\anaconda3\\lib\\site-packages (from google-auth<2,>=1.6.3->tensorboard>=2.2.0->pytorch-lightning) (4.1.0)\n",
      "Requirement already satisfied, skipping upgrade: importlib-metadata; python_version < \"3.8\" in d:\\anaconda3\\lib\\site-packages (from markdown>=2.6.8->tensorboard>=2.2.0->pytorch-lightning) (1.5.0)\n",
      "Requirement already satisfied, skipping upgrade: requests-oauthlib>=0.7.0 in d:\\anaconda3\\lib\\site-packages (from google-auth-oauthlib<0.5,>=0.4.1->tensorboard>=2.2.0->pytorch-lightning) (1.3.0)\n",
      "Requirement already satisfied, skipping upgrade: idna<2.9,>=2.5 in d:\\anaconda3\\lib\\site-packages (from requests<3,>=2.21.0->tensorboard>=2.2.0->pytorch-lightning) (2.8)\n",
      "Requirement already satisfied, skipping upgrade: urllib3!=1.25.0,!=1.25.1,<1.26,>=1.21.1 in d:\\anaconda3\\lib\\site-packages (from requests<3,>=2.21.0->tensorboard>=2.2.0->pytorch-lightning) (1.24.3)\n",
      "Requirement already satisfied, skipping upgrade: chardet<3.1.0,>=3.0.2 in d:\\anaconda3\\lib\\site-packages (from requests<3,>=2.21.0->tensorboard>=2.2.0->pytorch-lightning) (3.0.4)\n",
      "Requirement already satisfied, skipping upgrade: certifi>=2017.4.17 in d:\\anaconda3\\lib\\site-packages (from requests<3,>=2.21.0->tensorboard>=2.2.0->pytorch-lightning) (2019.11.28)\n",
      "Requirement already satisfied, skipping upgrade: pyasn1>=0.1.3 in d:\\anaconda3\\lib\\site-packages (from rsa<5,>=3.1.4; python_version >= \"3\"->google-auth<2,>=1.6.3->tensorboard>=2.2.0->pytorch-lightning) (0.4.8)\n",
      "Requirement already satisfied, skipping upgrade: zipp>=0.5 in d:\\anaconda3\\lib\\site-packages (from importlib-metadata; python_version < \"3.8\"->markdown>=2.6.8->tensorboard>=2.2.0->pytorch-lightning) (2.2.0)\n",
      "Requirement already satisfied, skipping upgrade: oauthlib>=3.0.0 in d:\\anaconda3\\lib\\site-packages (from requests-oauthlib>=0.7.0->google-auth-oauthlib<0.5,>=0.4.1->tensorboard>=2.2.0->pytorch-lightning) (3.1.0)\n"
     ]
    }
   ],
   "source": [
    "! pip install --upgrade pytorch-lightning"
   ]
  },
  {
   "cell_type": "code",
   "execution_count": 2,
   "metadata": {},
   "outputs": [
    {
     "name": "stderr",
     "output_type": "stream",
     "text": [
      "ERROR: Invalid requirement: '#'\n"
     ]
    }
   ],
   "source": [
    "! pip install matplotlib==3.1.3  # had issues with package incompatibilies"
   ]
  },
  {
   "cell_type": "code",
   "execution_count": 3,
   "metadata": {
    "_cell_guid": "79c7e3d0-c299-4dcb-8224-4455121ee9b0",
    "_uuid": "d629ff2d2480ee46fbb7e2d37f6b5fab8052498a"
   },
   "outputs": [],
   "source": [
    "import os\n",
    "import numpy as np # linear algebra\n",
    "import pandas as pd # data processing, CSV file I/O (e.g. pd.read_csv)\n",
    "from pathlib import Path\n",
    "from collections import OrderedDict\n",
    "import torch\n",
    "import torch.nn as nn\n",
    "import torch.nn.functional as F\n",
    "from torch.utils.data import Dataset, DataLoader\n",
    "from sklearn import preprocessing\n",
    "import matplotlib.pyplot as plt\n",
    "import pytorch_lightning as pl,pl0\n",
    "from pytorch_lightning.loggers import WandbLogger\n",
    "import wandb"
   ]
  },
  {
   "cell_type": "markdown",
   "metadata": {},
   "source": [
    "These are the available datasets:"
   ]
  },
  {
   "cell_type": "code",
   "execution_count": 8,
   "metadata": {
    "_cell_guid": "b1076dfc-b9ad-4769-8c92-a6c4dae69d19",
    "_uuid": "8f2839f25d086af736a60e9eeb907d3b93b6e0e5"
   },
   "outputs": [
    {
     "name": "stdout",
     "output_type": "stream",
     "text": [
      "D:/Python_Program/vae_anomaly_detection-main/kaggle/input\\archive.zip\n",
      "D:/Python_Program/vae_anomaly_detection-main/kaggle/input\\nab\\README.md\n",
      "D:/Python_Program/vae_anomaly_detection-main/kaggle/input\\nab\\artificialNoAnomaly\\artificialNoAnomaly\\art_daily_no_noise.csv\n",
      "D:/Python_Program/vae_anomaly_detection-main/kaggle/input\\nab\\artificialNoAnomaly\\artificialNoAnomaly\\art_daily_perfect_square_wave.csv\n",
      "D:/Python_Program/vae_anomaly_detection-main/kaggle/input\\nab\\artificialNoAnomaly\\artificialNoAnomaly\\art_daily_small_noise.csv\n",
      "D:/Python_Program/vae_anomaly_detection-main/kaggle/input\\nab\\artificialNoAnomaly\\artificialNoAnomaly\\art_flatline.csv\n",
      "D:/Python_Program/vae_anomaly_detection-main/kaggle/input\\nab\\artificialNoAnomaly\\artificialNoAnomaly\\art_noisy.csv\n",
      "D:/Python_Program/vae_anomaly_detection-main/kaggle/input\\nab\\artificialWithAnomaly\\artificialWithAnomaly\\art_daily_flatmiddle.csv\n",
      "D:/Python_Program/vae_anomaly_detection-main/kaggle/input\\nab\\artificialWithAnomaly\\artificialWithAnomaly\\art_daily_jumpsdown.csv\n",
      "D:/Python_Program/vae_anomaly_detection-main/kaggle/input\\nab\\artificialWithAnomaly\\artificialWithAnomaly\\art_daily_jumpsup.csv\n",
      "D:/Python_Program/vae_anomaly_detection-main/kaggle/input\\nab\\artificialWithAnomaly\\artificialWithAnomaly\\art_daily_nojump.csv\n",
      "D:/Python_Program/vae_anomaly_detection-main/kaggle/input\\nab\\artificialWithAnomaly\\artificialWithAnomaly\\art_increase_spike_density.csv\n",
      "D:/Python_Program/vae_anomaly_detection-main/kaggle/input\\nab\\artificialWithAnomaly\\artificialWithAnomaly\\art_load_balancer_spikes.csv\n",
      "D:/Python_Program/vae_anomaly_detection-main/kaggle/input\\nab\\realAdExchange\\realAdExchange\\exchange-2_cpc_results.csv\n",
      "D:/Python_Program/vae_anomaly_detection-main/kaggle/input\\nab\\realAdExchange\\realAdExchange\\exchange-2_cpm_results.csv\n",
      "D:/Python_Program/vae_anomaly_detection-main/kaggle/input\\nab\\realAdExchange\\realAdExchange\\exchange-3_cpc_results.csv\n",
      "D:/Python_Program/vae_anomaly_detection-main/kaggle/input\\nab\\realAdExchange\\realAdExchange\\exchange-3_cpm_results.csv\n",
      "D:/Python_Program/vae_anomaly_detection-main/kaggle/input\\nab\\realAdExchange\\realAdExchange\\exchange-4_cpc_results.csv\n",
      "D:/Python_Program/vae_anomaly_detection-main/kaggle/input\\nab\\realAdExchange\\realAdExchange\\exchange-4_cpm_results.csv\n",
      "D:/Python_Program/vae_anomaly_detection-main/kaggle/input\\nab\\realAWSCloudwatch\\realAWSCloudwatch\\ec2_cpu_utilization_24ae8d.csv\n",
      "D:/Python_Program/vae_anomaly_detection-main/kaggle/input\\nab\\realAWSCloudwatch\\realAWSCloudwatch\\ec2_cpu_utilization_53ea38.csv\n",
      "D:/Python_Program/vae_anomaly_detection-main/kaggle/input\\nab\\realAWSCloudwatch\\realAWSCloudwatch\\ec2_cpu_utilization_5f5533.csv\n",
      "D:/Python_Program/vae_anomaly_detection-main/kaggle/input\\nab\\realAWSCloudwatch\\realAWSCloudwatch\\ec2_cpu_utilization_77c1ca.csv\n",
      "D:/Python_Program/vae_anomaly_detection-main/kaggle/input\\nab\\realAWSCloudwatch\\realAWSCloudwatch\\ec2_cpu_utilization_825cc2.csv\n",
      "D:/Python_Program/vae_anomaly_detection-main/kaggle/input\\nab\\realAWSCloudwatch\\realAWSCloudwatch\\ec2_cpu_utilization_ac20cd.csv\n",
      "D:/Python_Program/vae_anomaly_detection-main/kaggle/input\\nab\\realAWSCloudwatch\\realAWSCloudwatch\\ec2_cpu_utilization_c6585a.csv\n",
      "D:/Python_Program/vae_anomaly_detection-main/kaggle/input\\nab\\realAWSCloudwatch\\realAWSCloudwatch\\ec2_cpu_utilization_fe7f93.csv\n",
      "D:/Python_Program/vae_anomaly_detection-main/kaggle/input\\nab\\realAWSCloudwatch\\realAWSCloudwatch\\ec2_disk_write_bytes_1ef3de.csv\n",
      "D:/Python_Program/vae_anomaly_detection-main/kaggle/input\\nab\\realAWSCloudwatch\\realAWSCloudwatch\\ec2_disk_write_bytes_c0d644.csv\n",
      "D:/Python_Program/vae_anomaly_detection-main/kaggle/input\\nab\\realAWSCloudwatch\\realAWSCloudwatch\\ec2_network_in_257a54.csv\n",
      "D:/Python_Program/vae_anomaly_detection-main/kaggle/input\\nab\\realAWSCloudwatch\\realAWSCloudwatch\\ec2_network_in_5abac7.csv\n",
      "D:/Python_Program/vae_anomaly_detection-main/kaggle/input\\nab\\realAWSCloudwatch\\realAWSCloudwatch\\elb_request_count_8c0756.csv\n",
      "D:/Python_Program/vae_anomaly_detection-main/kaggle/input\\nab\\realAWSCloudwatch\\realAWSCloudwatch\\grok_asg_anomaly.csv\n",
      "D:/Python_Program/vae_anomaly_detection-main/kaggle/input\\nab\\realAWSCloudwatch\\realAWSCloudwatch\\iio_us-east-1_i-a2eb1cd9_NetworkIn.csv\n",
      "D:/Python_Program/vae_anomaly_detection-main/kaggle/input\\nab\\realAWSCloudwatch\\realAWSCloudwatch\\rds_cpu_utilization_cc0c53.csv\n",
      "D:/Python_Program/vae_anomaly_detection-main/kaggle/input\\nab\\realAWSCloudwatch\\realAWSCloudwatch\\rds_cpu_utilization_e47b3b.csv\n",
      "D:/Python_Program/vae_anomaly_detection-main/kaggle/input\\nab\\realKnownCause\\realKnownCause\\ambient_temperature_system_failure.csv\n",
      "D:/Python_Program/vae_anomaly_detection-main/kaggle/input\\nab\\realKnownCause\\realKnownCause\\cpu_utilization_asg_misconfiguration.csv\n",
      "D:/Python_Program/vae_anomaly_detection-main/kaggle/input\\nab\\realKnownCause\\realKnownCause\\ec2_request_latency_system_failure.csv\n",
      "D:/Python_Program/vae_anomaly_detection-main/kaggle/input\\nab\\realKnownCause\\realKnownCause\\machine_temperature_system_failure.csv\n",
      "D:/Python_Program/vae_anomaly_detection-main/kaggle/input\\nab\\realKnownCause\\realKnownCause\\nyc_taxi.csv\n",
      "D:/Python_Program/vae_anomaly_detection-main/kaggle/input\\nab\\realKnownCause\\realKnownCause\\rogue_agent_key_hold.csv\n",
      "D:/Python_Program/vae_anomaly_detection-main/kaggle/input\\nab\\realKnownCause\\realKnownCause\\rogue_agent_key_updown.csv\n",
      "D:/Python_Program/vae_anomaly_detection-main/kaggle/input\\nab\\realTraffic\\realTraffic\\.DS_Store\n",
      "D:/Python_Program/vae_anomaly_detection-main/kaggle/input\\nab\\realTraffic\\realTraffic\\occupancy_6005.csv\n",
      "D:/Python_Program/vae_anomaly_detection-main/kaggle/input\\nab\\realTraffic\\realTraffic\\occupancy_t4013.csv\n",
      "D:/Python_Program/vae_anomaly_detection-main/kaggle/input\\nab\\realTraffic\\realTraffic\\speed_6005.csv\n",
      "D:/Python_Program/vae_anomaly_detection-main/kaggle/input\\nab\\realTraffic\\realTraffic\\speed_7578.csv\n",
      "D:/Python_Program/vae_anomaly_detection-main/kaggle/input\\nab\\realTraffic\\realTraffic\\speed_t4013.csv\n",
      "D:/Python_Program/vae_anomaly_detection-main/kaggle/input\\nab\\realTraffic\\realTraffic\\TravelTime_387.csv\n",
      "D:/Python_Program/vae_anomaly_detection-main/kaggle/input\\nab\\realTraffic\\realTraffic\\TravelTime_451.csv\n",
      "D:/Python_Program/vae_anomaly_detection-main/kaggle/input\\nab\\realTraffic\\__MACOSX\\realTraffic\\._.DS_Store\n",
      "D:/Python_Program/vae_anomaly_detection-main/kaggle/input\\nab\\realTraffic\\__MACOSX\\realTraffic\\._occupancy_6005.csv\n",
      "D:/Python_Program/vae_anomaly_detection-main/kaggle/input\\nab\\realTraffic\\__MACOSX\\realTraffic\\._speed_6005.csv\n",
      "D:/Python_Program/vae_anomaly_detection-main/kaggle/input\\nab\\realTweets\\realTweets\\Twitter_volume_AAPL.csv\n",
      "D:/Python_Program/vae_anomaly_detection-main/kaggle/input\\nab\\realTweets\\realTweets\\Twitter_volume_AMZN.csv\n",
      "D:/Python_Program/vae_anomaly_detection-main/kaggle/input\\nab\\realTweets\\realTweets\\Twitter_volume_CRM.csv\n",
      "D:/Python_Program/vae_anomaly_detection-main/kaggle/input\\nab\\realTweets\\realTweets\\Twitter_volume_CVS.csv\n",
      "D:/Python_Program/vae_anomaly_detection-main/kaggle/input\\nab\\realTweets\\realTweets\\Twitter_volume_FB.csv\n",
      "D:/Python_Program/vae_anomaly_detection-main/kaggle/input\\nab\\realTweets\\realTweets\\Twitter_volume_GOOG.csv\n",
      "D:/Python_Program/vae_anomaly_detection-main/kaggle/input\\nab\\realTweets\\realTweets\\Twitter_volume_IBM.csv\n",
      "D:/Python_Program/vae_anomaly_detection-main/kaggle/input\\nab\\realTweets\\realTweets\\Twitter_volume_KO.csv\n",
      "D:/Python_Program/vae_anomaly_detection-main/kaggle/input\\nab\\realTweets\\realTweets\\Twitter_volume_PFE.csv\n",
      "D:/Python_Program/vae_anomaly_detection-main/kaggle/input\\nab\\realTweets\\realTweets\\Twitter_volume_UPS.csv\n"
     ]
    }
   ],
   "source": [
    "for dirname, _, filenames in os.walk('D:/Python_Program/vae_anomaly_detection-main/kaggle/input'):\n",
    "    for filename in filenames:\n",
    "        print(os.path.join(dirname, filename))"
   ]
  },
  {
   "cell_type": "markdown",
   "metadata": {},
   "source": [
    "We pick `machine_temperature_system_failure.csv`, but the pipeline below can apply to others too, with some minor adaptation. This data comes from a temperature sensor from an internal component of a large industrial machine."
   ]
  },
  {
   "cell_type": "code",
   "execution_count": 10,
   "metadata": {},
   "outputs": [],
   "source": [
    "datafile_path = Path('D:/Python_Program/vae_anomaly_detection-main/kaggle/input/nab/realKnownCause/realKnownCause/machine_temperature_system_failure.csv')\n",
    "datasets_root = Path('D:/Python_Program/vae_anomaly_detection-main/kaggle/working')"
   ]
  },
  {
   "cell_type": "code",
   "execution_count": 77,
   "metadata": {},
   "outputs": [],
   "source": [
    "datafile_path0 = Path('C:/Users/Ni Ying/Desktop/data/imagexlsx.xlsx')\n",
    "datasets_root0 = Path('C:/Users/Ni Ying/Desktop/data/working')"
   ]
  },
  {
   "cell_type": "markdown",
   "metadata": {},
   "source": [
    "The data is monodimensional: It only has one \"predictor\" (`timestamp`) and the outcome (`value`):"
   ]
  },
  {
   "cell_type": "code",
   "execution_count": 11,
   "metadata": {},
   "outputs": [
    {
     "data": {
      "text/html": [
       "<div>\n",
       "<style scoped>\n",
       "    .dataframe tbody tr th:only-of-type {\n",
       "        vertical-align: middle;\n",
       "    }\n",
       "\n",
       "    .dataframe tbody tr th {\n",
       "        vertical-align: top;\n",
       "    }\n",
       "\n",
       "    .dataframe thead th {\n",
       "        text-align: right;\n",
       "    }\n",
       "</style>\n",
       "<table border=\"1\" class=\"dataframe\">\n",
       "  <thead>\n",
       "    <tr style=\"text-align: right;\">\n",
       "      <th></th>\n",
       "      <th>timestamp</th>\n",
       "      <th>value</th>\n",
       "    </tr>\n",
       "  </thead>\n",
       "  <tbody>\n",
       "    <tr>\n",
       "      <th>0</th>\n",
       "      <td>2013-12-02 21:15:00</td>\n",
       "      <td>73.967322</td>\n",
       "    </tr>\n",
       "    <tr>\n",
       "      <th>1</th>\n",
       "      <td>2013-12-02 21:20:00</td>\n",
       "      <td>74.935882</td>\n",
       "    </tr>\n",
       "    <tr>\n",
       "      <th>2</th>\n",
       "      <td>2013-12-02 21:25:00</td>\n",
       "      <td>76.124162</td>\n",
       "    </tr>\n",
       "    <tr>\n",
       "      <th>3</th>\n",
       "      <td>2013-12-02 21:30:00</td>\n",
       "      <td>78.140707</td>\n",
       "    </tr>\n",
       "    <tr>\n",
       "      <th>4</th>\n",
       "      <td>2013-12-02 21:35:00</td>\n",
       "      <td>79.329836</td>\n",
       "    </tr>\n",
       "  </tbody>\n",
       "</table>\n",
       "</div>"
      ],
      "text/plain": [
       "             timestamp      value\n",
       "0  2013-12-02 21:15:00  73.967322\n",
       "1  2013-12-02 21:20:00  74.935882\n",
       "2  2013-12-02 21:25:00  76.124162\n",
       "3  2013-12-02 21:30:00  78.140707\n",
       "4  2013-12-02 21:35:00  79.329836"
      ]
     },
     "execution_count": 11,
     "metadata": {},
     "output_type": "execute_result"
    }
   ],
   "source": [
    "raw_dt = pd.read_csv(datafile_path)\n",
    "raw_dt.head()"
   ]
  },
  {
   "cell_type": "code",
   "execution_count": 79,
   "metadata": {},
   "outputs": [
    {
     "data": {
      "text/html": [
       "<div>\n",
       "<style scoped>\n",
       "    .dataframe tbody tr th:only-of-type {\n",
       "        vertical-align: middle;\n",
       "    }\n",
       "\n",
       "    .dataframe tbody tr th {\n",
       "        vertical-align: top;\n",
       "    }\n",
       "\n",
       "    .dataframe thead th {\n",
       "        text-align: right;\n",
       "    }\n",
       "</style>\n",
       "<table border=\"1\" class=\"dataframe\">\n",
       "  <thead>\n",
       "    <tr style=\"text-align: right;\">\n",
       "      <th></th>\n",
       "      <th>uid</th>\n",
       "      <th>type</th>\n",
       "      <th>ifpic</th>\n",
       "      <th>r1</th>\n",
       "      <th>r2</th>\n",
       "      <th>r3</th>\n",
       "      <th>g1</th>\n",
       "      <th>g2</th>\n",
       "      <th>g3</th>\n",
       "      <th>b1</th>\n",
       "      <th>b2</th>\n",
       "      <th>b3</th>\n",
       "      <th>asm</th>\n",
       "      <th>con</th>\n",
       "      <th>eng</th>\n",
       "      <th>idm</th>\n",
       "    </tr>\n",
       "  </thead>\n",
       "  <tbody>\n",
       "    <tr>\n",
       "      <th>0</th>\n",
       "      <td>1</td>\n",
       "      <td>pri</td>\n",
       "      <td>1</td>\n",
       "      <td>166.841925</td>\n",
       "      <td>63.446047</td>\n",
       "      <td>-62.451236</td>\n",
       "      <td>158.253300</td>\n",
       "      <td>63.790080</td>\n",
       "      <td>-66.556483</td>\n",
       "      <td>156.180375</td>\n",
       "      <td>63.584990</td>\n",
       "      <td>-65.435522</td>\n",
       "      <td>0.179038</td>\n",
       "      <td>2.5806</td>\n",
       "      <td>2.895655</td>\n",
       "      <td>0.843625</td>\n",
       "    </tr>\n",
       "    <tr>\n",
       "      <th>1</th>\n",
       "      <td>12</td>\n",
       "      <td>pri</td>\n",
       "      <td>1</td>\n",
       "      <td>111.179400</td>\n",
       "      <td>62.839314</td>\n",
       "      <td>-49.312123</td>\n",
       "      <td>155.679775</td>\n",
       "      <td>55.865453</td>\n",
       "      <td>-58.168950</td>\n",
       "      <td>187.076875</td>\n",
       "      <td>57.550191</td>\n",
       "      <td>-67.406039</td>\n",
       "      <td>0.049059</td>\n",
       "      <td>4.2790</td>\n",
       "      <td>3.882789</td>\n",
       "      <td>0.663226</td>\n",
       "    </tr>\n",
       "    <tr>\n",
       "      <th>2</th>\n",
       "      <td>18</td>\n",
       "      <td>pri</td>\n",
       "      <td>0</td>\n",
       "      <td>0.000000</td>\n",
       "      <td>0.000000</td>\n",
       "      <td>0.000000</td>\n",
       "      <td>0.000000</td>\n",
       "      <td>0.000000</td>\n",
       "      <td>0.000000</td>\n",
       "      <td>0.000000</td>\n",
       "      <td>0.000000</td>\n",
       "      <td>0.000000</td>\n",
       "      <td>0.000000</td>\n",
       "      <td>0.0000</td>\n",
       "      <td>0.000000</td>\n",
       "      <td>0.000000</td>\n",
       "    </tr>\n",
       "    <tr>\n",
       "      <th>3</th>\n",
       "      <td>22</td>\n",
       "      <td>pri</td>\n",
       "      <td>0</td>\n",
       "      <td>0.000000</td>\n",
       "      <td>0.000000</td>\n",
       "      <td>0.000000</td>\n",
       "      <td>0.000000</td>\n",
       "      <td>0.000000</td>\n",
       "      <td>0.000000</td>\n",
       "      <td>0.000000</td>\n",
       "      <td>0.000000</td>\n",
       "      <td>0.000000</td>\n",
       "      <td>0.000000</td>\n",
       "      <td>0.0000</td>\n",
       "      <td>0.000000</td>\n",
       "      <td>0.000000</td>\n",
       "    </tr>\n",
       "    <tr>\n",
       "      <th>4</th>\n",
       "      <td>35</td>\n",
       "      <td>pri</td>\n",
       "      <td>0</td>\n",
       "      <td>0.000000</td>\n",
       "      <td>0.000000</td>\n",
       "      <td>0.000000</td>\n",
       "      <td>0.000000</td>\n",
       "      <td>0.000000</td>\n",
       "      <td>0.000000</td>\n",
       "      <td>0.000000</td>\n",
       "      <td>0.000000</td>\n",
       "      <td>0.000000</td>\n",
       "      <td>0.000000</td>\n",
       "      <td>0.0000</td>\n",
       "      <td>0.000000</td>\n",
       "      <td>0.000000</td>\n",
       "    </tr>\n",
       "  </tbody>\n",
       "</table>\n",
       "</div>"
      ],
      "text/plain": [
       "   uid type  ifpic          r1         r2         r3          g1         g2  \\\n",
       "0    1  pri      1  166.841925  63.446047 -62.451236  158.253300  63.790080   \n",
       "1   12  pri      1  111.179400  62.839314 -49.312123  155.679775  55.865453   \n",
       "2   18  pri      0    0.000000   0.000000   0.000000    0.000000   0.000000   \n",
       "3   22  pri      0    0.000000   0.000000   0.000000    0.000000   0.000000   \n",
       "4   35  pri      0    0.000000   0.000000   0.000000    0.000000   0.000000   \n",
       "\n",
       "          g3          b1         b2         b3       asm     con       eng  \\\n",
       "0 -66.556483  156.180375  63.584990 -65.435522  0.179038  2.5806  2.895655   \n",
       "1 -58.168950  187.076875  57.550191 -67.406039  0.049059  4.2790  3.882789   \n",
       "2   0.000000    0.000000   0.000000   0.000000  0.000000  0.0000  0.000000   \n",
       "3   0.000000    0.000000   0.000000   0.000000  0.000000  0.0000  0.000000   \n",
       "4   0.000000    0.000000   0.000000   0.000000  0.000000  0.0000  0.000000   \n",
       "\n",
       "        idm  \n",
       "0  0.843625  \n",
       "1  0.663226  \n",
       "2  0.000000  \n",
       "3  0.000000  \n",
       "4  0.000000  "
      ]
     },
     "execution_count": 79,
     "metadata": {},
     "output_type": "execute_result"
    }
   ],
   "source": [
    "raw_dt0 = pd.read_excel(datafile_path0)\n",
    "raw_dt0.head()"
   ]
  },
  {
   "cell_type": "code",
   "execution_count": 12,
   "metadata": {},
   "outputs": [
    {
     "data": {
      "text/html": [
       "<div>\n",
       "<style scoped>\n",
       "    .dataframe tbody tr th:only-of-type {\n",
       "        vertical-align: middle;\n",
       "    }\n",
       "\n",
       "    .dataframe tbody tr th {\n",
       "        vertical-align: top;\n",
       "    }\n",
       "\n",
       "    .dataframe thead th {\n",
       "        text-align: right;\n",
       "    }\n",
       "</style>\n",
       "<table border=\"1\" class=\"dataframe\">\n",
       "  <thead>\n",
       "    <tr style=\"text-align: right;\">\n",
       "      <th></th>\n",
       "      <th>value</th>\n",
       "    </tr>\n",
       "  </thead>\n",
       "  <tbody>\n",
       "    <tr>\n",
       "      <th>count</th>\n",
       "      <td>22695.000000</td>\n",
       "    </tr>\n",
       "    <tr>\n",
       "      <th>mean</th>\n",
       "      <td>85.926498</td>\n",
       "    </tr>\n",
       "    <tr>\n",
       "      <th>std</th>\n",
       "      <td>13.746912</td>\n",
       "    </tr>\n",
       "    <tr>\n",
       "      <th>min</th>\n",
       "      <td>2.084721</td>\n",
       "    </tr>\n",
       "    <tr>\n",
       "      <th>25%</th>\n",
       "      <td>83.080078</td>\n",
       "    </tr>\n",
       "    <tr>\n",
       "      <th>50%</th>\n",
       "      <td>89.408246</td>\n",
       "    </tr>\n",
       "    <tr>\n",
       "      <th>75%</th>\n",
       "      <td>94.016252</td>\n",
       "    </tr>\n",
       "    <tr>\n",
       "      <th>max</th>\n",
       "      <td>108.510543</td>\n",
       "    </tr>\n",
       "  </tbody>\n",
       "</table>\n",
       "</div>"
      ],
      "text/plain": [
       "              value\n",
       "count  22695.000000\n",
       "mean      85.926498\n",
       "std       13.746912\n",
       "min        2.084721\n",
       "25%       83.080078\n",
       "50%       89.408246\n",
       "75%       94.016252\n",
       "max      108.510543"
      ]
     },
     "execution_count": 12,
     "metadata": {},
     "output_type": "execute_result"
    }
   ],
   "source": [
    "raw_dt.describe()"
   ]
  },
  {
   "cell_type": "code",
   "execution_count": 13,
   "metadata": {},
   "outputs": [
    {
     "data": {
      "text/plain": [
       "<matplotlib.axes._subplots.AxesSubplot at 0x2c44b3767c8>"
      ]
     },
     "execution_count": 13,
     "metadata": {},
     "output_type": "execute_result"
    },
    {
     "data": {
      "image/png": "[encoded data removed]",
      "text/plain": [
       "<Figure size 864x720 with 1 Axes>"
      ]
     },
     "metadata": {
      "needs_background": "light"
     },
     "output_type": "display_data"
    }
   ],
   "source": [
    "data = raw_dt.copy()\n",
    "data['timestamp'] = pd.to_datetime(data['timestamp'])\n",
    "data.plot(x='timestamp', y='value', figsize=(12, 10))"
   ]
  },
  {
   "cell_type": "markdown",
   "metadata": {},
   "source": [
    "We can already intuitively see a few of unusual values. We will see if our model will be able to pick them up... For reference, the paper that introduced this dataset can be found [here](https://reader.elsevier.com/reader/sd/pii/S0925231217309864?token=C53EC725CFFDDB81C89A60CA5CA9B4DDD0E1DBFC0F8975119E6CB3555C8B2D6AC0418BF5AE7AE721DA3BB77DDD638190) \\[1\\] and its figure 1 shows this timeseries with hand-labeled anomalies. The first anomaly, around Dec 16th, is a planned shutdown. The third anomaly, around Feb 8th, is a catastrophic failure. Around Jan 30th, a harder-to-detect anomaly indicated the onset of the problem that led to anomaly 3."
   ]
  },
  {
   "cell_type": "code",
   "execution_count": 14,
   "metadata": {},
   "outputs": [
    {
     "data": {
      "text/plain": [
       "(Timestamp('2013-12-02 21:15:00'), Timestamp('2014-02-19 15:25:00'))"
      ]
     },
     "execution_count": 14,
     "metadata": {},
     "output_type": "execute_result"
    }
   ],
   "source": [
    "data['timestamp'].min(), data['timestamp'].max()"
   ]
  },
  {
   "cell_type": "markdown",
   "metadata": {},
   "source": [
    "We do not have much information about what kind of machine or industry we are dealing with, which is a bit of an issue when trying to use this data, especially when it comes to feature engineering. We will therefore have to make assumptions. \n",
    "\n",
    "The timestamps cover the Christmas and New Year holidays. Since we are dealing with an industrial machine, it stands to reason that its workload might be affected by holidays, and maybe even by the proximity (in time) of a holiday. In the absence of additional information, we are going to assume that the applicable holidays are those typical in Europe and the Americas, i.e. Christmas and New Year's Day. By the same reasoning, we might need to know the day of the week (possibly lower workload on weekends?) or the hour of the day. Again, we will assume that weekends are Satuday and Sunday. \n",
    "\n",
    "We can easily extract all this information from the timestamp."
   ]
  },
  {
   "cell_type": "code",
   "execution_count": 15,
   "metadata": {},
   "outputs": [],
   "source": [
    "data['day'] = data['timestamp'].dt.day\n",
    "data['month'] = data['timestamp'].dt.month\n",
    "data['hour_min'] = data['timestamp'].dt.hour + data['timestamp'].dt.minute / 60\n",
    "\n",
    "data['day_of_week'] = data['timestamp'].dt.dayofweek\n",
    "data['holiday'] = 0\n",
    "data.loc[(data['day'] == 25) & (data['month'] == 12),'holiday'] = 1  # Christmas\n",
    "data.loc[(data['day'] == 1) & (data['month'] == 1),'holiday'] = 1  # New Year's Day"
   ]
  },
  {
   "cell_type": "code",
   "execution_count": 16,
   "metadata": {},
   "outputs": [
    {
     "data": {
      "text/html": [
       "<div>\n",
       "<style scoped>\n",
       "    .dataframe tbody tr th:only-of-type {\n",
       "        vertical-align: middle;\n",
       "    }\n",
       "\n",
       "    .dataframe tbody tr th {\n",
       "        vertical-align: top;\n",
       "    }\n",
       "\n",
       "    .dataframe thead th {\n",
       "        text-align: right;\n",
       "    }\n",
       "</style>\n",
       "<table border=\"1\" class=\"dataframe\">\n",
       "  <thead>\n",
       "    <tr style=\"text-align: right;\">\n",
       "      <th></th>\n",
       "      <th>timestamp</th>\n",
       "      <th>value</th>\n",
       "      <th>day</th>\n",
       "      <th>month</th>\n",
       "      <th>hour_min</th>\n",
       "      <th>day_of_week</th>\n",
       "      <th>holiday</th>\n",
       "    </tr>\n",
       "  </thead>\n",
       "  <tbody>\n",
       "    <tr>\n",
       "      <th>0</th>\n",
       "      <td>2013-12-02 21:15:00</td>\n",
       "      <td>73.967322</td>\n",
       "      <td>2</td>\n",
       "      <td>12</td>\n",
       "      <td>21.250000</td>\n",
       "      <td>0</td>\n",
       "      <td>0</td>\n",
       "    </tr>\n",
       "    <tr>\n",
       "      <th>1</th>\n",
       "      <td>2013-12-02 21:20:00</td>\n",
       "      <td>74.935882</td>\n",
       "      <td>2</td>\n",
       "      <td>12</td>\n",
       "      <td>21.333333</td>\n",
       "      <td>0</td>\n",
       "      <td>0</td>\n",
       "    </tr>\n",
       "    <tr>\n",
       "      <th>2</th>\n",
       "      <td>2013-12-02 21:25:00</td>\n",
       "      <td>76.124162</td>\n",
       "      <td>2</td>\n",
       "      <td>12</td>\n",
       "      <td>21.416667</td>\n",
       "      <td>0</td>\n",
       "      <td>0</td>\n",
       "    </tr>\n",
       "    <tr>\n",
       "      <th>3</th>\n",
       "      <td>2013-12-02 21:30:00</td>\n",
       "      <td>78.140707</td>\n",
       "      <td>2</td>\n",
       "      <td>12</td>\n",
       "      <td>21.500000</td>\n",
       "      <td>0</td>\n",
       "      <td>0</td>\n",
       "    </tr>\n",
       "    <tr>\n",
       "      <th>4</th>\n",
       "      <td>2013-12-02 21:35:00</td>\n",
       "      <td>79.329836</td>\n",
       "      <td>2</td>\n",
       "      <td>12</td>\n",
       "      <td>21.583333</td>\n",
       "      <td>0</td>\n",
       "      <td>0</td>\n",
       "    </tr>\n",
       "  </tbody>\n",
       "</table>\n",
       "</div>"
      ],
      "text/plain": [
       "            timestamp      value  day  month   hour_min  day_of_week  holiday\n",
       "0 2013-12-02 21:15:00  73.967322    2     12  21.250000            0        0\n",
       "1 2013-12-02 21:20:00  74.935882    2     12  21.333333            0        0\n",
       "2 2013-12-02 21:25:00  76.124162    2     12  21.416667            0        0\n",
       "3 2013-12-02 21:30:00  78.140707    2     12  21.500000            0        0\n",
       "4 2013-12-02 21:35:00  79.329836    2     12  21.583333            0        0"
      ]
     },
     "execution_count": 16,
     "metadata": {},
     "output_type": "execute_result"
    }
   ],
   "source": [
    "data.head()"
   ]
  },
  {
   "cell_type": "code",
   "execution_count": 17,
   "metadata": {},
   "outputs": [
    {
     "data": {
      "text/plain": [
       "array([datetime.date(2013, 12, 25), datetime.date(2014, 1, 1)],\n",
       "      dtype=object)"
      ]
     },
     "execution_count": 17,
     "metadata": {},
     "output_type": "execute_result"
    }
   ],
   "source": [
    "holidays = data.loc[data['holiday'] == 1, 'timestamp'].dt.date.unique()\n",
    "holidays"
   ]
  },
  {
   "cell_type": "markdown",
   "metadata": {},
   "source": [
    "We add two temporary columns to compute the distance in days to or from each holiday."
   ]
  },
  {
   "cell_type": "code",
   "execution_count": 18,
   "metadata": {},
   "outputs": [],
   "source": [
    "for i, hd in enumerate(holidays):\n",
    "    data['hol_' + str(i)] = data['timestamp'].dt.date - hd"
   ]
  },
  {
   "cell_type": "code",
   "execution_count": 19,
   "metadata": {},
   "outputs": [
    {
     "data": {
      "text/html": [
       "<div>\n",
       "<style scoped>\n",
       "    .dataframe tbody tr th:only-of-type {\n",
       "        vertical-align: middle;\n",
       "    }\n",
       "\n",
       "    .dataframe tbody tr th {\n",
       "        vertical-align: top;\n",
       "    }\n",
       "\n",
       "    .dataframe thead th {\n",
       "        text-align: right;\n",
       "    }\n",
       "</style>\n",
       "<table border=\"1\" class=\"dataframe\">\n",
       "  <thead>\n",
       "    <tr style=\"text-align: right;\">\n",
       "      <th></th>\n",
       "      <th>timestamp</th>\n",
       "      <th>value</th>\n",
       "      <th>day</th>\n",
       "      <th>month</th>\n",
       "      <th>hour_min</th>\n",
       "      <th>day_of_week</th>\n",
       "      <th>holiday</th>\n",
       "      <th>hol_0</th>\n",
       "      <th>hol_1</th>\n",
       "    </tr>\n",
       "  </thead>\n",
       "  <tbody>\n",
       "    <tr>\n",
       "      <th>0</th>\n",
       "      <td>2013-12-02 21:15:00</td>\n",
       "      <td>73.967322</td>\n",
       "      <td>2</td>\n",
       "      <td>12</td>\n",
       "      <td>21.250000</td>\n",
       "      <td>0</td>\n",
       "      <td>0</td>\n",
       "      <td>-23 days</td>\n",
       "      <td>-30 days</td>\n",
       "    </tr>\n",
       "    <tr>\n",
       "      <th>1</th>\n",
       "      <td>2013-12-02 21:20:00</td>\n",
       "      <td>74.935882</td>\n",
       "      <td>2</td>\n",
       "      <td>12</td>\n",
       "      <td>21.333333</td>\n",
       "      <td>0</td>\n",
       "      <td>0</td>\n",
       "      <td>-23 days</td>\n",
       "      <td>-30 days</td>\n",
       "    </tr>\n",
       "    <tr>\n",
       "      <th>2</th>\n",
       "      <td>2013-12-02 21:25:00</td>\n",
       "      <td>76.124162</td>\n",
       "      <td>2</td>\n",
       "      <td>12</td>\n",
       "      <td>21.416667</td>\n",
       "      <td>0</td>\n",
       "      <td>0</td>\n",
       "      <td>-23 days</td>\n",
       "      <td>-30 days</td>\n",
       "    </tr>\n",
       "    <tr>\n",
       "      <th>3</th>\n",
       "      <td>2013-12-02 21:30:00</td>\n",
       "      <td>78.140707</td>\n",
       "      <td>2</td>\n",
       "      <td>12</td>\n",
       "      <td>21.500000</td>\n",
       "      <td>0</td>\n",
       "      <td>0</td>\n",
       "      <td>-23 days</td>\n",
       "      <td>-30 days</td>\n",
       "    </tr>\n",
       "    <tr>\n",
       "      <th>4</th>\n",
       "      <td>2013-12-02 21:35:00</td>\n",
       "      <td>79.329836</td>\n",
       "      <td>2</td>\n",
       "      <td>12</td>\n",
       "      <td>21.583333</td>\n",
       "      <td>0</td>\n",
       "      <td>0</td>\n",
       "      <td>-23 days</td>\n",
       "      <td>-30 days</td>\n",
       "    </tr>\n",
       "  </tbody>\n",
       "</table>\n",
       "</div>"
      ],
      "text/plain": [
       "            timestamp      value  day  month   hour_min  day_of_week  holiday  \\\n",
       "0 2013-12-02 21:15:00  73.967322    2     12  21.250000            0        0   \n",
       "1 2013-12-02 21:20:00  74.935882    2     12  21.333333            0        0   \n",
       "2 2013-12-02 21:25:00  76.124162    2     12  21.416667            0        0   \n",
       "3 2013-12-02 21:30:00  78.140707    2     12  21.500000            0        0   \n",
       "4 2013-12-02 21:35:00  79.329836    2     12  21.583333            0        0   \n",
       "\n",
       "     hol_0    hol_1  \n",
       "0 -23 days -30 days  \n",
       "1 -23 days -30 days  \n",
       "2 -23 days -30 days  \n",
       "3 -23 days -30 days  \n",
       "4 -23 days -30 days  "
      ]
     },
     "execution_count": 19,
     "metadata": {},
     "output_type": "execute_result"
    }
   ],
   "source": [
    "data.head()"
   ]
  },
  {
   "cell_type": "markdown",
   "metadata": {},
   "source": [
    "We are interested by the proximity to or from any holiday, so we want only the shortest gap:"
   ]
  },
  {
   "cell_type": "code",
   "execution_count": 20,
   "metadata": {},
   "outputs": [],
   "source": [
    "for i in range(data.shape[0]):\n",
    "    if np.abs(data.loc[data.index[i], 'hol_0']) <= np.abs(data.loc[data.index[i], 'hol_1']):\n",
    "        data.loc[data.index[i], 'gap_holiday'] = data.loc[data.index[i], 'hol_0']\n",
    "    else:\n",
    "        data.loc[data.index[i], 'gap_holiday'] = data.loc[data.index[i], 'hol_1']"
   ]
  },
  {
   "cell_type": "code",
   "execution_count": 21,
   "metadata": {},
   "outputs": [
    {
     "data": {
      "text/html": [
       "<div>\n",
       "<style scoped>\n",
       "    .dataframe tbody tr th:only-of-type {\n",
       "        vertical-align: middle;\n",
       "    }\n",
       "\n",
       "    .dataframe tbody tr th {\n",
       "        vertical-align: top;\n",
       "    }\n",
       "\n",
       "    .dataframe thead th {\n",
       "        text-align: right;\n",
       "    }\n",
       "</style>\n",
       "<table border=\"1\" class=\"dataframe\">\n",
       "  <thead>\n",
       "    <tr style=\"text-align: right;\">\n",
       "      <th></th>\n",
       "      <th>timestamp</th>\n",
       "      <th>value</th>\n",
       "      <th>day</th>\n",
       "      <th>month</th>\n",
       "      <th>hour_min</th>\n",
       "      <th>day_of_week</th>\n",
       "      <th>holiday</th>\n",
       "      <th>hol_0</th>\n",
       "      <th>hol_1</th>\n",
       "      <th>gap_holiday</th>\n",
       "    </tr>\n",
       "  </thead>\n",
       "  <tbody>\n",
       "    <tr>\n",
       "      <th>0</th>\n",
       "      <td>2013-12-02 21:15:00</td>\n",
       "      <td>73.967322</td>\n",
       "      <td>2</td>\n",
       "      <td>12</td>\n",
       "      <td>21.250000</td>\n",
       "      <td>0</td>\n",
       "      <td>0</td>\n",
       "      <td>-23 days</td>\n",
       "      <td>-30 days</td>\n",
       "      <td>-23 days</td>\n",
       "    </tr>\n",
       "    <tr>\n",
       "      <th>1</th>\n",
       "      <td>2013-12-02 21:20:00</td>\n",
       "      <td>74.935882</td>\n",
       "      <td>2</td>\n",
       "      <td>12</td>\n",
       "      <td>21.333333</td>\n",
       "      <td>0</td>\n",
       "      <td>0</td>\n",
       "      <td>-23 days</td>\n",
       "      <td>-30 days</td>\n",
       "      <td>-23 days</td>\n",
       "    </tr>\n",
       "    <tr>\n",
       "      <th>2</th>\n",
       "      <td>2013-12-02 21:25:00</td>\n",
       "      <td>76.124162</td>\n",
       "      <td>2</td>\n",
       "      <td>12</td>\n",
       "      <td>21.416667</td>\n",
       "      <td>0</td>\n",
       "      <td>0</td>\n",
       "      <td>-23 days</td>\n",
       "      <td>-30 days</td>\n",
       "      <td>-23 days</td>\n",
       "    </tr>\n",
       "    <tr>\n",
       "      <th>3</th>\n",
       "      <td>2013-12-02 21:30:00</td>\n",
       "      <td>78.140707</td>\n",
       "      <td>2</td>\n",
       "      <td>12</td>\n",
       "      <td>21.500000</td>\n",
       "      <td>0</td>\n",
       "      <td>0</td>\n",
       "      <td>-23 days</td>\n",
       "      <td>-30 days</td>\n",
       "      <td>-23 days</td>\n",
       "    </tr>\n",
       "    <tr>\n",
       "      <th>4</th>\n",
       "      <td>2013-12-02 21:35:00</td>\n",
       "      <td>79.329836</td>\n",
       "      <td>2</td>\n",
       "      <td>12</td>\n",
       "      <td>21.583333</td>\n",
       "      <td>0</td>\n",
       "      <td>0</td>\n",
       "      <td>-23 days</td>\n",
       "      <td>-30 days</td>\n",
       "      <td>-23 days</td>\n",
       "    </tr>\n",
       "  </tbody>\n",
       "</table>\n",
       "</div>"
      ],
      "text/plain": [
       "            timestamp      value  day  month   hour_min  day_of_week  holiday  \\\n",
       "0 2013-12-02 21:15:00  73.967322    2     12  21.250000            0        0   \n",
       "1 2013-12-02 21:20:00  74.935882    2     12  21.333333            0        0   \n",
       "2 2013-12-02 21:25:00  76.124162    2     12  21.416667            0        0   \n",
       "3 2013-12-02 21:30:00  78.140707    2     12  21.500000            0        0   \n",
       "4 2013-12-02 21:35:00  79.329836    2     12  21.583333            0        0   \n",
       "\n",
       "     hol_0    hol_1 gap_holiday  \n",
       "0 -23 days -30 days    -23 days  \n",
       "1 -23 days -30 days    -23 days  \n",
       "2 -23 days -30 days    -23 days  \n",
       "3 -23 days -30 days    -23 days  \n",
       "4 -23 days -30 days    -23 days  "
      ]
     },
     "execution_count": 21,
     "metadata": {},
     "output_type": "execute_result"
    }
   ],
   "source": [
    "data.head()"
   ]
  },
  {
   "cell_type": "code",
   "execution_count": 22,
   "metadata": {},
   "outputs": [],
   "source": [
    "data['gap_holiday'] = data['gap_holiday'].astype('timedelta64[D]')"
   ]
  },
  {
   "cell_type": "code",
   "execution_count": 23,
   "metadata": {},
   "outputs": [
    {
     "data": {
      "text/html": [
       "<div>\n",
       "<style scoped>\n",
       "    .dataframe tbody tr th:only-of-type {\n",
       "        vertical-align: middle;\n",
       "    }\n",
       "\n",
       "    .dataframe tbody tr th {\n",
       "        vertical-align: top;\n",
       "    }\n",
       "\n",
       "    .dataframe thead th {\n",
       "        text-align: right;\n",
       "    }\n",
       "</style>\n",
       "<table border=\"1\" class=\"dataframe\">\n",
       "  <thead>\n",
       "    <tr style=\"text-align: right;\">\n",
       "      <th></th>\n",
       "      <th>timestamp</th>\n",
       "      <th>value</th>\n",
       "      <th>day</th>\n",
       "      <th>month</th>\n",
       "      <th>hour_min</th>\n",
       "      <th>day_of_week</th>\n",
       "      <th>holiday</th>\n",
       "      <th>hol_0</th>\n",
       "      <th>hol_1</th>\n",
       "      <th>gap_holiday</th>\n",
       "    </tr>\n",
       "  </thead>\n",
       "  <tbody>\n",
       "    <tr>\n",
       "      <th>0</th>\n",
       "      <td>2013-12-02 21:15:00</td>\n",
       "      <td>73.967322</td>\n",
       "      <td>2</td>\n",
       "      <td>12</td>\n",
       "      <td>21.250000</td>\n",
       "      <td>0</td>\n",
       "      <td>0</td>\n",
       "      <td>-23 days</td>\n",
       "      <td>-30 days</td>\n",
       "      <td>-23.0</td>\n",
       "    </tr>\n",
       "    <tr>\n",
       "      <th>1</th>\n",
       "      <td>2013-12-02 21:20:00</td>\n",
       "      <td>74.935882</td>\n",
       "      <td>2</td>\n",
       "      <td>12</td>\n",
       "      <td>21.333333</td>\n",
       "      <td>0</td>\n",
       "      <td>0</td>\n",
       "      <td>-23 days</td>\n",
       "      <td>-30 days</td>\n",
       "      <td>-23.0</td>\n",
       "    </tr>\n",
       "    <tr>\n",
       "      <th>2</th>\n",
       "      <td>2013-12-02 21:25:00</td>\n",
       "      <td>76.124162</td>\n",
       "      <td>2</td>\n",
       "      <td>12</td>\n",
       "      <td>21.416667</td>\n",
       "      <td>0</td>\n",
       "      <td>0</td>\n",
       "      <td>-23 days</td>\n",
       "      <td>-30 days</td>\n",
       "      <td>-23.0</td>\n",
       "    </tr>\n",
       "    <tr>\n",
       "      <th>3</th>\n",
       "      <td>2013-12-02 21:30:00</td>\n",
       "      <td>78.140707</td>\n",
       "      <td>2</td>\n",
       "      <td>12</td>\n",
       "      <td>21.500000</td>\n",
       "      <td>0</td>\n",
       "      <td>0</td>\n",
       "      <td>-23 days</td>\n",
       "      <td>-30 days</td>\n",
       "      <td>-23.0</td>\n",
       "    </tr>\n",
       "    <tr>\n",
       "      <th>4</th>\n",
       "      <td>2013-12-02 21:35:00</td>\n",
       "      <td>79.329836</td>\n",
       "      <td>2</td>\n",
       "      <td>12</td>\n",
       "      <td>21.583333</td>\n",
       "      <td>0</td>\n",
       "      <td>0</td>\n",
       "      <td>-23 days</td>\n",
       "      <td>-30 days</td>\n",
       "      <td>-23.0</td>\n",
       "    </tr>\n",
       "  </tbody>\n",
       "</table>\n",
       "</div>"
      ],
      "text/plain": [
       "            timestamp      value  day  month   hour_min  day_of_week  holiday  \\\n",
       "0 2013-12-02 21:15:00  73.967322    2     12  21.250000            0        0   \n",
       "1 2013-12-02 21:20:00  74.935882    2     12  21.333333            0        0   \n",
       "2 2013-12-02 21:25:00  76.124162    2     12  21.416667            0        0   \n",
       "3 2013-12-02 21:30:00  78.140707    2     12  21.500000            0        0   \n",
       "4 2013-12-02 21:35:00  79.329836    2     12  21.583333            0        0   \n",
       "\n",
       "     hol_0    hol_1  gap_holiday  \n",
       "0 -23 days -30 days        -23.0  \n",
       "1 -23 days -30 days        -23.0  \n",
       "2 -23 days -30 days        -23.0  \n",
       "3 -23 days -30 days        -23.0  \n",
       "4 -23 days -30 days        -23.0  "
      ]
     },
     "execution_count": 23,
     "metadata": {},
     "output_type": "execute_result"
    }
   ],
   "source": [
    "data.head()"
   ]
  },
  {
   "cell_type": "markdown",
   "metadata": {},
   "source": [
    "We no longer need the temporary columns:"
   ]
  },
  {
   "cell_type": "code",
   "execution_count": 24,
   "metadata": {},
   "outputs": [],
   "source": [
    "data.drop(['hol_0', 'hol_1'], axis=1, inplace=True)"
   ]
  },
  {
   "cell_type": "code",
   "execution_count": 25,
   "metadata": {},
   "outputs": [
    {
     "data": {
      "text/html": [
       "<div>\n",
       "<style scoped>\n",
       "    .dataframe tbody tr th:only-of-type {\n",
       "        vertical-align: middle;\n",
       "    }\n",
       "\n",
       "    .dataframe tbody tr th {\n",
       "        vertical-align: top;\n",
       "    }\n",
       "\n",
       "    .dataframe thead th {\n",
       "        text-align: right;\n",
       "    }\n",
       "</style>\n",
       "<table border=\"1\" class=\"dataframe\">\n",
       "  <thead>\n",
       "    <tr style=\"text-align: right;\">\n",
       "      <th></th>\n",
       "      <th>timestamp</th>\n",
       "      <th>value</th>\n",
       "      <th>day</th>\n",
       "      <th>month</th>\n",
       "      <th>hour_min</th>\n",
       "      <th>day_of_week</th>\n",
       "      <th>holiday</th>\n",
       "      <th>gap_holiday</th>\n",
       "    </tr>\n",
       "  </thead>\n",
       "  <tbody>\n",
       "    <tr>\n",
       "      <th>0</th>\n",
       "      <td>2013-12-02 21:15:00</td>\n",
       "      <td>73.967322</td>\n",
       "      <td>2</td>\n",
       "      <td>12</td>\n",
       "      <td>21.250000</td>\n",
       "      <td>0</td>\n",
       "      <td>0</td>\n",
       "      <td>-23.0</td>\n",
       "    </tr>\n",
       "    <tr>\n",
       "      <th>1</th>\n",
       "      <td>2013-12-02 21:20:00</td>\n",
       "      <td>74.935882</td>\n",
       "      <td>2</td>\n",
       "      <td>12</td>\n",
       "      <td>21.333333</td>\n",
       "      <td>0</td>\n",
       "      <td>0</td>\n",
       "      <td>-23.0</td>\n",
       "    </tr>\n",
       "    <tr>\n",
       "      <th>2</th>\n",
       "      <td>2013-12-02 21:25:00</td>\n",
       "      <td>76.124162</td>\n",
       "      <td>2</td>\n",
       "      <td>12</td>\n",
       "      <td>21.416667</td>\n",
       "      <td>0</td>\n",
       "      <td>0</td>\n",
       "      <td>-23.0</td>\n",
       "    </tr>\n",
       "    <tr>\n",
       "      <th>3</th>\n",
       "      <td>2013-12-02 21:30:00</td>\n",
       "      <td>78.140707</td>\n",
       "      <td>2</td>\n",
       "      <td>12</td>\n",
       "      <td>21.500000</td>\n",
       "      <td>0</td>\n",
       "      <td>0</td>\n",
       "      <td>-23.0</td>\n",
       "    </tr>\n",
       "    <tr>\n",
       "      <th>4</th>\n",
       "      <td>2013-12-02 21:35:00</td>\n",
       "      <td>79.329836</td>\n",
       "      <td>2</td>\n",
       "      <td>12</td>\n",
       "      <td>21.583333</td>\n",
       "      <td>0</td>\n",
       "      <td>0</td>\n",
       "      <td>-23.0</td>\n",
       "    </tr>\n",
       "  </tbody>\n",
       "</table>\n",
       "</div>"
      ],
      "text/plain": [
       "            timestamp      value  day  month   hour_min  day_of_week  holiday  \\\n",
       "0 2013-12-02 21:15:00  73.967322    2     12  21.250000            0        0   \n",
       "1 2013-12-02 21:20:00  74.935882    2     12  21.333333            0        0   \n",
       "2 2013-12-02 21:25:00  76.124162    2     12  21.416667            0        0   \n",
       "3 2013-12-02 21:30:00  78.140707    2     12  21.500000            0        0   \n",
       "4 2013-12-02 21:35:00  79.329836    2     12  21.583333            0        0   \n",
       "\n",
       "   gap_holiday  \n",
       "0        -23.0  \n",
       "1        -23.0  \n",
       "2        -23.0  \n",
       "3        -23.0  \n",
       "4        -23.0  "
      ]
     },
     "execution_count": 25,
     "metadata": {},
     "output_type": "execute_result"
    }
   ],
   "source": [
    "data.head()"
   ]
  },
  {
   "cell_type": "markdown",
   "metadata": {},
   "source": [
    "Finally, we convert the timestamp into something easier to plot."
   ]
  },
  {
   "cell_type": "code",
   "execution_count": 26,
   "metadata": {},
   "outputs": [
    {
     "data": {
      "text/html": [
       "<div>\n",
       "<style scoped>\n",
       "    .dataframe tbody tr th:only-of-type {\n",
       "        vertical-align: middle;\n",
       "    }\n",
       "\n",
       "    .dataframe tbody tr th {\n",
       "        vertical-align: top;\n",
       "    }\n",
       "\n",
       "    .dataframe thead th {\n",
       "        text-align: right;\n",
       "    }\n",
       "</style>\n",
       "<table border=\"1\" class=\"dataframe\">\n",
       "  <thead>\n",
       "    <tr style=\"text-align: right;\">\n",
       "      <th></th>\n",
       "      <th>value</th>\n",
       "      <th>day</th>\n",
       "      <th>month</th>\n",
       "      <th>hour_min</th>\n",
       "      <th>day_of_week</th>\n",
       "      <th>holiday</th>\n",
       "      <th>gap_holiday</th>\n",
       "      <th>t</th>\n",
       "    </tr>\n",
       "  </thead>\n",
       "  <tbody>\n",
       "    <tr>\n",
       "      <th>0</th>\n",
       "      <td>73.967322</td>\n",
       "      <td>2</td>\n",
       "      <td>12</td>\n",
       "      <td>21.250000</td>\n",
       "      <td>0</td>\n",
       "      <td>0</td>\n",
       "      <td>-23.0</td>\n",
       "      <td>13860189</td>\n",
       "    </tr>\n",
       "    <tr>\n",
       "      <th>1</th>\n",
       "      <td>74.935882</td>\n",
       "      <td>2</td>\n",
       "      <td>12</td>\n",
       "      <td>21.333333</td>\n",
       "      <td>0</td>\n",
       "      <td>0</td>\n",
       "      <td>-23.0</td>\n",
       "      <td>13860192</td>\n",
       "    </tr>\n",
       "    <tr>\n",
       "      <th>2</th>\n",
       "      <td>76.124162</td>\n",
       "      <td>2</td>\n",
       "      <td>12</td>\n",
       "      <td>21.416667</td>\n",
       "      <td>0</td>\n",
       "      <td>0</td>\n",
       "      <td>-23.0</td>\n",
       "      <td>13860195</td>\n",
       "    </tr>\n",
       "    <tr>\n",
       "      <th>3</th>\n",
       "      <td>78.140707</td>\n",
       "      <td>2</td>\n",
       "      <td>12</td>\n",
       "      <td>21.500000</td>\n",
       "      <td>0</td>\n",
       "      <td>0</td>\n",
       "      <td>-23.0</td>\n",
       "      <td>13860198</td>\n",
       "    </tr>\n",
       "    <tr>\n",
       "      <th>4</th>\n",
       "      <td>79.329836</td>\n",
       "      <td>2</td>\n",
       "      <td>12</td>\n",
       "      <td>21.583333</td>\n",
       "      <td>0</td>\n",
       "      <td>0</td>\n",
       "      <td>-23.0</td>\n",
       "      <td>13860201</td>\n",
       "    </tr>\n",
       "    <tr>\n",
       "      <th>...</th>\n",
       "      <td>...</td>\n",
       "      <td>...</td>\n",
       "      <td>...</td>\n",
       "      <td>...</td>\n",
       "      <td>...</td>\n",
       "      <td>...</td>\n",
       "      <td>...</td>\n",
       "      <td>...</td>\n",
       "    </tr>\n",
       "    <tr>\n",
       "      <th>22690</th>\n",
       "      <td>98.185415</td>\n",
       "      <td>19</td>\n",
       "      <td>2</td>\n",
       "      <td>15.083333</td>\n",
       "      <td>2</td>\n",
       "      <td>0</td>\n",
       "      <td>49.0</td>\n",
       "      <td>13928223</td>\n",
       "    </tr>\n",
       "    <tr>\n",
       "      <th>22691</th>\n",
       "      <td>97.804168</td>\n",
       "      <td>19</td>\n",
       "      <td>2</td>\n",
       "      <td>15.166667</td>\n",
       "      <td>2</td>\n",
       "      <td>0</td>\n",
       "      <td>49.0</td>\n",
       "      <td>13928226</td>\n",
       "    </tr>\n",
       "    <tr>\n",
       "      <th>22692</th>\n",
       "      <td>97.135468</td>\n",
       "      <td>19</td>\n",
       "      <td>2</td>\n",
       "      <td>15.250000</td>\n",
       "      <td>2</td>\n",
       "      <td>0</td>\n",
       "      <td>49.0</td>\n",
       "      <td>13928229</td>\n",
       "    </tr>\n",
       "    <tr>\n",
       "      <th>22693</th>\n",
       "      <td>98.056852</td>\n",
       "      <td>19</td>\n",
       "      <td>2</td>\n",
       "      <td>15.333333</td>\n",
       "      <td>2</td>\n",
       "      <td>0</td>\n",
       "      <td>49.0</td>\n",
       "      <td>13928232</td>\n",
       "    </tr>\n",
       "    <tr>\n",
       "      <th>22694</th>\n",
       "      <td>96.903861</td>\n",
       "      <td>19</td>\n",
       "      <td>2</td>\n",
       "      <td>15.416667</td>\n",
       "      <td>2</td>\n",
       "      <td>0</td>\n",
       "      <td>49.0</td>\n",
       "      <td>13928235</td>\n",
       "    </tr>\n",
       "  </tbody>\n",
       "</table>\n",
       "<p>22695 rows × 8 columns</p>\n",
       "</div>"
      ],
      "text/plain": [
       "           value  day  month   hour_min  day_of_week  holiday  gap_holiday  \\\n",
       "0      73.967322    2     12  21.250000            0        0        -23.0   \n",
       "1      74.935882    2     12  21.333333            0        0        -23.0   \n",
       "2      76.124162    2     12  21.416667            0        0        -23.0   \n",
       "3      78.140707    2     12  21.500000            0        0        -23.0   \n",
       "4      79.329836    2     12  21.583333            0        0        -23.0   \n",
       "...          ...  ...    ...        ...          ...      ...          ...   \n",
       "22690  98.185415   19      2  15.083333            2        0         49.0   \n",
       "22691  97.804168   19      2  15.166667            2        0         49.0   \n",
       "22692  97.135468   19      2  15.250000            2        0         49.0   \n",
       "22693  98.056852   19      2  15.333333            2        0         49.0   \n",
       "22694  96.903861   19      2  15.416667            2        0         49.0   \n",
       "\n",
       "              t  \n",
       "0      13860189  \n",
       "1      13860192  \n",
       "2      13860195  \n",
       "3      13860198  \n",
       "4      13860201  \n",
       "...         ...  \n",
       "22690  13928223  \n",
       "22691  13928226  \n",
       "22692  13928229  \n",
       "22693  13928232  \n",
       "22694  13928235  \n",
       "\n",
       "[22695 rows x 8 columns]"
      ]
     },
     "execution_count": 26,
     "metadata": {},
     "output_type": "execute_result"
    }
   ],
   "source": [
    "data['t'] = (data['timestamp'].astype(np.int64)/1e11).astype(np.int64)\n",
    "data.drop('timestamp', axis=1, inplace=True)\n",
    "data"
   ]
  },
  {
   "cell_type": "code",
   "execution_count": 81,
   "metadata": {},
   "outputs": [
    {
     "data": {
      "text/html": [
       "<div>\n",
       "<style scoped>\n",
       "    .dataframe tbody tr th:only-of-type {\n",
       "        vertical-align: middle;\n",
       "    }\n",
       "\n",
       "    .dataframe tbody tr th {\n",
       "        vertical-align: top;\n",
       "    }\n",
       "\n",
       "    .dataframe thead th {\n",
       "        text-align: right;\n",
       "    }\n",
       "</style>\n",
       "<table border=\"1\" class=\"dataframe\">\n",
       "  <thead>\n",
       "    <tr style=\"text-align: right;\">\n",
       "      <th></th>\n",
       "      <th>uid</th>\n",
       "      <th>type</th>\n",
       "      <th>ifpic</th>\n",
       "      <th>r1</th>\n",
       "      <th>r2</th>\n",
       "      <th>r3</th>\n",
       "      <th>g1</th>\n",
       "      <th>g2</th>\n",
       "      <th>g3</th>\n",
       "      <th>b1</th>\n",
       "      <th>b2</th>\n",
       "      <th>b3</th>\n",
       "      <th>asm</th>\n",
       "      <th>con</th>\n",
       "      <th>eng</th>\n",
       "      <th>idm</th>\n",
       "    </tr>\n",
       "  </thead>\n",
       "  <tbody>\n",
       "    <tr>\n",
       "      <th>0</th>\n",
       "      <td>1</td>\n",
       "      <td>pri</td>\n",
       "      <td>1</td>\n",
       "      <td>166.841925</td>\n",
       "      <td>63.446047</td>\n",
       "      <td>-62.451236</td>\n",
       "      <td>158.253300</td>\n",
       "      <td>63.790080</td>\n",
       "      <td>-66.556483</td>\n",
       "      <td>156.180375</td>\n",
       "      <td>63.584990</td>\n",
       "      <td>-65.435522</td>\n",
       "      <td>0.179038</td>\n",
       "      <td>2.5806</td>\n",
       "      <td>2.895655</td>\n",
       "      <td>0.843625</td>\n",
       "    </tr>\n",
       "    <tr>\n",
       "      <th>1</th>\n",
       "      <td>12</td>\n",
       "      <td>pri</td>\n",
       "      <td>1</td>\n",
       "      <td>111.179400</td>\n",
       "      <td>62.839314</td>\n",
       "      <td>-49.312123</td>\n",
       "      <td>155.679775</td>\n",
       "      <td>55.865453</td>\n",
       "      <td>-58.168950</td>\n",
       "      <td>187.076875</td>\n",
       "      <td>57.550191</td>\n",
       "      <td>-67.406039</td>\n",
       "      <td>0.049059</td>\n",
       "      <td>4.2790</td>\n",
       "      <td>3.882789</td>\n",
       "      <td>0.663226</td>\n",
       "    </tr>\n",
       "    <tr>\n",
       "      <th>2</th>\n",
       "      <td>18</td>\n",
       "      <td>pri</td>\n",
       "      <td>0</td>\n",
       "      <td>0.000000</td>\n",
       "      <td>0.000000</td>\n",
       "      <td>0.000000</td>\n",
       "      <td>0.000000</td>\n",
       "      <td>0.000000</td>\n",
       "      <td>0.000000</td>\n",
       "      <td>0.000000</td>\n",
       "      <td>0.000000</td>\n",
       "      <td>0.000000</td>\n",
       "      <td>0.000000</td>\n",
       "      <td>0.0000</td>\n",
       "      <td>0.000000</td>\n",
       "      <td>0.000000</td>\n",
       "    </tr>\n",
       "    <tr>\n",
       "      <th>3</th>\n",
       "      <td>22</td>\n",
       "      <td>pri</td>\n",
       "      <td>0</td>\n",
       "      <td>0.000000</td>\n",
       "      <td>0.000000</td>\n",
       "      <td>0.000000</td>\n",
       "      <td>0.000000</td>\n",
       "      <td>0.000000</td>\n",
       "      <td>0.000000</td>\n",
       "      <td>0.000000</td>\n",
       "      <td>0.000000</td>\n",
       "      <td>0.000000</td>\n",
       "      <td>0.000000</td>\n",
       "      <td>0.0000</td>\n",
       "      <td>0.000000</td>\n",
       "      <td>0.000000</td>\n",
       "    </tr>\n",
       "    <tr>\n",
       "      <th>4</th>\n",
       "      <td>35</td>\n",
       "      <td>pri</td>\n",
       "      <td>0</td>\n",
       "      <td>0.000000</td>\n",
       "      <td>0.000000</td>\n",
       "      <td>0.000000</td>\n",
       "      <td>0.000000</td>\n",
       "      <td>0.000000</td>\n",
       "      <td>0.000000</td>\n",
       "      <td>0.000000</td>\n",
       "      <td>0.000000</td>\n",
       "      <td>0.000000</td>\n",
       "      <td>0.000000</td>\n",
       "      <td>0.0000</td>\n",
       "      <td>0.000000</td>\n",
       "      <td>0.000000</td>\n",
       "    </tr>\n",
       "  </tbody>\n",
       "</table>\n",
       "</div>"
      ],
      "text/plain": [
       "   uid type  ifpic          r1         r2         r3          g1         g2  \\\n",
       "0    1  pri      1  166.841925  63.446047 -62.451236  158.253300  63.790080   \n",
       "1   12  pri      1  111.179400  62.839314 -49.312123  155.679775  55.865453   \n",
       "2   18  pri      0    0.000000   0.000000   0.000000    0.000000   0.000000   \n",
       "3   22  pri      0    0.000000   0.000000   0.000000    0.000000   0.000000   \n",
       "4   35  pri      0    0.000000   0.000000   0.000000    0.000000   0.000000   \n",
       "\n",
       "          g3          b1         b2         b3       asm     con       eng  \\\n",
       "0 -66.556483  156.180375  63.584990 -65.435522  0.179038  2.5806  2.895655   \n",
       "1 -58.168950  187.076875  57.550191 -67.406039  0.049059  4.2790  3.882789   \n",
       "2   0.000000    0.000000   0.000000   0.000000  0.000000  0.0000  0.000000   \n",
       "3   0.000000    0.000000   0.000000   0.000000  0.000000  0.0000  0.000000   \n",
       "4   0.000000    0.000000   0.000000   0.000000  0.000000  0.0000  0.000000   \n",
       "\n",
       "        idm  \n",
       "0  0.843625  \n",
       "1  0.663226  \n",
       "2  0.000000  \n",
       "3  0.000000  \n",
       "4  0.000000  "
      ]
     },
     "execution_count": 81,
     "metadata": {},
     "output_type": "execute_result"
    }
   ],
   "source": [
    "data0=raw_dt0\n",
    "data0.head()"
   ]
  },
  {
   "cell_type": "code",
   "execution_count": 27,
   "metadata": {},
   "outputs": [],
   "source": [
    "cont_vars = ['value', 'hour_min', 'gap_holiday', 't']\n",
    "cat_vars = ['day', 'month', 'day_of_week', 'holiday']"
   ]
  },
  {
   "cell_type": "code",
   "execution_count": 82,
   "metadata": {},
   "outputs": [],
   "source": [
    "cont_vars0 = ['r1','r2','r3','g1','g2','g3','b1','b2','b3','asm','con','eng','idm']\n",
    "cat_vars0 = ['type','ifpic']"
   ]
  },
  {
   "cell_type": "markdown",
   "metadata": {},
   "source": [
    "We now apply a Label Encoder to encode the categorical data from 0 to n, with n being the number of classes for the variable."
   ]
  },
  {
   "cell_type": "code",
   "execution_count": 28,
   "metadata": {},
   "outputs": [
    {
     "data": {
      "text/html": [
       "<div>\n",
       "<style scoped>\n",
       "    .dataframe tbody tr th:only-of-type {\n",
       "        vertical-align: middle;\n",
       "    }\n",
       "\n",
       "    .dataframe tbody tr th {\n",
       "        vertical-align: top;\n",
       "    }\n",
       "\n",
       "    .dataframe thead th {\n",
       "        text-align: right;\n",
       "    }\n",
       "</style>\n",
       "<table border=\"1\" class=\"dataframe\">\n",
       "  <thead>\n",
       "    <tr style=\"text-align: right;\">\n",
       "      <th></th>\n",
       "      <th>value</th>\n",
       "      <th>day</th>\n",
       "      <th>month</th>\n",
       "      <th>hour_min</th>\n",
       "      <th>day_of_week</th>\n",
       "      <th>holiday</th>\n",
       "      <th>gap_holiday</th>\n",
       "      <th>t</th>\n",
       "    </tr>\n",
       "  </thead>\n",
       "  <tbody>\n",
       "    <tr>\n",
       "      <th>0</th>\n",
       "      <td>73.967322</td>\n",
       "      <td>1</td>\n",
       "      <td>2</td>\n",
       "      <td>21.250000</td>\n",
       "      <td>0</td>\n",
       "      <td>0</td>\n",
       "      <td>-23.0</td>\n",
       "      <td>13860189</td>\n",
       "    </tr>\n",
       "    <tr>\n",
       "      <th>1</th>\n",
       "      <td>74.935882</td>\n",
       "      <td>1</td>\n",
       "      <td>2</td>\n",
       "      <td>21.333333</td>\n",
       "      <td>0</td>\n",
       "      <td>0</td>\n",
       "      <td>-23.0</td>\n",
       "      <td>13860192</td>\n",
       "    </tr>\n",
       "    <tr>\n",
       "      <th>2</th>\n",
       "      <td>76.124162</td>\n",
       "      <td>1</td>\n",
       "      <td>2</td>\n",
       "      <td>21.416667</td>\n",
       "      <td>0</td>\n",
       "      <td>0</td>\n",
       "      <td>-23.0</td>\n",
       "      <td>13860195</td>\n",
       "    </tr>\n",
       "    <tr>\n",
       "      <th>3</th>\n",
       "      <td>78.140707</td>\n",
       "      <td>1</td>\n",
       "      <td>2</td>\n",
       "      <td>21.500000</td>\n",
       "      <td>0</td>\n",
       "      <td>0</td>\n",
       "      <td>-23.0</td>\n",
       "      <td>13860198</td>\n",
       "    </tr>\n",
       "    <tr>\n",
       "      <th>4</th>\n",
       "      <td>79.329836</td>\n",
       "      <td>1</td>\n",
       "      <td>2</td>\n",
       "      <td>21.583333</td>\n",
       "      <td>0</td>\n",
       "      <td>0</td>\n",
       "      <td>-23.0</td>\n",
       "      <td>13860201</td>\n",
       "    </tr>\n",
       "    <tr>\n",
       "      <th>...</th>\n",
       "      <td>...</td>\n",
       "      <td>...</td>\n",
       "      <td>...</td>\n",
       "      <td>...</td>\n",
       "      <td>...</td>\n",
       "      <td>...</td>\n",
       "      <td>...</td>\n",
       "      <td>...</td>\n",
       "    </tr>\n",
       "    <tr>\n",
       "      <th>22690</th>\n",
       "      <td>98.185415</td>\n",
       "      <td>18</td>\n",
       "      <td>1</td>\n",
       "      <td>15.083333</td>\n",
       "      <td>2</td>\n",
       "      <td>0</td>\n",
       "      <td>49.0</td>\n",
       "      <td>13928223</td>\n",
       "    </tr>\n",
       "    <tr>\n",
       "      <th>22691</th>\n",
       "      <td>97.804168</td>\n",
       "      <td>18</td>\n",
       "      <td>1</td>\n",
       "      <td>15.166667</td>\n",
       "      <td>2</td>\n",
       "      <td>0</td>\n",
       "      <td>49.0</td>\n",
       "      <td>13928226</td>\n",
       "    </tr>\n",
       "    <tr>\n",
       "      <th>22692</th>\n",
       "      <td>97.135468</td>\n",
       "      <td>18</td>\n",
       "      <td>1</td>\n",
       "      <td>15.250000</td>\n",
       "      <td>2</td>\n",
       "      <td>0</td>\n",
       "      <td>49.0</td>\n",
       "      <td>13928229</td>\n",
       "    </tr>\n",
       "    <tr>\n",
       "      <th>22693</th>\n",
       "      <td>98.056852</td>\n",
       "      <td>18</td>\n",
       "      <td>1</td>\n",
       "      <td>15.333333</td>\n",
       "      <td>2</td>\n",
       "      <td>0</td>\n",
       "      <td>49.0</td>\n",
       "      <td>13928232</td>\n",
       "    </tr>\n",
       "    <tr>\n",
       "      <th>22694</th>\n",
       "      <td>96.903861</td>\n",
       "      <td>18</td>\n",
       "      <td>1</td>\n",
       "      <td>15.416667</td>\n",
       "      <td>2</td>\n",
       "      <td>0</td>\n",
       "      <td>49.0</td>\n",
       "      <td>13928235</td>\n",
       "    </tr>\n",
       "  </tbody>\n",
       "</table>\n",
       "<p>22695 rows × 8 columns</p>\n",
       "</div>"
      ],
      "text/plain": [
       "           value  day  month   hour_min  day_of_week  holiday  gap_holiday  \\\n",
       "0      73.967322    1      2  21.250000            0        0        -23.0   \n",
       "1      74.935882    1      2  21.333333            0        0        -23.0   \n",
       "2      76.124162    1      2  21.416667            0        0        -23.0   \n",
       "3      78.140707    1      2  21.500000            0        0        -23.0   \n",
       "4      79.329836    1      2  21.583333            0        0        -23.0   \n",
       "...          ...  ...    ...        ...          ...      ...          ...   \n",
       "22690  98.185415   18      1  15.083333            2        0         49.0   \n",
       "22691  97.804168   18      1  15.166667            2        0         49.0   \n",
       "22692  97.135468   18      1  15.250000            2        0         49.0   \n",
       "22693  98.056852   18      1  15.333333            2        0         49.0   \n",
       "22694  96.903861   18      1  15.416667            2        0         49.0   \n",
       "\n",
       "              t  \n",
       "0      13860189  \n",
       "1      13860192  \n",
       "2      13860195  \n",
       "3      13860198  \n",
       "4      13860201  \n",
       "...         ...  \n",
       "22690  13928223  \n",
       "22691  13928226  \n",
       "22692  13928229  \n",
       "22693  13928232  \n",
       "22694  13928235  \n",
       "\n",
       "[22695 rows x 8 columns]"
      ]
     },
     "execution_count": 28,
     "metadata": {},
     "output_type": "execute_result"
    }
   ],
   "source": [
    "from sklearn.preprocessing import LabelEncoder\n",
    "\n",
    "label_encoders = [LabelEncoder() for _ in cat_vars] \n",
    "for col, enc in zip(cat_vars, label_encoders):\n",
    "    data[col] = enc.fit_transform(data[col])\n",
    "    \n",
    "data"
   ]
  },
  {
   "cell_type": "code",
   "execution_count": 83,
   "metadata": {},
   "outputs": [
    {
     "data": {
      "text/html": [
       "<div>\n",
       "<style scoped>\n",
       "    .dataframe tbody tr th:only-of-type {\n",
       "        vertical-align: middle;\n",
       "    }\n",
       "\n",
       "    .dataframe tbody tr th {\n",
       "        vertical-align: top;\n",
       "    }\n",
       "\n",
       "    .dataframe thead th {\n",
       "        text-align: right;\n",
       "    }\n",
       "</style>\n",
       "<table border=\"1\" class=\"dataframe\">\n",
       "  <thead>\n",
       "    <tr style=\"text-align: right;\">\n",
       "      <th></th>\n",
       "      <th>uid</th>\n",
       "      <th>type</th>\n",
       "      <th>ifpic</th>\n",
       "      <th>r1</th>\n",
       "      <th>r2</th>\n",
       "      <th>r3</th>\n",
       "      <th>g1</th>\n",
       "      <th>g2</th>\n",
       "      <th>g3</th>\n",
       "      <th>b1</th>\n",
       "      <th>b2</th>\n",
       "      <th>b3</th>\n",
       "      <th>asm</th>\n",
       "      <th>con</th>\n",
       "      <th>eng</th>\n",
       "      <th>idm</th>\n",
       "    </tr>\n",
       "  </thead>\n",
       "  <tbody>\n",
       "    <tr>\n",
       "      <th>0</th>\n",
       "      <td>1</td>\n",
       "      <td>2</td>\n",
       "      <td>1</td>\n",
       "      <td>166.841925</td>\n",
       "      <td>63.446047</td>\n",
       "      <td>-62.451236</td>\n",
       "      <td>158.253300</td>\n",
       "      <td>63.790080</td>\n",
       "      <td>-66.556483</td>\n",
       "      <td>156.180375</td>\n",
       "      <td>63.584990</td>\n",
       "      <td>-65.435522</td>\n",
       "      <td>0.179038</td>\n",
       "      <td>2.5806</td>\n",
       "      <td>2.895655</td>\n",
       "      <td>0.843625</td>\n",
       "    </tr>\n",
       "    <tr>\n",
       "      <th>1</th>\n",
       "      <td>12</td>\n",
       "      <td>2</td>\n",
       "      <td>1</td>\n",
       "      <td>111.179400</td>\n",
       "      <td>62.839314</td>\n",
       "      <td>-49.312123</td>\n",
       "      <td>155.679775</td>\n",
       "      <td>55.865453</td>\n",
       "      <td>-58.168950</td>\n",
       "      <td>187.076875</td>\n",
       "      <td>57.550191</td>\n",
       "      <td>-67.406039</td>\n",
       "      <td>0.049059</td>\n",
       "      <td>4.2790</td>\n",
       "      <td>3.882789</td>\n",
       "      <td>0.663226</td>\n",
       "    </tr>\n",
       "    <tr>\n",
       "      <th>2</th>\n",
       "      <td>18</td>\n",
       "      <td>2</td>\n",
       "      <td>0</td>\n",
       "      <td>0.000000</td>\n",
       "      <td>0.000000</td>\n",
       "      <td>0.000000</td>\n",
       "      <td>0.000000</td>\n",
       "      <td>0.000000</td>\n",
       "      <td>0.000000</td>\n",
       "      <td>0.000000</td>\n",
       "      <td>0.000000</td>\n",
       "      <td>0.000000</td>\n",
       "      <td>0.000000</td>\n",
       "      <td>0.0000</td>\n",
       "      <td>0.000000</td>\n",
       "      <td>0.000000</td>\n",
       "    </tr>\n",
       "    <tr>\n",
       "      <th>3</th>\n",
       "      <td>22</td>\n",
       "      <td>2</td>\n",
       "      <td>0</td>\n",
       "      <td>0.000000</td>\n",
       "      <td>0.000000</td>\n",
       "      <td>0.000000</td>\n",
       "      <td>0.000000</td>\n",
       "      <td>0.000000</td>\n",
       "      <td>0.000000</td>\n",
       "      <td>0.000000</td>\n",
       "      <td>0.000000</td>\n",
       "      <td>0.000000</td>\n",
       "      <td>0.000000</td>\n",
       "      <td>0.0000</td>\n",
       "      <td>0.000000</td>\n",
       "      <td>0.000000</td>\n",
       "    </tr>\n",
       "    <tr>\n",
       "      <th>4</th>\n",
       "      <td>35</td>\n",
       "      <td>2</td>\n",
       "      <td>0</td>\n",
       "      <td>0.000000</td>\n",
       "      <td>0.000000</td>\n",
       "      <td>0.000000</td>\n",
       "      <td>0.000000</td>\n",
       "      <td>0.000000</td>\n",
       "      <td>0.000000</td>\n",
       "      <td>0.000000</td>\n",
       "      <td>0.000000</td>\n",
       "      <td>0.000000</td>\n",
       "      <td>0.000000</td>\n",
       "      <td>0.0000</td>\n",
       "      <td>0.000000</td>\n",
       "      <td>0.000000</td>\n",
       "    </tr>\n",
       "    <tr>\n",
       "      <th>...</th>\n",
       "      <td>...</td>\n",
       "      <td>...</td>\n",
       "      <td>...</td>\n",
       "      <td>...</td>\n",
       "      <td>...</td>\n",
       "      <td>...</td>\n",
       "      <td>...</td>\n",
       "      <td>...</td>\n",
       "      <td>...</td>\n",
       "      <td>...</td>\n",
       "      <td>...</td>\n",
       "      <td>...</td>\n",
       "      <td>...</td>\n",
       "      <td>...</td>\n",
       "      <td>...</td>\n",
       "      <td>...</td>\n",
       "    </tr>\n",
       "    <tr>\n",
       "      <th>63658</th>\n",
       "      <td>1817710</td>\n",
       "      <td>2</td>\n",
       "      <td>1</td>\n",
       "      <td>88.309425</td>\n",
       "      <td>59.678349</td>\n",
       "      <td>53.144456</td>\n",
       "      <td>72.491300</td>\n",
       "      <td>46.649307</td>\n",
       "      <td>43.335417</td>\n",
       "      <td>56.603550</td>\n",
       "      <td>44.023987</td>\n",
       "      <td>42.715452</td>\n",
       "      <td>0.056898</td>\n",
       "      <td>0.9922</td>\n",
       "      <td>3.480351</td>\n",
       "      <td>0.758520</td>\n",
       "    </tr>\n",
       "    <tr>\n",
       "      <th>63659</th>\n",
       "      <td>1817712</td>\n",
       "      <td>2</td>\n",
       "      <td>0</td>\n",
       "      <td>0.000000</td>\n",
       "      <td>0.000000</td>\n",
       "      <td>0.000000</td>\n",
       "      <td>0.000000</td>\n",
       "      <td>0.000000</td>\n",
       "      <td>0.000000</td>\n",
       "      <td>0.000000</td>\n",
       "      <td>0.000000</td>\n",
       "      <td>0.000000</td>\n",
       "      <td>0.000000</td>\n",
       "      <td>0.0000</td>\n",
       "      <td>0.000000</td>\n",
       "      <td>0.000000</td>\n",
       "    </tr>\n",
       "    <tr>\n",
       "      <th>63660</th>\n",
       "      <td>1817890</td>\n",
       "      <td>2</td>\n",
       "      <td>1</td>\n",
       "      <td>187.832400</td>\n",
       "      <td>73.076020</td>\n",
       "      <td>-76.987670</td>\n",
       "      <td>155.453025</td>\n",
       "      <td>55.151594</td>\n",
       "      <td>-33.555261</td>\n",
       "      <td>89.282200</td>\n",
       "      <td>55.796176</td>\n",
       "      <td>50.441616</td>\n",
       "      <td>0.038189</td>\n",
       "      <td>2.9433</td>\n",
       "      <td>3.854994</td>\n",
       "      <td>0.730024</td>\n",
       "    </tr>\n",
       "    <tr>\n",
       "      <th>63661</th>\n",
       "      <td>1823090</td>\n",
       "      <td>1</td>\n",
       "      <td>1</td>\n",
       "      <td>204.942675</td>\n",
       "      <td>41.241178</td>\n",
       "      <td>-37.723090</td>\n",
       "      <td>121.325050</td>\n",
       "      <td>43.164924</td>\n",
       "      <td>25.844677</td>\n",
       "      <td>86.205650</td>\n",
       "      <td>32.699973</td>\n",
       "      <td>-16.954191</td>\n",
       "      <td>0.039200</td>\n",
       "      <td>1.0046</td>\n",
       "      <td>3.640017</td>\n",
       "      <td>0.741229</td>\n",
       "    </tr>\n",
       "    <tr>\n",
       "      <th>63662</th>\n",
       "      <td>1825048</td>\n",
       "      <td>1</td>\n",
       "      <td>0</td>\n",
       "      <td>0.000000</td>\n",
       "      <td>0.000000</td>\n",
       "      <td>0.000000</td>\n",
       "      <td>0.000000</td>\n",
       "      <td>0.000000</td>\n",
       "      <td>0.000000</td>\n",
       "      <td>0.000000</td>\n",
       "      <td>0.000000</td>\n",
       "      <td>0.000000</td>\n",
       "      <td>0.000000</td>\n",
       "      <td>0.0000</td>\n",
       "      <td>0.000000</td>\n",
       "      <td>0.000000</td>\n",
       "    </tr>\n",
       "  </tbody>\n",
       "</table>\n",
       "<p>63663 rows × 16 columns</p>\n",
       "</div>"
      ],
      "text/plain": [
       "           uid  type  ifpic          r1         r2         r3          g1  \\\n",
       "0            1     2      1  166.841925  63.446047 -62.451236  158.253300   \n",
       "1           12     2      1  111.179400  62.839314 -49.312123  155.679775   \n",
       "2           18     2      0    0.000000   0.000000   0.000000    0.000000   \n",
       "3           22     2      0    0.000000   0.000000   0.000000    0.000000   \n",
       "4           35     2      0    0.000000   0.000000   0.000000    0.000000   \n",
       "...        ...   ...    ...         ...        ...        ...         ...   \n",
       "63658  1817710     2      1   88.309425  59.678349  53.144456   72.491300   \n",
       "63659  1817712     2      0    0.000000   0.000000   0.000000    0.000000   \n",
       "63660  1817890     2      1  187.832400  73.076020 -76.987670  155.453025   \n",
       "63661  1823090     1      1  204.942675  41.241178 -37.723090  121.325050   \n",
       "63662  1825048     1      0    0.000000   0.000000   0.000000    0.000000   \n",
       "\n",
       "              g2         g3          b1         b2         b3       asm  \\\n",
       "0      63.790080 -66.556483  156.180375  63.584990 -65.435522  0.179038   \n",
       "1      55.865453 -58.168950  187.076875  57.550191 -67.406039  0.049059   \n",
       "2       0.000000   0.000000    0.000000   0.000000   0.000000  0.000000   \n",
       "3       0.000000   0.000000    0.000000   0.000000   0.000000  0.000000   \n",
       "4       0.000000   0.000000    0.000000   0.000000   0.000000  0.000000   \n",
       "...          ...        ...         ...        ...        ...       ...   \n",
       "63658  46.649307  43.335417   56.603550  44.023987  42.715452  0.056898   \n",
       "63659   0.000000   0.000000    0.000000   0.000000   0.000000  0.000000   \n",
       "63660  55.151594 -33.555261   89.282200  55.796176  50.441616  0.038189   \n",
       "63661  43.164924  25.844677   86.205650  32.699973 -16.954191  0.039200   \n",
       "63662   0.000000   0.000000    0.000000   0.000000   0.000000  0.000000   \n",
       "\n",
       "          con       eng       idm  \n",
       "0      2.5806  2.895655  0.843625  \n",
       "1      4.2790  3.882789  0.663226  \n",
       "2      0.0000  0.000000  0.000000  \n",
       "3      0.0000  0.000000  0.000000  \n",
       "4      0.0000  0.000000  0.000000  \n",
       "...       ...       ...       ...  \n",
       "63658  0.9922  3.480351  0.758520  \n",
       "63659  0.0000  0.000000  0.000000  \n",
       "63660  2.9433  3.854994  0.730024  \n",
       "63661  1.0046  3.640017  0.741229  \n",
       "63662  0.0000  0.000000  0.000000  \n",
       "\n",
       "[63663 rows x 16 columns]"
      ]
     },
     "execution_count": 83,
     "metadata": {},
     "output_type": "execute_result"
    }
   ],
   "source": [
    "label_encoders0 = [LabelEncoder() for _0 in cat_vars0] \n",
    "for col, enc in zip(cat_vars0, label_encoders0):\n",
    "    data0[col] = enc.fit_transform(data0[col])\n",
    "    \n",
    "data0"
   ]
  },
  {
   "cell_type": "markdown",
   "metadata": {},
   "source": [
    "Notice that some of our data are continuous (or 'close to' continuous): `value`, `hour_min`, `gap_holiday` (even though this one only has a resolution of 1 day), `t`. Other variables are categorical: `day`, `month`, `day_week`, `holiday`. In a neural network model, these two types of data need to be handled differently, as we will see later."
   ]
  },
  {
   "cell_type": "markdown",
   "metadata": {},
   "source": [
    "It is time to split our data into a train set and a test set. Let's set 30% of the data aside."
   ]
  },
  {
   "cell_type": "code",
   "execution_count": 29,
   "metadata": {},
   "outputs": [],
   "source": [
    "test_ratio = 0.3"
   ]
  },
  {
   "cell_type": "code",
   "execution_count": 30,
   "metadata": {},
   "outputs": [
    {
     "data": {
      "text/plain": [
       "(15886, 6809)"
      ]
     },
     "execution_count": 30,
     "metadata": {},
     "output_type": "execute_result"
    }
   ],
   "source": [
    "tr_idx = np.random.choice(np.arange(data.shape[0]), size=round(data.shape[0] * (1 - test_ratio)), replace=False)\n",
    "tst_idx = list(set(range(data.shape[0])).difference(set(tr_idx)))\n",
    "len(tr_idx), len(tst_idx)"
   ]
  },
  {
   "cell_type": "code",
   "execution_count": 84,
   "metadata": {},
   "outputs": [
    {
     "data": {
      "text/plain": [
       "(44564, 19099)"
      ]
     },
     "execution_count": 84,
     "metadata": {},
     "output_type": "execute_result"
    }
   ],
   "source": [
    "tr_idx0 = np.random.choice(np.arange(data0.shape[0]), size=round(data0.shape[0] * (1 - test_ratio)), replace=False)\n",
    "tst_idx0 = list(set(range(data0.shape[0])).difference(set(tr_idx0)))\n",
    "len(tr_idx0), len(tst_idx0)"
   ]
  },
  {
   "cell_type": "code",
   "execution_count": 31,
   "metadata": {},
   "outputs": [],
   "source": [
    "tr_data = data.iloc[tr_idx]\n",
    "tst_data = data.iloc[tst_idx]"
   ]
  },
  {
   "cell_type": "code",
   "execution_count": 85,
   "metadata": {},
   "outputs": [],
   "source": [
    "tr_data0 = data0.iloc[tr_idx0]\n",
    "tst_data0 = data0.iloc[tst_idx0]"
   ]
  },
  {
   "cell_type": "markdown",
   "metadata": {},
   "source": [
    "As we are using a neural network model, the continuous variables need to be normalised. This is important because the weights of a neural network are initialised at random from a common distribution, so all tend to have similar scales initially. Variables whose values spread are across different orders of magnitude would therefore cause serious difficulties when it comes to learning the optimal weights."
   ]
  },
  {
   "cell_type": "code",
   "execution_count": 32,
   "metadata": {},
   "outputs": [],
   "source": [
    "scaler = preprocessing.StandardScaler().fit(tr_data[cont_vars])"
   ]
  },
  {
   "cell_type": "code",
   "execution_count": 86,
   "metadata": {},
   "outputs": [],
   "source": [
    "scaler0 = preprocessing.StandardScaler().fit(tr_data0[cont_vars0])"
   ]
  },
  {
   "cell_type": "code",
   "execution_count": 33,
   "metadata": {},
   "outputs": [],
   "source": [
    "tr_data_scaled = tr_data.copy()\n",
    "tr_data_scaled[cont_vars] = scaler.transform(tr_data[cont_vars])\n",
    "tst_data_scaled = tst_data.copy()\n",
    "tst_data_scaled[cont_vars] = scaler.transform(tst_data[cont_vars])"
   ]
  },
  {
   "cell_type": "code",
   "execution_count": 87,
   "metadata": {},
   "outputs": [],
   "source": [
    "tr_data_scaled0 = tr_data0.copy()\n",
    "tr_data_scaled0[cont_vars0] = scaler0.transform(tr_data0[cont_vars0])\n",
    "tst_data_scaled0 = tst_data0.copy()\n",
    "tst_data_scaled0[cont_vars0] = scaler0.transform(tst_data0[cont_vars0])"
   ]
  },
  {
   "cell_type": "markdown",
   "metadata": {},
   "source": [
    "Note that the test data is normalised using parameters observed on the train set. Otherwise, we would be cheating!"
   ]
  },
  {
   "cell_type": "code",
   "execution_count": 34,
   "metadata": {},
   "outputs": [
    {
     "data": {
      "text/plain": [
       "(            value  day  month   hour_min  day_of_week  holiday  gap_holiday  \\\n",
       " 2844    95.534846   11      2  18.250000            3        0        -13.0   \n",
       " 4370   101.627039   17      2   1.416667            2        0         -7.0   \n",
       " 14603   67.240949   21      0  13.166667            2        0         21.0   \n",
       " 17380   91.884523    0      1   4.583333            5        0         31.0   \n",
       " 14812   89.231189   22      0   6.583333            3        0         22.0   \n",
       " ...           ...  ...    ...        ...          ...      ...          ...   \n",
       " 14703   88.309045   21      0  21.500000            2        0         21.0   \n",
       " 11241   95.605787    9      0  21.000000            4        0          9.0   \n",
       " 19325   47.473921    6      1  22.666667            4        0         37.0   \n",
       " 8981    87.225003    2      0   1.666667            4        0          2.0   \n",
       " 5615    88.512443   21      2   9.166667            6        0         -3.0   \n",
       " \n",
       "               t  \n",
       " 2844   13868721  \n",
       " 4370   13873299  \n",
       " 14603  13903962  \n",
       " 17380  13912293  \n",
       " 14812  13904589  \n",
       " ...         ...  \n",
       " 14703  13904262  \n",
       " 11241  13893876  \n",
       " 19325  13918128  \n",
       " 8981   13887132  \n",
       " 5615   13877034  \n",
       " \n",
       " [15886 rows x 8 columns],\n",
       "           value  day  month  hour_min  day_of_week  holiday  gap_holiday  \\\n",
       " 2844   0.700781   11      2  0.913782            3        0    -1.239988   \n",
       " 4370   1.142026   17      2 -1.516833            2        0    -0.942251   \n",
       " 14603 -1.348485   21      0  0.179785            2        0     0.447186   \n",
       " 17380  0.436396    0      1 -1.059589            5        0     0.943413   \n",
       " 14812  0.244221   22      0 -0.770803            3        0     0.496809   \n",
       " ...         ...  ...    ...       ...          ...      ...          ...   \n",
       " 14703  0.177432   21      0  1.383060            2        0     0.447186   \n",
       " 11241  0.705919    9      0  1.310863            4        0    -0.148287   \n",
       " 19325 -2.780169    6      1  1.551518            4        0     1.241150   \n",
       " 8981   0.098917    2      0 -1.480735            4        0    -0.495647   \n",
       " 5615   0.192163   21      2 -0.397788            6        0    -0.743760   \n",
       " \n",
       "               t  \n",
       " 2844  -1.292080  \n",
       " 4370  -1.059213  \n",
       " 14603  0.500504  \n",
       " 17380  0.924273  \n",
       " 14812  0.532398  \n",
       " ...         ...  \n",
       " 14703  0.515764  \n",
       " 11241 -0.012535  \n",
       " 19325  1.221078  \n",
       " 8981  -0.355578  \n",
       " 5615  -0.869227  \n",
       " \n",
       " [15886 rows x 8 columns])"
      ]
     },
     "execution_count": 34,
     "metadata": {},
     "output_type": "execute_result"
    }
   ],
   "source": [
    "# tr_data_scaled = pd.DataFrame(tr_data_scaled, columns=tr_data.columns)\n",
    "# tst_data_scaled = pd.DataFrame(tst_data_scaled, columns=tst_data.columns)\n",
    "\n",
    "tr_data, tr_data_scaled"
   ]
  },
  {
   "cell_type": "code",
   "execution_count": 88,
   "metadata": {},
   "outputs": [
    {
     "data": {
      "text/plain": [
       "(           uid  type  ifpic          r1         r2         r3        g1  \\\n",
       " 15637   567658     2      0    0.000000   0.000000   0.000000    0.0000   \n",
       " 47422  1362805     2      0    0.000000   0.000000   0.000000    0.0000   \n",
       " 13766   257571     2      0    0.000000   0.000000   0.000000    0.0000   \n",
       " 48066  1379735     2      1  167.924325  77.400728 -74.485576  139.5890   \n",
       " 14524   289017     2      0    0.000000   0.000000   0.000000    0.0000   \n",
       " ...        ...   ...    ...         ...        ...        ...       ...   \n",
       " 58734  1628085     2      0    0.000000   0.000000   0.000000    0.0000   \n",
       " 28339  1002153     2      1  104.293225  50.831825 -26.277413  104.2601   \n",
       " 30908  1051474     2      0    0.000000   0.000000   0.000000    0.0000   \n",
       " 62097  1738727     2      0    0.000000   0.000000   0.000000    0.0000   \n",
       " 52584  1489267     2      0    0.000000   0.000000   0.000000    0.0000   \n",
       " \n",
       "               g2         g3         b1         b2         b3       asm  \\\n",
       " 15637   0.000000   0.000000   0.000000   0.000000   0.000000  0.000000   \n",
       " 47422   0.000000   0.000000   0.000000   0.000000   0.000000  0.000000   \n",
       " 13766   0.000000   0.000000   0.000000   0.000000   0.000000  0.000000   \n",
       " 48066  74.730134 -56.589506  54.953425  55.172592  58.834907  0.027124   \n",
       " 14524   0.000000   0.000000   0.000000   0.000000   0.000000  0.000000   \n",
       " ...          ...        ...        ...        ...        ...       ...   \n",
       " 58734   0.000000   0.000000   0.000000   0.000000   0.000000  0.000000   \n",
       " 28339  51.616274 -23.015292  96.630050  51.120180  19.609543  0.036681   \n",
       " 30908   0.000000   0.000000   0.000000   0.000000   0.000000  0.000000   \n",
       " 62097   0.000000   0.000000   0.000000   0.000000   0.000000  0.000000   \n",
       " 52584   0.000000   0.000000   0.000000   0.000000   0.000000  0.000000   \n",
       " \n",
       "           con       eng       idm  \n",
       " 15637  0.0000  0.000000  0.000000  \n",
       " 47422  0.0000  0.000000  0.000000  \n",
       " 13766  0.0000  0.000000  0.000000  \n",
       " 48066  2.9303  4.091153  0.678122  \n",
       " 14524  0.0000  0.000000  0.000000  \n",
       " ...       ...       ...       ...  \n",
       " 58734  0.0000  0.000000  0.000000  \n",
       " 28339  1.9933  3.879082  0.695916  \n",
       " 30908  0.0000  0.000000  0.000000  \n",
       " 62097  0.0000  0.000000  0.000000  \n",
       " 52584  0.0000  0.000000  0.000000  \n",
       " \n",
       " [44564 rows x 16 columns],\n",
       "            uid  type  ifpic        r1        r2        r3        g1        g2  \\\n",
       " 15637   567658     2      0 -0.652181 -0.647978  0.194305 -0.649984 -0.655964   \n",
       " 47422  1362805     2      0 -0.652181 -0.647978  0.194305 -0.649984 -0.655964   \n",
       " 13766   257571     2      0 -0.652181 -0.647978  0.194305 -0.649984 -0.655964   \n",
       " 48066  1379735     2      1  1.462956  1.852207 -2.104211  1.211036  1.752937   \n",
       " 14524   289017     2      0 -0.652181 -0.647978  0.194305 -0.649984 -0.655964   \n",
       " ...        ...   ...    ...       ...       ...       ...       ...       ...   \n",
       " 58734  1628085     2      0 -0.652181 -0.647978  0.194305 -0.649984 -0.655964   \n",
       " 28339  1002153     2      1  0.661473  0.993983 -0.616578  0.740026  1.007870   \n",
       " 30908  1051474     2      0 -0.652181 -0.647978  0.194305 -0.649984 -0.655964   \n",
       " 62097  1738727     2      0 -0.652181 -0.647978  0.194305 -0.649984 -0.655964   \n",
       " 52584  1489267     2      0 -0.652181 -0.647978  0.194305 -0.649984 -0.655964   \n",
       " \n",
       "              g3        b1        b2        b3       asm       con       eng  \\\n",
       " 15637  0.154511 -0.632632 -0.646710  0.082044 -0.432958 -0.479024 -0.668800   \n",
       " 47422  0.154511 -0.632632 -0.646710  0.082044 -0.432958 -0.479024 -0.668800   \n",
       " 13766  0.154511 -0.632632 -0.646710  0.082044 -0.432958 -0.479024 -0.668800   \n",
       " 48066 -1.611580  0.130014  1.091803  1.863654 -0.213829  0.965329  1.950691   \n",
       " 14524  0.154511 -0.632632 -0.646710  0.082044 -0.432958 -0.479024 -0.668800   \n",
       " ...         ...       ...       ...       ...       ...       ...       ...   \n",
       " 58734  0.154511 -0.632632 -0.646710  0.082044 -0.432958 -0.479024 -0.668800   \n",
       " 28339 -0.563769  0.708403  0.964110  0.675851 -0.136627  0.503479  1.814906   \n",
       " 30908  0.154511 -0.632632 -0.646710  0.082044 -0.432958 -0.479024 -0.668800   \n",
       " 62097  0.154511 -0.632632 -0.646710  0.082044 -0.432958 -0.479024 -0.668800   \n",
       " 52584  0.154511 -0.632632 -0.646710  0.082044 -0.432958 -0.479024 -0.668800   \n",
       " \n",
       "             idm  \n",
       " 15637 -0.700623  \n",
       " 47422 -0.700623  \n",
       " 13766 -0.700623  \n",
       " 48066  1.154266  \n",
       " 14524 -0.700623  \n",
       " ...         ...  \n",
       " 58734 -0.700623  \n",
       " 28339  1.202937  \n",
       " 30908 -0.700623  \n",
       " 62097 -0.700623  \n",
       " 52584 -0.700623  \n",
       " \n",
       " [44564 rows x 16 columns])"
      ]
     },
     "execution_count": 88,
     "metadata": {},
     "output_type": "execute_result"
    }
   ],
   "source": [
    "tr_data0, tr_data_scaled0"
   ]
  },
  {
   "cell_type": "markdown",
   "metadata": {},
   "source": [
    "As you can see, the continuous variables are now standardised, while the categorical variables are unchanged. We can now save our data as CSV files and we are ready for the next phase."
   ]
  },
  {
   "cell_type": "code",
   "execution_count": 35,
   "metadata": {},
   "outputs": [],
   "source": [
    "tr_data_scaled.to_csv(datasets_root/'train.csv', index=False)\n",
    "tst_data_scaled.to_csv(datasets_root/'test.csv', index=False)"
   ]
  },
  {
   "cell_type": "code",
   "execution_count": 89,
   "metadata": {},
   "outputs": [],
   "source": [
    "tr_data_scaled0.to_csv(datasets_root0/'img_train.csv', index=False)\n",
    "tst_data_scaled0.to_csv(datasets_root0/'img_test.csv', index=False)"
   ]
  },
  {
   "cell_type": "code",
   "execution_count": 36,
   "metadata": {},
   "outputs": [
    {
     "data": {
      "text/plain": [
       "WindowsPath('D:/Python_Program/vae_anomaly_detection-main/kaggle/working')"
      ]
     },
     "execution_count": 36,
     "metadata": {},
     "output_type": "execute_result"
    }
   ],
   "source": [
    "datasets_root"
   ]
  },
  {
   "cell_type": "markdown",
   "metadata": {},
   "source": [
    "## 3. VAE Model\n",
    "We first define a `Dataset` class that takes data from either the train set or the test set. It is also able to filter out some of the columns.\n",
    "\n",
    "**Note**: For VAE training, we want to use the column `value` as a feature rather than a label, because we are doing unsupervised learning. In that case, we set the argument `lbl_as_feat` to True. If we were training a supervised model, then we would be able to use the same `Dataset` class but we would need to set `lbl_as_feat` to False, and the dataset would return `value` as a label."
   ]
  },
  {
   "cell_type": "code",
   "execution_count": 37,
   "metadata": {},
   "outputs": [],
   "source": [
    "class TSDataset(Dataset):\n",
    "    def __init__(self, split, cont_vars=None, cat_vars=None, lbl_as_feat=True):\n",
    "        \"\"\"\n",
    "        split: 'train' if we want to get data from the training examples, 'test' for\n",
    "        test examples, or 'both' to merge the training and test sets and return samples\n",
    "        from either.\n",
    "        cont_vars: List of continuous variables to return as features. If None, returns\n",
    "        all continuous variables available.\n",
    "        cat_vars: Same as above, but for categorical variables.\n",
    "        lbl_as_feat: Set to True when training a VAE -- the labels (temperature values)\n",
    "        will be included as another dimension of the data. Set to False when training\n",
    "        a model to predict temperatures.\n",
    "        \"\"\"\n",
    "        super().__init__()\n",
    "        assert split in ['train', 'test', 'both']\n",
    "        self.lbl_as_feat = lbl_as_feat\n",
    "        if split == 'train':\n",
    "            self.df = pd.read_csv(datasets_root/'train.csv')\n",
    "        elif split == 'test':\n",
    "            self.df = pd.read_csv(datasets_root/'test.csv')\n",
    "        else:\n",
    "            df1 = pd.read_csv(datasets_root/'train.csv')\n",
    "            df2 = pd.read_csv(datasets_root/'test.csv')\n",
    "            self.df = pd.concat((df1, df2), ignore_index=True)\n",
    "        \n",
    "        # Select continuous variables to use\n",
    "        if cont_vars:\n",
    "            self.cont_vars = cont_vars\n",
    "            # If we want to use 'value' as a feature, ensure it is returned\n",
    "            if self.lbl_as_feat:\n",
    "                try:\n",
    "                    assert 'value' in self.cont_vars\n",
    "                except AssertionError:\n",
    "                    self.cont_vars.insert(0, 'value')\n",
    "            # If not, ensure it not returned as a feature\n",
    "            else:\n",
    "                try:\n",
    "                    assert 'value' not in self.cont_vars\n",
    "                except AssertionError:\n",
    "                    self.cont_vars.remove('value')\n",
    "                    \n",
    "        else:  # if no list provided, use all available\n",
    "            self.cont_vars = ['value', 'hour_min', 'gap_holiday', 't']\n",
    "        \n",
    "        # Select categorical variables to use\n",
    "        if cat_vars:\n",
    "            self.cat_vars = cat_vars\n",
    "        else:  # if no list provided, use all available\n",
    "            self.cat_vars = ['day', 'month', 'day_of_week', 'holiday']\n",
    "        \n",
    "        # Finally, make two Numpy arrays for continuous and categorical\n",
    "        # variables, respectively:\n",
    "        if self.lbl_as_feat:\n",
    "            self.cont = self.df[self.cont_vars].copy().to_numpy(dtype=np.float32)\n",
    "        else:\n",
    "            self.cont = self.df[self.cont_vars].copy().to_numpy(dtype=np.float32)\n",
    "            self.lbl = self.df['value'].copy().to_numpy(dtype=np.float32)\n",
    "        self.cat = self.df[self.cat_vars].copy().to_numpy(dtype=np.int64)\n",
    "            \n",
    "    def __getitem__(self, idx):\n",
    "        if self.lbl_as_feat:  # for VAE training\n",
    "            return torch.tensor(self.cont[idx]), torch.tensor(self.cat[idx])\n",
    "        else:  # for supervised prediction\n",
    "            return torch.tensor(self.cont[idx]), torch.tensor(self.cat[idx]), torch.tensor(self.lbl[idx])\n",
    "    \n",
    "    def __len__(self):\n",
    "        return self.df.shape[0]"
   ]
  },
  {
   "cell_type": "code",
   "execution_count": 98,
   "metadata": {},
   "outputs": [],
   "source": [
    "class TSDataset0(Dataset):\n",
    "    def __init__(self, split, cont_vars0=None, cat_vars0=None, lbl_as_feat=True):\n",
    "        \"\"\"\n",
    "        split: 'train' if we want to get data from the training examples, 'test' for\n",
    "        test examples, or 'both' to merge the training and test sets and return samples\n",
    "        from either.\n",
    "        cont_vars: List of continuous variables to return as features. If None, returns\n",
    "        all continuous variables available.\n",
    "        cat_vars: Same as above, but for categorical variables.\n",
    "        lbl_as_feat: Set to True when training a VAE -- the labels (temperature values)\n",
    "        will be included as another dimension of the data. Set to False when training\n",
    "        a model to predict temperatures.\n",
    "        \"\"\"\n",
    "        super().__init__()\n",
    "        assert split in ['train', 'test', 'both']\n",
    "        self.lbl_as_feat = lbl_as_feat\n",
    "        if split == 'train':\n",
    "            self.df = pd.read_csv(datasets_root0/'img_train.csv')\n",
    "        elif split == 'test':\n",
    "            self.df = pd.read_csv(datasets_root0/'img_test.csv')\n",
    "        else:\n",
    "            df1 = pd.read_csv(datasets_root0/'img_train.csv')\n",
    "            df2 = pd.read_csv(datasets_root0/'img_test.csv')\n",
    "            self.df = pd.concat((df1, df2), ignore_index=True)\n",
    "        \n",
    "        if cat_vars:\n",
    "            self.cont_vars0 = cont_vars0\n",
    "        else:  # if no list provided, use all available\n",
    "            self.cont_vars0 = ['r1','r2','r3','g1','g2','g3','b1','b2','b3','asm','con','eng','idm']\n",
    "\n",
    "        # Select categorical variables to use\n",
    "        if cat_vars:\n",
    "            self.cat_vars0 = cat_vars0\n",
    "        else:  # if no list provided, use all available\n",
    "            self.cat_vars0 = ['ifpic']\n",
    "        \n",
    "        # Finally, make two Numpy arrays for continuous and categorical\n",
    "        # variables, respectively:\n",
    "        if self.lbl_as_feat:\n",
    "            self.cont0 = self.df[self.cont_vars0].copy().to_numpy(dtype=np.float32)\n",
    "        else:\n",
    "            self.cont0 = self.df[self.cont_vars0].copy().to_numpy(dtype=np.float32)\n",
    "            self.lbl0 = self.df['type'].copy().to_numpy(dtype=np.float32)\n",
    "        self.cat0 = self.df[self.cat_vars0].copy().to_numpy(dtype=np.int64)\n",
    "            \n",
    "    def __getitem__(self, idx):\n",
    "        if self.lbl_as_feat:  # for VAE training\n",
    "            return torch.tensor(self.cont0[idx]), torch.tensor(self.cat0[idx])\n",
    "        else:  # for supervised prediction\n",
    "            return torch.tensor(self.cont0[idx]), torch.tensor(self.cat0[idx]), torch.tensor(self.lbl0[idx])\n",
    "    \n",
    "    def __len__(self):\n",
    "        return self.df.shape[0]"
   ]
  },
  {
   "cell_type": "markdown",
   "metadata": {},
   "source": [
    "Let's try to call from our dataset:"
   ]
  },
  {
   "cell_type": "code",
   "execution_count": 38,
   "metadata": {},
   "outputs": [
    {
     "name": "stdout",
     "output_type": "stream",
     "text": [
      "22695\n",
      "(tensor([ 0.7008, -1.2921]), tensor([3, 0]))\n",
      "(tensor([ 1.1420, -1.0592]), tensor([2, 0]))\n",
      "(tensor([-1.3485,  0.5005]), tensor([2, 0]))\n",
      "(tensor([0.4364, 0.9243]), tensor([5, 0]))\n",
      "(tensor([0.2442, 0.5324]), tensor([3, 0]))\n",
      "(tensor([-0.2778, -0.5511]), tensor([6, 0]))\n",
      "(tensor([0.4789, 0.1675]), tensor([1, 0]))\n",
      "(tensor([0.2147, 0.3046]), tensor([5, 0]))\n",
      "(tensor([-2.6544, -1.1354]), tensor([0, 0]))\n",
      "(tensor([-1.9039, -0.2460]), tensor([6, 0]))\n"
     ]
    }
   ],
   "source": [
    "ds = TSDataset(split='both', cont_vars=['value', 't'], cat_vars=['day_of_week', 'holiday'], lbl_as_feat=True)\n",
    "print(len(ds))\n",
    "it = iter(ds)\n",
    "for _ in range(10):\n",
    "    print(next(it))"
   ]
  },
  {
   "cell_type": "code",
   "execution_count": 99,
   "metadata": {},
   "outputs": [
    {
     "name": "stdout",
     "output_type": "stream",
     "text": [
      "63663\n",
      "(tensor([-0.6522, -0.6480,  0.1943, -0.6500, -0.6560,  0.1545, -0.6326, -0.6467,\n",
      "         0.0820, -0.4330, -0.4790, -0.6688, -0.7006]), tensor([0]))\n",
      "(tensor([-0.6522, -0.6480,  0.1943, -0.6500, -0.6560,  0.1545, -0.6326, -0.6467,\n",
      "         0.0820, -0.4330, -0.4790, -0.6688, -0.7006]), tensor([0]))\n",
      "(tensor([-0.6522, -0.6480,  0.1943, -0.6500, -0.6560,  0.1545, -0.6326, -0.6467,\n",
      "         0.0820, -0.4330, -0.4790, -0.6688, -0.7006]), tensor([0]))\n",
      "(tensor([ 1.4630,  1.8522, -2.1042,  1.2110,  1.7529, -1.6116,  0.1300,  1.0918,\n",
      "         1.8637, -0.2138,  0.9653,  1.9507,  1.1543]), tensor([1]))\n",
      "(tensor([-0.6522, -0.6480,  0.1943, -0.6500, -0.6560,  0.1545, -0.6326, -0.6467,\n",
      "         0.0820, -0.4330, -0.4790, -0.6688, -0.7006]), tensor([0]))\n",
      "(tensor([-0.6522, -0.6480,  0.1943, -0.6500, -0.6560,  0.1545, -0.6326, -0.6467,\n",
      "         0.0820, -0.4330, -0.4790, -0.6688, -0.7006]), tensor([0]))\n",
      "(tensor([-0.6522, -0.6480,  0.1943, -0.6500, -0.6560,  0.1545, -0.6326, -0.6467,\n",
      "         0.0820, -0.4330, -0.4790, -0.6688, -0.7006]), tensor([0]))\n",
      "(tensor([-0.6522, -0.6480,  0.1943, -0.6500, -0.6560,  0.1545, -0.6326, -0.6467,\n",
      "         0.0820, -0.4330, -0.4790, -0.6688, -0.7006]), tensor([0]))\n",
      "(tensor([ 0.5664,  0.5036,  0.9900,  1.1422,  0.4993,  0.7818,  1.5842,  0.4492,\n",
      "         0.6388,  0.7058, -0.1482,  0.9345,  1.6608]), tensor([1]))\n",
      "(tensor([-0.6522, -0.6480,  0.1943, -0.6500, -0.6560,  0.1545, -0.6326, -0.6467,\n",
      "         0.0820, -0.4330, -0.4790, -0.6688, -0.7006]), tensor([0]))\n"
     ]
    }
   ],
   "source": [
    "ds0 = TSDataset0(split='both', cont_vars0=['r1','r2','r3','g1','g2','g3','b1','b2','b3','asm','con','eng','idm'], cat_vars0=['ifpic'], lbl_as_feat=True)\n",
    "print(len(ds0))\n",
    "it0 = iter(ds0)\n",
    "for _0 in range(10):\n",
    "    print(next(it0))"
   ]
  },
  {
   "cell_type": "markdown",
   "metadata": {},
   "source": [
    "As expected, with `lbl_as_feat==True`, we get two arrays for each sample: An array of continuous values represented by floats, and an array of categorical values represented by integers."
   ]
  },
  {
   "cell_type": "markdown",
   "metadata": {},
   "source": [
    "Now we move on to the fun part: The model itself. First, define individual modules. The core of our neural network will be a sequence of fully connected layers, whose number and sizes are passed through the hyperparameter `layer_dims` (a list of integers). In our experiment, we used `64,128,64`, i.e. 3 layers of dimensions 64, 128 and 64. Each layer can be batch-normalised. The input into the first layer is an aggregation of the continuous variables and embedding vectors encoding the categorical variables. \n",
    "\n",
    "Embedding vectors are a notion that is heavily used in Natural Language Processing. They are learnable vectors (of dimension 8 in our experiments) that express some non-explicit features of the variables. For instance, the vector for `day_of_week` can take 7 different sets of values (one for each day), each 8-dimensional. Depending on the value of this variable for each sample, the corresponding vector is retrieved in a lookup table, passed to the network, and updated during backpropagation. The vector for `day_of_week==0` could eventually encode the fact that the machine's activity is lower on such days, for instance. The important thing is that this learning is done without our intervention, and there is no easy way to interpret the learned embeddings."
   ]
  },
  {
   "cell_type": "code",
   "execution_count": 100,
   "metadata": {},
   "outputs": [],
   "source": [
    "class Layer(nn.Module):\n",
    "    '''\n",
    "    A single fully connected layer with optional batch normalisation and activation.\n",
    "    '''\n",
    "    def __init__(self, in_dim, out_dim, bn = True):\n",
    "        super().__init__()\n",
    "        layers = [nn.Linear(in_dim, out_dim)]\n",
    "        if bn: layers.append(nn.BatchNorm1d(out_dim))\n",
    "        layers.append(nn.LeakyReLU(0.1, inplace=True))\n",
    "        self.block = nn.Sequential(*layers)\n",
    "    \n",
    "    def forward(self, x):\n",
    "        return self.block(x)\n",
    "\n",
    "    \n",
    "class Encoder(nn.Module):\n",
    "    '''\n",
    "    The encoder part of our VAE. Takes a data sample and returns the mean and the log-variance of the \n",
    "    latent vector's distribution.\n",
    "    '''\n",
    "    def __init__(self, hparams):\n",
    "        super().__init__()\n",
    "\n",
    "        self.embeds = nn.ModuleList([\n",
    "            nn.Embedding(n_cats, emb_size) for (n_cats, emb_size) in hparams.embedding_sizes\n",
    "        ])\n",
    "        # The input to the first layer is the concatenation of all embedding vectors and continuous\n",
    "        # values\n",
    "        in_dim = sum(emb.embedding_dim for emb in self.embeds) + len(hparams.cont_vars)\n",
    "        layer_dims = [in_dim] + [int(s) for s in hparams.layer_sizes.split(',')]\n",
    "        bn = hparams.batch_norm\n",
    "        self.layers = nn.Sequential(\n",
    "            *[Layer(layer_dims[i], layer_dims[i + 1], bn) for i in range(len(layer_dims) - 1)],\n",
    "        )\n",
    "        self.mu = nn.Linear(layer_dims[-1], hparams.latent_dim)\n",
    "        self.logvar = nn.Linear(layer_dims[-1], hparams.latent_dim)\n",
    "    \n",
    "    def forward(self, x_cont, x_cat):\n",
    "        x_embed = [e(x_cat[:, i]) for i, e in enumerate(self.embeds)]        \n",
    "        x_embed = torch.cat(x_embed, dim=1)\n",
    "        x = torch.cat((x_embed, x_cont), dim=1)\n",
    "        h = self.layers(x)\n",
    "        mu_ = self.mu(h)\n",
    "        logvar_ = self.logvar(h)\n",
    "        return mu_, logvar_, x  # we return the concatenated input vector for use in loss fn\n",
    "    \n",
    "\n",
    "class Decoder(nn.Module):\n",
    "    '''\n",
    "    The decoder part of our VAE. Takes a latent vector (sampled from the distribution learned by the \n",
    "    encoder) and converts it back to a reconstructed data sample.\n",
    "    '''\n",
    "    def __init__(self, hparams):\n",
    "        super().__init__()\n",
    "#         self.final_activ = hparams.final_activ\n",
    "        hidden_dims = [hparams.latent_dim] + [int(s) for s in reversed(hparams.layer_sizes.split(','))]\n",
    "        out_dim = sum(emb_size for _, emb_size in hparams.embedding_sizes) + len(hparams.cont_vars)\n",
    "        bn = hparams.batch_norm\n",
    "        self.layers = nn.Sequential(\n",
    "            *[Layer(hidden_dims[i], hidden_dims[i + 1], bn) for i in range(len(hidden_dims) - 1)],\n",
    "        )\n",
    "        self.reconstructed = nn.Linear(hidden_dims[-1], out_dim)\n",
    "        \n",
    "    def forward(self, z):\n",
    "        h = self.layers(z)\n",
    "        recon = self.reconstructed(h)\n",
    "        return recon"
   ]
  },
  {
   "cell_type": "markdown",
   "metadata": {},
   "source": [
    "Now for the full VAE, defined as a LightningModule:"
   ]
  },
  {
   "cell_type": "code",
   "execution_count": 135,
   "metadata": {},
   "outputs": [],
   "source": [
    "class VAE(pl.LightningModule):\n",
    "    def __init__(self, hparams):\n",
    "        super().__init__()\n",
    "        if isinstance(hparams, dict):\n",
    "            hparams = Namespace(**hparams)\n",
    "        self.hparams = hparams\n",
    "        self.encoder = Encoder(hparams)\n",
    "        self.decoder = Decoder(hparams)\n",
    "        self.stdev = hparams.stdev\n",
    "        self.kld_beta = hparams.kld_beta\n",
    "        self.lr = hparams.lr\n",
    "        self.wd = hparams.weight_decay\n",
    "        \n",
    "    def reparameterize(self, mu, logvar):\n",
    "        '''\n",
    "        The reparameterisation trick allows us to backpropagate through the encoder.\n",
    "        '''\n",
    "        if self.training:\n",
    "            std = torch.exp(0.5 * logvar)\n",
    "            eps = torch.randn_like(std) * self.stdev\n",
    "            return eps * std + mu\n",
    "        else:\n",
    "            return mu\n",
    "        \n",
    "    def forward(self, batch):\n",
    "        x_cont, x_cat = batch\n",
    "        assert x_cat.dtype == torch.int64\n",
    "        mu, logvar, x = self.encoder(x_cont, x_cat)\n",
    "        z = self.reparameterize(mu, logvar)\n",
    "        recon = self.decoder(z)\n",
    "        return recon, mu, logvar, x\n",
    "        \n",
    "    def loss_function(self, obs, recon, mu, logvar):\n",
    "#         recon_loss = F.mse_loss(recon, obs, reduction='sum')\n",
    "        recon_loss = F.smooth_l1_loss(recon, obs, reduction='sum')\n",
    "        kld = -0.5 * torch.sum(1 + logvar - mu ** 2 - logvar.exp())\n",
    "        return recon_loss, kld\n",
    "                               \n",
    "    def training_step(self, batch, batch_idx):\n",
    "        recon, mu, logvar, x = self.forward(batch)\n",
    "        # The loss function compares the concatenated input vector including\n",
    "        # embeddings to the reconstructed vector\n",
    "        recon_loss, kld = self.loss_function(x, recon, mu, logvar)\n",
    "        loss = recon_loss + self.kld_beta * kld\n",
    "\n",
    "        self.log('total_tr_loss', loss.mean(dim=0), on_step=True, prog_bar=True, \n",
    "                 logger=True)\n",
    "        self.log('recon_loss', recon_loss.mean(dim=0), on_step=True, prog_bar=True, \n",
    "                 logger=True)\n",
    "        self.log('kld', kld.mean(dim=0), on_step=True, prog_bar=True, logger=True)\n",
    "        return loss\n",
    "    \n",
    "    def test_step(self, batch, batch_idx):\n",
    "        recon, mu, logvar, x = self.forward(batch)\n",
    "        recon_loss, kld = self.loss_function(x, recon, mu, logvar)\n",
    "        loss = recon_loss + self.kld_beta * kld\n",
    "        self.log('test_loss', loss)\n",
    "        return loss\n",
    "        \n",
    "    def configure_optimizers(self):\n",
    "        opt = torch.optim.AdamW(self.parameters(), lr=self.lr, \n",
    "                                weight_decay=self.hparams.weight_decay, \n",
    "                                eps=1e-4)\n",
    "        sch = torch.optim.lr_scheduler.MultiplicativeLR(opt, lr_lambda=lambda epoch: 0.95)\n",
    "        return opt\n",
    "    \n",
    "    def train_dataloader(self):\n",
    "        dataset = TSDataset0('train', cont_vars0=self.hparams.cont_vars, \n",
    "                            cat_vars0 = self.hparams.cat_vars, lbl_as_feat=True)\n",
    "        return DataLoader(dataset, batch_size=self.hparams.batch_size, num_workers=0)\n",
    "    \n",
    "    def test_dataloader(self):\n",
    "        dataset = TSDataset0('test', cont_vars0=self.hparams.cont_vars,\n",
    "                            cat_vars0=self.hparams.cat_vars, lbl_as_feat=True)\n",
    "        return DataLoader(dataset, batch_size=self.hparams.batch_size, num_workers=0)        "
   ]
  },
  {
   "cell_type": "markdown",
   "metadata": {},
   "source": [
    "Note that different reconstruction loss functions are possible, the most obvious being the Mean Square Error (MSE). However, it is quite sensitive to outliers. In our case, almost by definition, we expect outliers to be present so it might be useful to use a loss function that is less sensitive to them. We use the Huber loss with $\\delta=1$ (called `smooth_l1_loss` in Pytorch)."
   ]
  },
  {
   "cell_type": "markdown",
   "metadata": {},
   "source": [
    "Let's define the model and data hyperparameters. Note that `stdev` (the standard deviation of the normal distribution from which we sample $\\epsilon$ in the `reparameterize()` method) would typically be 1. However, several papers found improvements with smaller values, such as 1e-2. This is what we are going to use, as it gives us lower loss values.\n",
    "\n",
    "Another hyperparameter worth mentioning is `kld_beta`, the coefficient applied to the KLD loss term in the total loss computation (this hyperparameter means that our VAE is technically a $\\beta$-VAE). This helps because the reconstruction loss is typically harder to improve than the KLD loss, therefore if both were weighted equally, the model would start by optimising the KLD loss before improving the reconstruction loss substantially. By setting this coefficient to a value < 1, we try to make sure that both loss values improve at a similar rate."
   ]
  },
  {
   "cell_type": "code",
   "execution_count": 61,
   "metadata": {},
   "outputs": [],
   "source": [
    "cont_features = ['value', 'hour_min', 'gap_holiday', 't'] \n",
    "cat_features = ['day', 'month', 'day_of_week', 'holiday'] \n",
    "\n",
    "embed_cats = [len(tr_data_scaled[c].unique()) for c in cat_features]\n",
    "\n",
    "hparams = OrderedDict(\n",
    "    run='all_vars_embsz8_latsz32_bsz64_lay64-128-64_ep200v3',\n",
    "    cont_vars = cont_features,\n",
    "    cat_vars = cat_features,\n",
    "    embedding_sizes = [(embed_cats[i], 8) for i in range(len(embed_cats))],\n",
    "    latent_dim = 32,\n",
    "    layer_sizes = '64,128,64',\n",
    "    batch_norm = True,\n",
    "    stdev = 0.01,\n",
    "    kld_beta = 0.2,\n",
    "    lr = 0.01,\n",
    "    weight_decay = 1e-5,\n",
    "    batch_size = 64,\n",
    "    epochs = 50,\n",
    ")"
   ]
  },
  {
   "cell_type": "code",
   "execution_count": 127,
   "metadata": {},
   "outputs": [],
   "source": [
    "cont_features0 = ['r1','r2','r3','g1','g2','g3','b1','b2','b3','asm','con','eng','idm']\n",
    "cat_features0 = ['ifpic'] \n",
    "\n",
    "embed_cats0 = [len(tr_data_scaled0[c].unique()) for c in cat_features0]\n",
    "\n",
    "hparams0 = OrderedDict(\n",
    "    run='img_vars_embsz8_latsz32_bsz64_lay64-128-64_ep50',\n",
    "    cont_vars = cont_features0,\n",
    "    cat_vars = cat_features0,\n",
    "    embedding_sizes = [(embed_cats0[i], 14) for i in range(len(embed_cats0))],\n",
    "    latent_dim = 32,\n",
    "    layer_sizes = '64,128,64',\n",
    "    batch_norm = True,\n",
    "    stdev = 0.01,\n",
    "    kld_beta = 0.2,\n",
    "    lr = 0.01,\n",
    "    weight_decay = 1e-5,\n",
    "    batch_size = 64,\n",
    "    epochs = 50,\n",
    ")"
   ]
  },
  {
   "cell_type": "code",
   "execution_count": 128,
   "metadata": {},
   "outputs": [
    {
     "data": {
      "text/plain": [
       "OrderedDict([('run', 'img_vars_embsz8_latsz32_bsz64_lay64-128-64_ep50'),\n",
       "             ('cont_vars',\n",
       "              ['r1',\n",
       "               'r2',\n",
       "               'r3',\n",
       "               'g1',\n",
       "               'g2',\n",
       "               'g3',\n",
       "               'b1',\n",
       "               'b2',\n",
       "               'b3',\n",
       "               'asm',\n",
       "               'con',\n",
       "               'eng',\n",
       "               'idm']),\n",
       "             ('cat_vars', ['ifpic']),\n",
       "             ('embedding_sizes', [(2, 14)]),\n",
       "             ('latent_dim', 32),\n",
       "             ('layer_sizes', '64,128,64'),\n",
       "             ('batch_norm', True),\n",
       "             ('stdev', 0.01),\n",
       "             ('kld_beta', 0.2),\n",
       "             ('lr', 0.01),\n",
       "             ('weight_decay', 1e-05),\n",
       "             ('batch_size', 64),\n",
       "             ('epochs', 50)])"
      ]
     },
     "execution_count": 128,
     "metadata": {},
     "output_type": "execute_result"
    }
   ],
   "source": [
    "hparams0"
   ]
  },
  {
   "cell_type": "code",
   "execution_count": 63,
   "metadata": {},
   "outputs": [],
   "source": [
    "from argparse import Namespace\n",
    "# Simulate a Namespace with the defined hyperparameters\n",
    "hparams = Namespace(**hparams)"
   ]
  },
  {
   "cell_type": "code",
   "execution_count": 129,
   "metadata": {},
   "outputs": [],
   "source": [
    "hparams0 = Namespace(**hparams0)"
   ]
  },
  {
   "cell_type": "markdown",
   "metadata": {},
   "source": [
    "First, let's choose our learning rate. Instead of searching ourselves, we leverage a functionality provided by Pytorch-Lightning that automates the search for this hyperparameter."
   ]
  },
  {
   "cell_type": "code",
   "execution_count": 64,
   "metadata": {},
   "outputs": [],
   "source": [
    "torch.cuda.empty_cache()\n",
    "model = VAE(hparams)\n",
    "logger = WandbLogger(name=hparams.run, project='VAE_Anomaly', version=hparams.run)"
   ]
  },
  {
   "cell_type": "code",
   "execution_count": 136,
   "metadata": {},
   "outputs": [],
   "source": [
    "torch.cuda.empty_cache()\n",
    "model0 = VAE(hparams0)\n",
    "logger0 = WandbLogger(name=hparams0.run, project='VAE_Anomaly0', version=hparams0.run)"
   ]
  },
  {
   "cell_type": "code",
   "execution_count": 137,
   "metadata": {
    "scrolled": true
   },
   "outputs": [
    {
     "data": {
      "text/plain": [
       "VAE(\n",
       "  (encoder): Encoder(\n",
       "    (embeds): ModuleList(\n",
       "      (0): Embedding(2, 14)\n",
       "    )\n",
       "    (layers): Sequential(\n",
       "      (0): Layer(\n",
       "        (block): Sequential(\n",
       "          (0): Linear(in_features=27, out_features=64, bias=True)\n",
       "          (1): BatchNorm1d(64, eps=1e-05, momentum=0.1, affine=True, track_running_stats=True)\n",
       "          (2): LeakyReLU(negative_slope=0.1, inplace=True)\n",
       "        )\n",
       "      )\n",
       "      (1): Layer(\n",
       "        (block): Sequential(\n",
       "          (0): Linear(in_features=64, out_features=128, bias=True)\n",
       "          (1): BatchNorm1d(128, eps=1e-05, momentum=0.1, affine=True, track_running_stats=True)\n",
       "          (2): LeakyReLU(negative_slope=0.1, inplace=True)\n",
       "        )\n",
       "      )\n",
       "      (2): Layer(\n",
       "        (block): Sequential(\n",
       "          (0): Linear(in_features=128, out_features=64, bias=True)\n",
       "          (1): BatchNorm1d(64, eps=1e-05, momentum=0.1, affine=True, track_running_stats=True)\n",
       "          (2): LeakyReLU(negative_slope=0.1, inplace=True)\n",
       "        )\n",
       "      )\n",
       "    )\n",
       "    (mu): Linear(in_features=64, out_features=32, bias=True)\n",
       "    (logvar): Linear(in_features=64, out_features=32, bias=True)\n",
       "  )\n",
       "  (decoder): Decoder(\n",
       "    (layers): Sequential(\n",
       "      (0): Layer(\n",
       "        (block): Sequential(\n",
       "          (0): Linear(in_features=32, out_features=64, bias=True)\n",
       "          (1): BatchNorm1d(64, eps=1e-05, momentum=0.1, affine=True, track_running_stats=True)\n",
       "          (2): LeakyReLU(negative_slope=0.1, inplace=True)\n",
       "        )\n",
       "      )\n",
       "      (1): Layer(\n",
       "        (block): Sequential(\n",
       "          (0): Linear(in_features=64, out_features=128, bias=True)\n",
       "          (1): BatchNorm1d(128, eps=1e-05, momentum=0.1, affine=True, track_running_stats=True)\n",
       "          (2): LeakyReLU(negative_slope=0.1, inplace=True)\n",
       "        )\n",
       "      )\n",
       "      (2): Layer(\n",
       "        (block): Sequential(\n",
       "          (0): Linear(in_features=128, out_features=64, bias=True)\n",
       "          (1): BatchNorm1d(64, eps=1e-05, momentum=0.1, affine=True, track_running_stats=True)\n",
       "          (2): LeakyReLU(negative_slope=0.1, inplace=True)\n",
       "        )\n",
       "      )\n",
       "    )\n",
       "    (reconstructed): Linear(in_features=64, out_features=27, bias=True)\n",
       "  )\n",
       ")"
      ]
     },
     "execution_count": 137,
     "metadata": {},
     "output_type": "execute_result"
    }
   ],
   "source": [
    "model0"
   ]
  },
  {
   "cell_type": "code",
   "execution_count": 65,
   "metadata": {
    "scrolled": true
   },
   "outputs": [
    {
     "name": "stderr",
     "output_type": "stream",
     "text": [
      "GPU available: False, used: False\n",
      "TPU available: None, using: 0 TPU cores\n",
      "\n",
      "  | Name    | Type    | Params\n",
      "------------------------------------\n",
      "0 | encoder | Encoder | 24.0 K\n",
      "1 | decoder | Decoder | 21.5 K\n",
      "------------------------------------\n",
      "45.5 K    Trainable params\n",
      "0         Non-trainable params\n",
      "45.5 K    Total params\n"
     ]
    },
    {
     "data": {
      "application/vnd.jupyter.widget-view+json": {
       "model_id": "dc89584ceb6f4fe08532a62a5c903bbd",
       "version_major": 2,
       "version_minor": 0
      },
      "text/plain": [
       "HBox(children=(FloatProgress(value=0.0, description='Finding best initial lr', style=ProgressStyle(description…"
      ]
     },
     "metadata": {},
     "output_type": "display_data"
    },
    {
     "name": "stderr",
     "output_type": "stream",
     "text": [
      "Learning rate set to 0.006918309709189364\n"
     ]
    }
   ],
   "source": [
    "ckpt_callback = pl.callbacks.ModelCheckpoint(filepath='./vae_weights')\n",
    "# Replace argument logger by None if you don't have a WandB account (and don't want to create one)\n",
    "trainer = pl.Trainer(gpus=None,logger=logger, max_epochs=hparams.epochs, \n",
    "                     auto_lr_find=True, benchmark=True, callbacks=[ckpt_callback],\n",
    "                     gradient_clip_val=1.\n",
    "                     )\n",
    "trainer.tune(model)"
   ]
  },
  {
   "cell_type": "code",
   "execution_count": 143,
   "metadata": {
    "scrolled": true
   },
   "outputs": [
    {
     "name": "stderr",
     "output_type": "stream",
     "text": [
      "GPU available: False, used: False\n",
      "TPU available: None, using: 0 TPU cores\n",
      "\n",
      "  | Name    | Type    | Params\n",
      "------------------------------------\n",
      "0 | encoder | Encoder | 23.1 K\n",
      "1 | decoder | Decoder | 21.0 K\n",
      "------------------------------------\n",
      "44.0 K    Trainable params\n",
      "0         Non-trainable params\n",
      "44.0 K    Total params\n"
     ]
    },
    {
     "data": {
      "application/vnd.jupyter.widget-view+json": {
       "model_id": "8e4b3f6beb474d90b1b97f3b9d4ef5cd",
       "version_major": 2,
       "version_minor": 0
      },
      "text/plain": [
       "HBox(children=(FloatProgress(value=0.0, description='Finding best initial lr', style=ProgressStyle(description…"
      ]
     },
     "metadata": {},
     "output_type": "display_data"
    },
    {
     "name": "stderr",
     "output_type": "stream",
     "text": [
      "LR finder stopped early due to diverging loss.\n",
      "Learning rate set to 1.0964781961431852e-07\n"
     ]
    },
    {
     "name": "stdout",
     "output_type": "stream",
     "text": [
      "\n"
     ]
    }
   ],
   "source": [
    "ckpt_callback0 = pl0.callbacks.ModelCheckpoint(filepath='C:/Users/Ni Ying/Desktop/data/vae_weights')\n",
    "# Replace argument logger by None if you don't have a WandB account (and don't want to create one)\n",
    "trainer0 = pl0.Trainer(gpus=None,logger=logger, max_epochs=hparams0.epochs, \n",
    "                     auto_lr_find=True, benchmark=True, callbacks=[ckpt_callback],\n",
    "                     gradient_clip_val=1.\n",
    "                     )\n",
    "trainer0.tune(model0)"
   ]
  },
  {
   "cell_type": "code",
   "execution_count": 66,
   "metadata": {},
   "outputs": [
    {
     "name": "stderr",
     "output_type": "stream",
     "text": [
      "wandb: Currently logged in as: ny0421 (use `wandb login --relogin` to force relogin)\n"
     ]
    },
    {
     "data": {
      "text/html": [
       "\n",
       "                Tracking run with wandb version 0.10.12<br/>\n",
       "                Syncing run <strong style=\"color:#cdcd00\">all_vars_embsz8_latsz32_bsz64_lay64-128-64_ep200v3</strong> to <a href=\"https://wandb.ai\" target=\"_blank\">Weights & Biases</a> <a href=\"https://docs.wandb.com/integrations/jupyter.html\" target=\"_blank\">(Documentation)</a>.<br/>\n",
       "                Project page: <a href=\"https://wandb.ai/ny0421/vae_anomaly\" target=\"_blank\">https://wandb.ai/ny0421/vae_anomaly</a><br/>\n",
       "                Run page: <a href=\"https://wandb.ai/ny0421/vae_anomaly/runs/all_vars_embsz8_latsz32_bsz64_lay64-128-64_ep200v3\" target=\"_blank\">https://wandb.ai/ny0421/vae_anomaly/runs/all_vars_embsz8_latsz32_bsz64_lay64-128-64_ep200v3</a><br/>\n",
       "                Run data is saved locally in <code>D:\\Python_Program\\vae_anomaly_detection-main\\wandb\\run-20201214_174546-all_vars_embsz8_latsz32_bsz64_lay64-128-64_ep200v3</code><br/><br/>\n",
       "            "
      ],
      "text/plain": [
       "<IPython.core.display.HTML object>"
      ]
     },
     "metadata": {},
     "output_type": "display_data"
    },
    {
     "name": "stderr",
     "output_type": "stream",
     "text": [
      "\n",
      "  | Name    | Type    | Params\n",
      "------------------------------------\n",
      "0 | encoder | Encoder | 24.0 K\n",
      "1 | decoder | Decoder | 21.5 K\n",
      "------------------------------------\n",
      "45.5 K    Trainable params\n",
      "0         Non-trainable params\n",
      "45.5 K    Total params\n"
     ]
    },
    {
     "data": {
      "application/vnd.jupyter.widget-view+json": {
       "model_id": "9068401de27f4535905b88cfed355a14",
       "version_major": 2,
       "version_minor": 0
      },
      "text/plain": [
       "HBox(children=(FloatProgress(value=1.0, bar_style='info', description='Training', layout=Layout(flex='2'), max…"
      ]
     },
     "metadata": {},
     "output_type": "display_data"
    },
    {
     "data": {
      "text/plain": [
       "1"
      ]
     },
     "execution_count": 66,
     "metadata": {},
     "output_type": "execute_result"
    }
   ],
   "source": [
    "trainer.fit(model)"
   ]
  },
  {
   "cell_type": "code",
   "execution_count": 148,
   "metadata": {
    "scrolled": true
   },
   "outputs": [
    {
     "name": "stderr",
     "output_type": "stream",
     "text": [
      "\n",
      "  | Name    | Type    | Params\n",
      "------------------------------------\n",
      "0 | encoder | Encoder | 23.1 K\n",
      "1 | decoder | Decoder | 21.0 K\n",
      "------------------------------------\n",
      "44.0 K    Trainable params\n",
      "0         Non-trainable params\n",
      "44.0 K    Total params\n"
     ]
    },
    {
     "data": {
      "application/vnd.jupyter.widget-view+json": {
       "model_id": "8a99437163664e42ae6003b474ff4239",
       "version_major": 2,
       "version_minor": 0
      },
      "text/plain": [
       "HBox(children=(FloatProgress(value=1.0, bar_style='info', description='Training', layout=Layout(flex='2'), max…"
      ]
     },
     "metadata": {},
     "output_type": "display_data"
    },
    {
     "name": "stderr",
     "output_type": "stream",
     "text": [
      "wandb: WARNING Step must only increase in log calls.  Step 142 < 34247; dropping {'total_tr_loss': 3.9657773971557617, 'recon_loss': 3.571672201156616, 'kld': 1.9705262184143066}.\n",
      "wandb: WARNING Step must only increase in log calls.  Step 192 < 34247; dropping {'total_tr_loss': 6.256096839904785, 'recon_loss': 5.861252307891846, 'kld': 1.9742237329483032}.\n",
      "wandb: WARNING Step must only increase in log calls.  Step 242 < 34247; dropping {'total_tr_loss': 3.8566410541534424, 'recon_loss': 3.4120752811431885, 'kld': 2.2228286266326904}.\n",
      "wandb: WARNING Step must only increase in log calls.  Step 292 < 34247; dropping {'total_tr_loss': 6.7722883224487305, 'recon_loss': 6.229997634887695, 'kld': 2.7114522457122803}.\n",
      "wandb: WARNING Step must only increase in log calls.  Step 342 < 34247; dropping {'total_tr_loss': 4.108344078063965, 'recon_loss': 3.650745391845703, 'kld': 2.2879929542541504}.\n",
      "wandb: WARNING Step must only increase in log calls.  Step 392 < 34247; dropping {'total_tr_loss': 6.037087917327881, 'recon_loss': 5.5202131271362305, 'kld': 2.5843746662139893}.\n",
      "wandb: WARNING Step must only increase in log calls.  Step 442 < 34247; dropping {'total_tr_loss': 4.622122287750244, 'recon_loss': 4.056758880615234, 'kld': 2.8268160820007324}.\n",
      "wandb: WARNING Step must only increase in log calls.  Step 492 < 34247; dropping {'total_tr_loss': 3.9820475578308105, 'recon_loss': 3.5414624214172363, 'kld': 2.2029261589050293}.\n",
      "wandb: WARNING Step must only increase in log calls.  Step 542 < 34247; dropping {'total_tr_loss': 5.0267462730407715, 'recon_loss': 4.561115264892578, 'kld': 2.3281545639038086}.\n",
      "wandb: WARNING Step must only increase in log calls.  Step 592 < 34247; dropping {'total_tr_loss': 3.986910343170166, 'recon_loss': 3.583820343017578, 'kld': 2.0154500007629395}.\n",
      "wandb: WARNING Step must only increase in log calls.  Step 642 < 34247; dropping {'total_tr_loss': 4.47297477722168, 'recon_loss': 4.1280670166015625, 'kld': 1.7245397567749023}.\n",
      "wandb: WARNING Step must only increase in log calls.  Step 692 < 34247; dropping {'total_tr_loss': 4.546621322631836, 'recon_loss': 4.085858345031738, 'kld': 2.3038153648376465}.\n",
      "D:\\anaconda3\\lib\\site-packages\\pytorch_lightning\\utilities\\distributed.py:49: UserWarning: Detected KeyboardInterrupt, attempting graceful shutdown...\n",
      "  warnings.warn(*args, **kwargs)\n"
     ]
    },
    {
     "data": {
      "text/plain": [
       "1"
      ]
     },
     "execution_count": 148,
     "metadata": {},
     "output_type": "execute_result"
    }
   ],
   "source": [
    "trainer0.fit(model0)"
   ]
  },
  {
   "cell_type": "code",
   "execution_count": 147,
   "metadata": {},
   "outputs": [
    {
     "ename": "RuntimeError",
     "evalue": "Error(s) in loading state_dict for VAE:\n\tMissing key(s) in state_dict: \"encoder.embeds.1.weight\", \"encoder.embeds.2.weight\", \"encoder.embeds.3.weight\". \n\tsize mismatch for encoder.embeds.0.weight: copying a param with shape torch.Size([2, 14]) from checkpoint, the shape in current model is torch.Size([31, 8]).\n\tsize mismatch for encoder.layers.0.block.0.weight: copying a param with shape torch.Size([64, 27]) from checkpoint, the shape in current model is torch.Size([64, 36]).\n\tsize mismatch for decoder.reconstructed.weight: copying a param with shape torch.Size([27, 64]) from checkpoint, the shape in current model is torch.Size([36, 64]).\n\tsize mismatch for decoder.reconstructed.bias: copying a param with shape torch.Size([27]) from checkpoint, the shape in current model is torch.Size([36]).",
     "output_type": "error",
     "traceback": [
      "\u001b[1;31m---------------------------------------------------------------------------\u001b[0m",
      "\u001b[1;31mRuntimeError\u001b[0m                              Traceback (most recent call last)",
      "\u001b[1;32m<ipython-input-147-24edee734c4e>\u001b[0m in \u001b[0;36m<module>\u001b[1;34m\u001b[0m\n\u001b[1;32m----> 1\u001b[1;33m \u001b[0mtrainer\u001b[0m\u001b[1;33m.\u001b[0m\u001b[0mtest\u001b[0m\u001b[1;33m(\u001b[0m\u001b[1;33m)\u001b[0m\u001b[1;33m\u001b[0m\u001b[1;33m\u001b[0m\u001b[0m\n\u001b[0m",
      "\u001b[1;32mD:\\anaconda3\\lib\\site-packages\\pytorch_lightning\\trainer\\trainer.py\u001b[0m in \u001b[0;36mtest\u001b[1;34m(self, model, test_dataloaders, ckpt_path, verbose, datamodule)\u001b[0m\n\u001b[0;32m    752\u001b[0m             \u001b[0mresults\u001b[0m \u001b[1;33m=\u001b[0m \u001b[0mself\u001b[0m\u001b[1;33m.\u001b[0m\u001b[0m__test_given_model\u001b[0m\u001b[1;33m(\u001b[0m\u001b[0mmodel\u001b[0m\u001b[1;33m,\u001b[0m \u001b[0mtest_dataloaders\u001b[0m\u001b[1;33m)\u001b[0m\u001b[1;33m\u001b[0m\u001b[1;33m\u001b[0m\u001b[0m\n\u001b[0;32m    753\u001b[0m         \u001b[1;32melse\u001b[0m\u001b[1;33m:\u001b[0m\u001b[1;33m\u001b[0m\u001b[1;33m\u001b[0m\u001b[0m\n\u001b[1;32m--> 754\u001b[1;33m             \u001b[0mresults\u001b[0m \u001b[1;33m=\u001b[0m \u001b[0mself\u001b[0m\u001b[1;33m.\u001b[0m\u001b[0m__test_using_best_weights\u001b[0m\u001b[1;33m(\u001b[0m\u001b[0mckpt_path\u001b[0m\u001b[1;33m,\u001b[0m \u001b[0mtest_dataloaders\u001b[0m\u001b[1;33m)\u001b[0m\u001b[1;33m\u001b[0m\u001b[1;33m\u001b[0m\u001b[0m\n\u001b[0m\u001b[0;32m    755\u001b[0m \u001b[1;33m\u001b[0m\u001b[0m\n\u001b[0;32m    756\u001b[0m         \u001b[0mself\u001b[0m\u001b[1;33m.\u001b[0m\u001b[0mteardown\u001b[0m\u001b[1;33m(\u001b[0m\u001b[1;34m'test'\u001b[0m\u001b[1;33m)\u001b[0m\u001b[1;33m\u001b[0m\u001b[1;33m\u001b[0m\u001b[0m\n",
      "\u001b[1;32mD:\\anaconda3\\lib\\site-packages\\pytorch_lightning\\trainer\\trainer.py\u001b[0m in \u001b[0;36m__test_using_best_weights\u001b[1;34m(self, ckpt_path, test_dataloaders)\u001b[0m\n\u001b[0;32m    783\u001b[0m \u001b[1;33m\u001b[0m\u001b[0m\n\u001b[0;32m    784\u001b[0m             \u001b[0mckpt\u001b[0m \u001b[1;33m=\u001b[0m \u001b[0mpl_load\u001b[0m\u001b[1;33m(\u001b[0m\u001b[0mckpt_path\u001b[0m\u001b[1;33m,\u001b[0m \u001b[0mmap_location\u001b[0m\u001b[1;33m=\u001b[0m\u001b[1;32mlambda\u001b[0m \u001b[0mstorage\u001b[0m\u001b[1;33m,\u001b[0m \u001b[0mloc\u001b[0m\u001b[1;33m:\u001b[0m \u001b[0mstorage\u001b[0m\u001b[1;33m)\u001b[0m\u001b[1;33m\u001b[0m\u001b[1;33m\u001b[0m\u001b[0m\n\u001b[1;32m--> 785\u001b[1;33m             \u001b[0mmodel\u001b[0m\u001b[1;33m.\u001b[0m\u001b[0mload_state_dict\u001b[0m\u001b[1;33m(\u001b[0m\u001b[0mckpt\u001b[0m\u001b[1;33m[\u001b[0m\u001b[1;34m'state_dict'\u001b[0m\u001b[1;33m]\u001b[0m\u001b[1;33m)\u001b[0m\u001b[1;33m\u001b[0m\u001b[1;33m\u001b[0m\u001b[0m\n\u001b[0m\u001b[0;32m    786\u001b[0m \u001b[1;33m\u001b[0m\u001b[0m\n\u001b[0;32m    787\u001b[0m         \u001b[1;31m# attach dataloaders\u001b[0m\u001b[1;33m\u001b[0m\u001b[1;33m\u001b[0m\u001b[1;33m\u001b[0m\u001b[0m\n",
      "\u001b[1;32mD:\\anaconda3\\lib\\site-packages\\torch\\nn\\modules\\module.py\u001b[0m in \u001b[0;36mload_state_dict\u001b[1;34m(self, state_dict, strict)\u001b[0m\n\u001b[0;32m   1050\u001b[0m         \u001b[1;32mif\u001b[0m \u001b[0mlen\u001b[0m\u001b[1;33m(\u001b[0m\u001b[0merror_msgs\u001b[0m\u001b[1;33m)\u001b[0m \u001b[1;33m>\u001b[0m \u001b[1;36m0\u001b[0m\u001b[1;33m:\u001b[0m\u001b[1;33m\u001b[0m\u001b[1;33m\u001b[0m\u001b[0m\n\u001b[0;32m   1051\u001b[0m             raise RuntimeError('Error(s) in loading state_dict for {}:\\n\\t{}'.format(\n\u001b[1;32m-> 1052\u001b[1;33m                                self.__class__.__name__, \"\\n\\t\".join(error_msgs)))\n\u001b[0m\u001b[0;32m   1053\u001b[0m         \u001b[1;32mreturn\u001b[0m \u001b[0m_IncompatibleKeys\u001b[0m\u001b[1;33m(\u001b[0m\u001b[0mmissing_keys\u001b[0m\u001b[1;33m,\u001b[0m \u001b[0munexpected_keys\u001b[0m\u001b[1;33m)\u001b[0m\u001b[1;33m\u001b[0m\u001b[1;33m\u001b[0m\u001b[0m\n\u001b[0;32m   1054\u001b[0m \u001b[1;33m\u001b[0m\u001b[0m\n",
      "\u001b[1;31mRuntimeError\u001b[0m: Error(s) in loading state_dict for VAE:\n\tMissing key(s) in state_dict: \"encoder.embeds.1.weight\", \"encoder.embeds.2.weight\", \"encoder.embeds.3.weight\". \n\tsize mismatch for encoder.embeds.0.weight: copying a param with shape torch.Size([2, 14]) from checkpoint, the shape in current model is torch.Size([31, 8]).\n\tsize mismatch for encoder.layers.0.block.0.weight: copying a param with shape torch.Size([64, 27]) from checkpoint, the shape in current model is torch.Size([64, 36]).\n\tsize mismatch for decoder.reconstructed.weight: copying a param with shape torch.Size([27, 64]) from checkpoint, the shape in current model is torch.Size([36, 64]).\n\tsize mismatch for decoder.reconstructed.bias: copying a param with shape torch.Size([27]) from checkpoint, the shape in current model is torch.Size([36])."
     ]
    }
   ],
   "source": [
    "trainer.test()"
   ]
  },
  {
   "cell_type": "markdown",
   "metadata": {},
   "source": [
    "At the end of training, the total loss is around 0.8 (depending on the run). Let's see how this model performs on the test set:"
   ]
  },
  {
   "cell_type": "code",
   "execution_count": 146,
   "metadata": {
    "scrolled": true
   },
   "outputs": [
    {
     "data": {
      "application/vnd.jupyter.widget-view+json": {
       "model_id": "a183b49ddcce4695a91495cb029d01e7",
       "version_major": 2,
       "version_minor": 0
      },
      "text/plain": [
       "HBox(children=(FloatProgress(value=1.0, bar_style='info', description='Testing', layout=Layout(flex='2'), max=…"
      ]
     },
     "metadata": {},
     "output_type": "display_data"
    },
    {
     "name": "stderr",
     "output_type": "stream",
     "text": [
      "wandb: WARNING Step must only increase in log calls.  Step 1 < 34247; dropping {'test_loss': 5.885089874267578, 'epoch': 1}.\n"
     ]
    },
    {
     "name": "stdout",
     "output_type": "stream",
     "text": [
      "\n",
      "--------------------------------------------------------------------------------\n",
      "DATALOADER:0 TEST RESULTS\n",
      "{'test_loss': tensor(5.8851)}\n",
      "--------------------------------------------------------------------------------\n"
     ]
    },
    {
     "data": {
      "text/plain": [
       "[{'test_loss': 5.885089874267578}]"
      ]
     },
     "execution_count": 146,
     "metadata": {},
     "output_type": "execute_result"
    }
   ],
   "source": [
    "trainer0.test()"
   ]
  },
  {
   "cell_type": "markdown",
   "metadata": {},
   "source": [
    "The test loss is close to the training loss, so we are not overfitting. We could probably improve on this loss by further optimising hyperparameters (WandB actually offers an easy framework for running hyperparameter optimisation by random, grid or Bayesian search). For now, let's go with these weights and see if the model can find outliers."
   ]
  },
  {
   "cell_type": "code",
   "execution_count": 68,
   "metadata": {},
   "outputs": [
    {
     "data": {
      "text/html": [
       "<div>\n",
       "<style scoped>\n",
       "    .dataframe tbody tr th:only-of-type {\n",
       "        vertical-align: middle;\n",
       "    }\n",
       "\n",
       "    .dataframe tbody tr th {\n",
       "        vertical-align: top;\n",
       "    }\n",
       "\n",
       "    .dataframe thead th {\n",
       "        text-align: right;\n",
       "    }\n",
       "</style>\n",
       "<table border=\"1\" class=\"dataframe\">\n",
       "  <thead>\n",
       "    <tr style=\"text-align: right;\">\n",
       "      <th></th>\n",
       "      <th>value</th>\n",
       "      <th>day</th>\n",
       "      <th>month</th>\n",
       "      <th>hour_min</th>\n",
       "      <th>day_of_week</th>\n",
       "      <th>holiday</th>\n",
       "      <th>gap_holiday</th>\n",
       "      <th>t</th>\n",
       "      <th>loss</th>\n",
       "    </tr>\n",
       "  </thead>\n",
       "  <tbody>\n",
       "    <tr>\n",
       "      <th>0</th>\n",
       "      <td>-0.472913</td>\n",
       "      <td>1</td>\n",
       "      <td>2</td>\n",
       "      <td>1.395093</td>\n",
       "      <td>0</td>\n",
       "      <td>0</td>\n",
       "      <td>-1.736216</td>\n",
       "      <td>-1.725462</td>\n",
       "      <td>0.025421</td>\n",
       "    </tr>\n",
       "    <tr>\n",
       "      <th>1</th>\n",
       "      <td>-0.404614</td>\n",
       "      <td>1</td>\n",
       "      <td>2</td>\n",
       "      <td>1.431191</td>\n",
       "      <td>0</td>\n",
       "      <td>0</td>\n",
       "      <td>-1.736216</td>\n",
       "      <td>-1.725004</td>\n",
       "      <td>0.024593</td>\n",
       "    </tr>\n",
       "    <tr>\n",
       "      <th>2</th>\n",
       "      <td>-0.474927</td>\n",
       "      <td>1</td>\n",
       "      <td>2</td>\n",
       "      <td>1.491355</td>\n",
       "      <td>0</td>\n",
       "      <td>0</td>\n",
       "      <td>-1.736216</td>\n",
       "      <td>-1.724241</td>\n",
       "      <td>0.025160</td>\n",
       "    </tr>\n",
       "    <tr>\n",
       "      <th>3</th>\n",
       "      <td>-0.324889</td>\n",
       "      <td>1</td>\n",
       "      <td>2</td>\n",
       "      <td>1.551518</td>\n",
       "      <td>0</td>\n",
       "      <td>0</td>\n",
       "      <td>-1.736216</td>\n",
       "      <td>-1.723478</td>\n",
       "      <td>0.023980</td>\n",
       "    </tr>\n",
       "    <tr>\n",
       "      <th>4</th>\n",
       "      <td>-0.333131</td>\n",
       "      <td>1</td>\n",
       "      <td>2</td>\n",
       "      <td>1.599649</td>\n",
       "      <td>0</td>\n",
       "      <td>0</td>\n",
       "      <td>-1.736216</td>\n",
       "      <td>-1.722868</td>\n",
       "      <td>0.023252</td>\n",
       "    </tr>\n",
       "  </tbody>\n",
       "</table>\n",
       "</div>"
      ],
      "text/plain": [
       "      value  day  month  hour_min  day_of_week  holiday  gap_holiday  \\\n",
       "0 -0.472913    1      2  1.395093            0        0    -1.736216   \n",
       "1 -0.404614    1      2  1.431191            0        0    -1.736216   \n",
       "2 -0.474927    1      2  1.491355            0        0    -1.736216   \n",
       "3 -0.324889    1      2  1.551518            0        0    -1.736216   \n",
       "4 -0.333131    1      2  1.599649            0        0    -1.736216   \n",
       "\n",
       "          t      loss  \n",
       "0 -1.725462  0.025421  \n",
       "1 -1.725004  0.024593  \n",
       "2 -1.724241  0.025160  \n",
       "3 -1.723478  0.023980  \n",
       "4 -1.722868  0.023252  "
      ]
     },
     "execution_count": 68,
     "metadata": {},
     "output_type": "execute_result"
    }
   ],
   "source": [
    "trained_model = VAE.load_from_checkpoint('./vae_weights.ckpt')\n",
    "trained_model.freeze()\n",
    "dataset = TSDataset('test', cont_vars=hparams.cont_vars, \n",
    "                    cat_vars=hparams.cat_vars,\n",
    "                    lbl_as_feat=True) \n",
    "losses = []\n",
    "# run predictions for the training set examples\n",
    "for i in range(len(dataset)):\n",
    "    x_cont, x_cat = dataset[i]\n",
    "    x_cont.unsqueeze_(0)\n",
    "    x_cat.unsqueeze_(0)\n",
    "    recon, mu, logvar, x = trained_model.forward((x_cont, x_cat))\n",
    "    recon_loss, kld = trained_model.loss_function(x, recon, mu, logvar)\n",
    "    losses.append(recon_loss + trained_model.hparams.kld_beta * kld)\n",
    "    \n",
    "data_with_losses = dataset.df\n",
    "data_with_losses['loss'] = np.asarray(losses)\n",
    "data_with_losses.sort_values('t', inplace=True)\n",
    "data_with_losses.head()"
   ]
  },
  {
   "cell_type": "code",
   "execution_count": 145,
   "metadata": {},
   "outputs": [
    {
     "ename": "FileNotFoundError",
     "evalue": "[Errno 2] No such file or directory: 'C:/Users/Ni Ying/Desktop/data/vae_weights.ckpt'",
     "output_type": "error",
     "traceback": [
      "\u001b[1;31m---------------------------------------------------------------------------\u001b[0m",
      "\u001b[1;31mFileNotFoundError\u001b[0m                         Traceback (most recent call last)",
      "\u001b[1;32m<ipython-input-145-98b5ba1b5dad>\u001b[0m in \u001b[0;36m<module>\u001b[1;34m\u001b[0m\n\u001b[1;32m----> 1\u001b[1;33m \u001b[0mtrained_model0\u001b[0m \u001b[1;33m=\u001b[0m \u001b[0mVAE\u001b[0m\u001b[1;33m.\u001b[0m\u001b[0mload_from_checkpoint\u001b[0m\u001b[1;33m(\u001b[0m\u001b[1;34m'C:/Users/Ni Ying/Desktop/data/vae_weights.ckpt'\u001b[0m\u001b[1;33m)\u001b[0m\u001b[1;33m\u001b[0m\u001b[1;33m\u001b[0m\u001b[0m\n\u001b[0m\u001b[0;32m      2\u001b[0m \u001b[0mtrained_model0\u001b[0m\u001b[1;33m.\u001b[0m\u001b[0mfreeze\u001b[0m\u001b[1;33m(\u001b[0m\u001b[1;33m)\u001b[0m\u001b[1;33m\u001b[0m\u001b[1;33m\u001b[0m\u001b[0m\n",
      "\u001b[1;32mD:\\anaconda3\\lib\\site-packages\\pytorch_lightning\\core\\saving.py\u001b[0m in \u001b[0;36mload_from_checkpoint\u001b[1;34m(cls, checkpoint_path, map_location, hparams_file, strict, **kwargs)\u001b[0m\n\u001b[0;32m    128\u001b[0m             \u001b[0mcheckpoint\u001b[0m \u001b[1;33m=\u001b[0m \u001b[0mpl_load\u001b[0m\u001b[1;33m(\u001b[0m\u001b[0mcheckpoint_path\u001b[0m\u001b[1;33m,\u001b[0m \u001b[0mmap_location\u001b[0m\u001b[1;33m=\u001b[0m\u001b[0mmap_location\u001b[0m\u001b[1;33m)\u001b[0m\u001b[1;33m\u001b[0m\u001b[1;33m\u001b[0m\u001b[0m\n\u001b[0;32m    129\u001b[0m         \u001b[1;32melse\u001b[0m\u001b[1;33m:\u001b[0m\u001b[1;33m\u001b[0m\u001b[1;33m\u001b[0m\u001b[0m\n\u001b[1;32m--> 130\u001b[1;33m             \u001b[0mcheckpoint\u001b[0m \u001b[1;33m=\u001b[0m \u001b[0mpl_load\u001b[0m\u001b[1;33m(\u001b[0m\u001b[0mcheckpoint_path\u001b[0m\u001b[1;33m,\u001b[0m \u001b[0mmap_location\u001b[0m\u001b[1;33m=\u001b[0m\u001b[1;32mlambda\u001b[0m \u001b[0mstorage\u001b[0m\u001b[1;33m,\u001b[0m \u001b[0mloc\u001b[0m\u001b[1;33m:\u001b[0m \u001b[0mstorage\u001b[0m\u001b[1;33m)\u001b[0m\u001b[1;33m\u001b[0m\u001b[1;33m\u001b[0m\u001b[0m\n\u001b[0m\u001b[0;32m    131\u001b[0m \u001b[1;33m\u001b[0m\u001b[0m\n\u001b[0;32m    132\u001b[0m         \u001b[1;32mif\u001b[0m \u001b[0mhparams_file\u001b[0m \u001b[1;32mis\u001b[0m \u001b[1;32mnot\u001b[0m \u001b[1;32mNone\u001b[0m\u001b[1;33m:\u001b[0m\u001b[1;33m\u001b[0m\u001b[1;33m\u001b[0m\u001b[0m\n",
      "\u001b[1;32mD:\\anaconda3\\lib\\site-packages\\pytorch_lightning\\utilities\\cloud_io.py\u001b[0m in \u001b[0;36mload\u001b[1;34m(path_or_url, map_location)\u001b[0m\n\u001b[0;32m     29\u001b[0m         \u001b[1;32mreturn\u001b[0m \u001b[0mtorch\u001b[0m\u001b[1;33m.\u001b[0m\u001b[0mhub\u001b[0m\u001b[1;33m.\u001b[0m\u001b[0mload_state_dict_from_url\u001b[0m\u001b[1;33m(\u001b[0m\u001b[0mstr\u001b[0m\u001b[1;33m(\u001b[0m\u001b[0mpath_or_url\u001b[0m\u001b[1;33m)\u001b[0m\u001b[1;33m,\u001b[0m \u001b[0mmap_location\u001b[0m\u001b[1;33m=\u001b[0m\u001b[0mmap_location\u001b[0m\u001b[1;33m)\u001b[0m\u001b[1;33m\u001b[0m\u001b[1;33m\u001b[0m\u001b[0m\n\u001b[0;32m     30\u001b[0m     \u001b[0mfs\u001b[0m \u001b[1;33m=\u001b[0m \u001b[0mget_filesystem\u001b[0m\u001b[1;33m(\u001b[0m\u001b[0mpath_or_url\u001b[0m\u001b[1;33m)\u001b[0m\u001b[1;33m\u001b[0m\u001b[1;33m\u001b[0m\u001b[0m\n\u001b[1;32m---> 31\u001b[1;33m     \u001b[1;32mwith\u001b[0m \u001b[0mfs\u001b[0m\u001b[1;33m.\u001b[0m\u001b[0mopen\u001b[0m\u001b[1;33m(\u001b[0m\u001b[0mpath_or_url\u001b[0m\u001b[1;33m,\u001b[0m \u001b[1;34m\"rb\"\u001b[0m\u001b[1;33m)\u001b[0m \u001b[1;32mas\u001b[0m \u001b[0mf\u001b[0m\u001b[1;33m:\u001b[0m\u001b[1;33m\u001b[0m\u001b[1;33m\u001b[0m\u001b[0m\n\u001b[0m\u001b[0;32m     32\u001b[0m         \u001b[1;32mreturn\u001b[0m \u001b[0mtorch\u001b[0m\u001b[1;33m.\u001b[0m\u001b[0mload\u001b[0m\u001b[1;33m(\u001b[0m\u001b[0mf\u001b[0m\u001b[1;33m,\u001b[0m \u001b[0mmap_location\u001b[0m\u001b[1;33m=\u001b[0m\u001b[0mmap_location\u001b[0m\u001b[1;33m)\u001b[0m\u001b[1;33m\u001b[0m\u001b[1;33m\u001b[0m\u001b[0m\n\u001b[0;32m     33\u001b[0m \u001b[1;33m\u001b[0m\u001b[0m\n",
      "\u001b[1;32mD:\\anaconda3\\lib\\site-packages\\fsspec\\spec.py\u001b[0m in \u001b[0;36mopen\u001b[1;34m(self, path, mode, block_size, cache_options, **kwargs)\u001b[0m\n\u001b[0;32m    901\u001b[0m                 \u001b[0mautocommit\u001b[0m\u001b[1;33m=\u001b[0m\u001b[0mac\u001b[0m\u001b[1;33m,\u001b[0m\u001b[1;33m\u001b[0m\u001b[1;33m\u001b[0m\u001b[0m\n\u001b[0;32m    902\u001b[0m                 \u001b[0mcache_options\u001b[0m\u001b[1;33m=\u001b[0m\u001b[0mcache_options\u001b[0m\u001b[1;33m,\u001b[0m\u001b[1;33m\u001b[0m\u001b[1;33m\u001b[0m\u001b[0m\n\u001b[1;32m--> 903\u001b[1;33m                 \u001b[1;33m**\u001b[0m\u001b[0mkwargs\u001b[0m\u001b[1;33m\u001b[0m\u001b[1;33m\u001b[0m\u001b[0m\n\u001b[0m\u001b[0;32m    904\u001b[0m             )\n\u001b[0;32m    905\u001b[0m             \u001b[1;32mif\u001b[0m \u001b[1;32mnot\u001b[0m \u001b[0mac\u001b[0m\u001b[1;33m:\u001b[0m\u001b[1;33m\u001b[0m\u001b[1;33m\u001b[0m\u001b[0m\n",
      "\u001b[1;32mD:\\anaconda3\\lib\\site-packages\\fsspec\\implementations\\local.py\u001b[0m in \u001b[0;36m_open\u001b[1;34m(self, path, mode, block_size, **kwargs)\u001b[0m\n\u001b[0;32m    113\u001b[0m         \u001b[1;32mif\u001b[0m \u001b[0mself\u001b[0m\u001b[1;33m.\u001b[0m\u001b[0mauto_mkdir\u001b[0m \u001b[1;32mand\u001b[0m \u001b[1;34m\"w\"\u001b[0m \u001b[1;32min\u001b[0m \u001b[0mmode\u001b[0m\u001b[1;33m:\u001b[0m\u001b[1;33m\u001b[0m\u001b[1;33m\u001b[0m\u001b[0m\n\u001b[0;32m    114\u001b[0m             \u001b[0mself\u001b[0m\u001b[1;33m.\u001b[0m\u001b[0mmakedirs\u001b[0m\u001b[1;33m(\u001b[0m\u001b[0mself\u001b[0m\u001b[1;33m.\u001b[0m\u001b[0m_parent\u001b[0m\u001b[1;33m(\u001b[0m\u001b[0mpath\u001b[0m\u001b[1;33m)\u001b[0m\u001b[1;33m,\u001b[0m \u001b[0mexist_ok\u001b[0m\u001b[1;33m=\u001b[0m\u001b[1;32mTrue\u001b[0m\u001b[1;33m)\u001b[0m\u001b[1;33m\u001b[0m\u001b[1;33m\u001b[0m\u001b[0m\n\u001b[1;32m--> 115\u001b[1;33m         \u001b[1;32mreturn\u001b[0m \u001b[0mLocalFileOpener\u001b[0m\u001b[1;33m(\u001b[0m\u001b[0mpath\u001b[0m\u001b[1;33m,\u001b[0m \u001b[0mmode\u001b[0m\u001b[1;33m,\u001b[0m \u001b[0mfs\u001b[0m\u001b[1;33m=\u001b[0m\u001b[0mself\u001b[0m\u001b[1;33m,\u001b[0m \u001b[1;33m**\u001b[0m\u001b[0mkwargs\u001b[0m\u001b[1;33m)\u001b[0m\u001b[1;33m\u001b[0m\u001b[1;33m\u001b[0m\u001b[0m\n\u001b[0m\u001b[0;32m    116\u001b[0m \u001b[1;33m\u001b[0m\u001b[0m\n\u001b[0;32m    117\u001b[0m     \u001b[1;32mdef\u001b[0m \u001b[0mtouch\u001b[0m\u001b[1;33m(\u001b[0m\u001b[0mself\u001b[0m\u001b[1;33m,\u001b[0m \u001b[0mpath\u001b[0m\u001b[1;33m,\u001b[0m \u001b[1;33m**\u001b[0m\u001b[0mkwargs\u001b[0m\u001b[1;33m)\u001b[0m\u001b[1;33m:\u001b[0m\u001b[1;33m\u001b[0m\u001b[1;33m\u001b[0m\u001b[0m\n",
      "\u001b[1;32mD:\\anaconda3\\lib\\site-packages\\fsspec\\implementations\\local.py\u001b[0m in \u001b[0;36m__init__\u001b[1;34m(self, path, mode, autocommit, fs, **kwargs)\u001b[0m\n\u001b[0;32m    195\u001b[0m         \u001b[0mself\u001b[0m\u001b[1;33m.\u001b[0m\u001b[0mautocommit\u001b[0m \u001b[1;33m=\u001b[0m \u001b[0mautocommit\u001b[0m\u001b[1;33m\u001b[0m\u001b[1;33m\u001b[0m\u001b[0m\n\u001b[0;32m    196\u001b[0m         \u001b[0mself\u001b[0m\u001b[1;33m.\u001b[0m\u001b[0mblocksize\u001b[0m \u001b[1;33m=\u001b[0m \u001b[0mio\u001b[0m\u001b[1;33m.\u001b[0m\u001b[0mDEFAULT_BUFFER_SIZE\u001b[0m\u001b[1;33m\u001b[0m\u001b[1;33m\u001b[0m\u001b[0m\n\u001b[1;32m--> 197\u001b[1;33m         \u001b[0mself\u001b[0m\u001b[1;33m.\u001b[0m\u001b[0m_open\u001b[0m\u001b[1;33m(\u001b[0m\u001b[1;33m)\u001b[0m\u001b[1;33m\u001b[0m\u001b[1;33m\u001b[0m\u001b[0m\n\u001b[0m\u001b[0;32m    198\u001b[0m \u001b[1;33m\u001b[0m\u001b[0m\n\u001b[0;32m    199\u001b[0m     \u001b[1;32mdef\u001b[0m \u001b[0m_open\u001b[0m\u001b[1;33m(\u001b[0m\u001b[0mself\u001b[0m\u001b[1;33m)\u001b[0m\u001b[1;33m:\u001b[0m\u001b[1;33m\u001b[0m\u001b[1;33m\u001b[0m\u001b[0m\n",
      "\u001b[1;32mD:\\anaconda3\\lib\\site-packages\\fsspec\\implementations\\local.py\u001b[0m in \u001b[0;36m_open\u001b[1;34m(self)\u001b[0m\n\u001b[0;32m    200\u001b[0m         \u001b[1;32mif\u001b[0m \u001b[0mself\u001b[0m\u001b[1;33m.\u001b[0m\u001b[0mf\u001b[0m \u001b[1;32mis\u001b[0m \u001b[1;32mNone\u001b[0m \u001b[1;32mor\u001b[0m \u001b[0mself\u001b[0m\u001b[1;33m.\u001b[0m\u001b[0mf\u001b[0m\u001b[1;33m.\u001b[0m\u001b[0mclosed\u001b[0m\u001b[1;33m:\u001b[0m\u001b[1;33m\u001b[0m\u001b[1;33m\u001b[0m\u001b[0m\n\u001b[0;32m    201\u001b[0m             \u001b[1;32mif\u001b[0m \u001b[0mself\u001b[0m\u001b[1;33m.\u001b[0m\u001b[0mautocommit\u001b[0m \u001b[1;32mor\u001b[0m \u001b[1;34m\"w\"\u001b[0m \u001b[1;32mnot\u001b[0m \u001b[1;32min\u001b[0m \u001b[0mself\u001b[0m\u001b[1;33m.\u001b[0m\u001b[0mmode\u001b[0m\u001b[1;33m:\u001b[0m\u001b[1;33m\u001b[0m\u001b[1;33m\u001b[0m\u001b[0m\n\u001b[1;32m--> 202\u001b[1;33m                 \u001b[0mself\u001b[0m\u001b[1;33m.\u001b[0m\u001b[0mf\u001b[0m \u001b[1;33m=\u001b[0m \u001b[0mopen\u001b[0m\u001b[1;33m(\u001b[0m\u001b[0mself\u001b[0m\u001b[1;33m.\u001b[0m\u001b[0mpath\u001b[0m\u001b[1;33m,\u001b[0m \u001b[0mmode\u001b[0m\u001b[1;33m=\u001b[0m\u001b[0mself\u001b[0m\u001b[1;33m.\u001b[0m\u001b[0mmode\u001b[0m\u001b[1;33m)\u001b[0m\u001b[1;33m\u001b[0m\u001b[1;33m\u001b[0m\u001b[0m\n\u001b[0m\u001b[0;32m    203\u001b[0m             \u001b[1;32melse\u001b[0m\u001b[1;33m:\u001b[0m\u001b[1;33m\u001b[0m\u001b[1;33m\u001b[0m\u001b[0m\n\u001b[0;32m    204\u001b[0m                 \u001b[1;31m# TODO: check if path is writable?\u001b[0m\u001b[1;33m\u001b[0m\u001b[1;33m\u001b[0m\u001b[1;33m\u001b[0m\u001b[0m\n",
      "\u001b[1;31mFileNotFoundError\u001b[0m: [Errno 2] No such file or directory: 'C:/Users/Ni Ying/Desktop/data/vae_weights.ckpt'"
     ]
    }
   ],
   "source": [
    "trained_model0 = VAE.load_from_checkpoint('C:/Users/Ni Ying/Desktop/data/vae_weights.ckpt')\n",
    "trained_model0.freeze()\n"
   ]
  },
  {
   "cell_type": "code",
   "execution_count": null,
   "metadata": {},
   "outputs": [],
   "source": [
    "dataset = TSDataset('test', cont_vars=hparams.cont_vars, \n",
    "                    cat_vars=hparams.cat_vars,\n",
    "                    lbl_as_feat=True) \n",
    "losses = []\n",
    "# run predictions for the training set examples\n",
    "for i in range(len(dataset)):\n",
    "    x_cont, x_cat = dataset[i]\n",
    "    x_cont.unsqueeze_(0)\n",
    "    x_cat.unsqueeze_(0)\n",
    "    recon, mu, logvar, x = trained_model.forward((x_cont, x_cat))\n",
    "    recon_loss, kld = trained_model.loss_function(x, recon, mu, logvar)\n",
    "    losses.append(recon_loss + trained_model.hparams.kld_beta * kld)\n",
    "    \n",
    "data_with_losses = dataset.df\n",
    "data_with_losses['loss'] = np.asarray(losses)\n",
    "data_with_losses.sort_values('t', inplace=True)\n",
    "data_with_losses.head()"
   ]
  },
  {
   "cell_type": "markdown",
   "metadata": {},
   "source": [
    "How are loss values distributed?"
   ]
  },
  {
   "cell_type": "code",
   "execution_count": 69,
   "metadata": {},
   "outputs": [
    {
     "data": {
      "text/plain": [
       "(0.019997287541627884, 0.02263602800667286)"
      ]
     },
     "execution_count": 69,
     "metadata": {},
     "output_type": "execute_result"
    }
   ],
   "source": [
    "mean, sigma = data_with_losses['loss'].mean(), data_with_losses['loss'].std()\n",
    "mean, sigma"
   ]
  },
  {
   "cell_type": "markdown",
   "metadata": {},
   "source": [
    "Let's define a threshold value (in units of sigma) beyond which instances are classified as anomalies:"
   ]
  },
  {
   "cell_type": "code",
   "execution_count": 70,
   "metadata": {},
   "outputs": [],
   "source": [
    "thresh = 6  # threshold for anomaly, in sigmas."
   ]
  },
  {
   "cell_type": "markdown",
   "metadata": {},
   "source": [
    "We can now flag as anomalies any instance where the loss is very far from the centre of the distribution:"
   ]
  },
  {
   "cell_type": "code",
   "execution_count": 71,
   "metadata": {},
   "outputs": [
    {
     "name": "stdout",
     "output_type": "stream",
     "text": [
      "      value  day  month  hour_min  day_of_week  holiday  gap_holiday  \\\n",
      "0 -0.472913    1      2  1.395093            0        0    -1.736216   \n",
      "1 -0.404614    1      2  1.431191            0        0    -1.736216   \n",
      "2 -0.474927    1      2  1.491355            0        0    -1.736216   \n",
      "3 -0.324889    1      2  1.551518            0        0    -1.736216   \n",
      "4 -0.333131    1      2  1.599649            0        0    -1.736216   \n",
      "\n",
      "          t      loss  anomaly  \n",
      "0 -1.725462  0.025421    False  \n",
      "1 -1.725004  0.024593    False  \n",
      "2 -1.724241  0.025160    False  \n",
      "3 -1.723478  0.023980    False  \n",
      "4 -1.722868  0.023252    False  \n"
     ]
    }
   ],
   "source": [
    "data_with_losses['anomaly'] = data_with_losses['loss'] > (mean + sigma * thresh)\n",
    "print(data_with_losses.head())\n",
    "colors = ['red' if anomaly else 'blue' for anomaly in data_with_losses['anomaly']]"
   ]
  },
  {
   "cell_type": "markdown",
   "metadata": {},
   "source": [
    "Let's see this in a histogram. Red colour denotes abnormal samples."
   ]
  },
  {
   "cell_type": "code",
   "execution_count": 72,
   "metadata": {},
   "outputs": [
    {
     "data": {
      "text/plain": [
       "<matplotlib.legend.Legend at 0x2c44bdd7188>"
      ]
     },
     "execution_count": 72,
     "metadata": {},
     "output_type": "execute_result"
    },
    {
     "data": {
      "image/png": "[encoded data removed]",
      "text/plain": [
       "<Figure size 432x288 with 1 Axes>"
      ]
     },
     "metadata": {
      "needs_background": "light"
     },
     "output_type": "display_data"
    }
   ],
   "source": [
    "anomalies_loss = data_with_losses.loc[data_with_losses['anomaly'], 'loss']\n",
    "normals_loss   = data_with_losses.loc[~data_with_losses['anomaly'], 'loss']\n",
    "plt.hist([normals_loss, anomalies_loss], bins=32, stacked=True, color=['blue', 'red'], label=['normal', 'abnormal'])\n",
    "plt.legend()"
   ]
  },
  {
   "cell_type": "markdown",
   "metadata": {},
   "source": [
    "What does it mean in terms of the distribution of the temperature values? We first \"unscale\" the data to put each feature back into the value ranges of the raw dataset."
   ]
  },
  {
   "cell_type": "code",
   "execution_count": 73,
   "metadata": {},
   "outputs": [
    {
     "name": "stdout",
     "output_type": "stream",
     "text": [
      "       value  day  month   hour_min  day_of_week  holiday  gap_holiday  \\\n",
      "0  79.329836    2     12  21.583333            0        0        -23.0   \n",
      "1  80.272828    2     12  21.833333            0        0        -23.0   \n",
      "2  79.302033    2     12  22.250000            0        0        -23.0   \n",
      "3  81.373575    2     12  22.666667            0        0        -23.0   \n",
      "4  81.259781    2     12  23.000000            0        0        -23.0   \n",
      "\n",
      "            t      loss  anomaly  \n",
      "0  13860201.0  0.025421    False  \n",
      "1  13860210.0  0.024593    False  \n",
      "2  13860225.0  0.025160    False  \n",
      "3  13860240.0  0.023980    False  \n",
      "4  13860252.0  0.023252    False  \n"
     ]
    }
   ],
   "source": [
    "data_with_losses_unscaled = data_with_losses.copy()\n",
    "data_with_losses_unscaled[cont_vars] = scaler.inverse_transform(data_with_losses[cont_vars])\n",
    "for enc, var in zip(label_encoders, cat_vars):\n",
    "    data_with_losses_unscaled[var] = enc.inverse_transform(data_with_losses[var])\n",
    "data_with_losses_unscaled = pd.DataFrame(data_with_losses_unscaled, columns=data_with_losses.columns)\n",
    "print(data_with_losses_unscaled.head())"
   ]
  },
  {
   "cell_type": "code",
   "execution_count": 74,
   "metadata": {},
   "outputs": [
    {
     "data": {
      "text/html": [
       "<div>\n",
       "<style scoped>\n",
       "    .dataframe tbody tr th:only-of-type {\n",
       "        vertical-align: middle;\n",
       "    }\n",
       "\n",
       "    .dataframe tbody tr th {\n",
       "        vertical-align: top;\n",
       "    }\n",
       "\n",
       "    .dataframe thead th {\n",
       "        text-align: right;\n",
       "    }\n",
       "</style>\n",
       "<table border=\"1\" class=\"dataframe\">\n",
       "  <thead>\n",
       "    <tr style=\"text-align: right;\">\n",
       "      <th></th>\n",
       "      <th>value</th>\n",
       "      <th>day</th>\n",
       "      <th>month</th>\n",
       "      <th>hour_min</th>\n",
       "      <th>day_of_week</th>\n",
       "      <th>holiday</th>\n",
       "      <th>gap_holiday</th>\n",
       "      <th>t</th>\n",
       "      <th>loss</th>\n",
       "      <th>anomaly</th>\n",
       "    </tr>\n",
       "  </thead>\n",
       "  <tbody>\n",
       "    <tr>\n",
       "      <th>0</th>\n",
       "      <td>79.329836</td>\n",
       "      <td>2</td>\n",
       "      <td>12</td>\n",
       "      <td>21.583333</td>\n",
       "      <td>0</td>\n",
       "      <td>0</td>\n",
       "      <td>-23.0</td>\n",
       "      <td>13860201.0</td>\n",
       "      <td>0.025421</td>\n",
       "      <td>False</td>\n",
       "    </tr>\n",
       "    <tr>\n",
       "      <th>1</th>\n",
       "      <td>80.272828</td>\n",
       "      <td>2</td>\n",
       "      <td>12</td>\n",
       "      <td>21.833333</td>\n",
       "      <td>0</td>\n",
       "      <td>0</td>\n",
       "      <td>-23.0</td>\n",
       "      <td>13860210.0</td>\n",
       "      <td>0.024593</td>\n",
       "      <td>False</td>\n",
       "    </tr>\n",
       "    <tr>\n",
       "      <th>2</th>\n",
       "      <td>79.302033</td>\n",
       "      <td>2</td>\n",
       "      <td>12</td>\n",
       "      <td>22.250000</td>\n",
       "      <td>0</td>\n",
       "      <td>0</td>\n",
       "      <td>-23.0</td>\n",
       "      <td>13860225.0</td>\n",
       "      <td>0.025160</td>\n",
       "      <td>False</td>\n",
       "    </tr>\n",
       "    <tr>\n",
       "      <th>3</th>\n",
       "      <td>81.373575</td>\n",
       "      <td>2</td>\n",
       "      <td>12</td>\n",
       "      <td>22.666667</td>\n",
       "      <td>0</td>\n",
       "      <td>0</td>\n",
       "      <td>-23.0</td>\n",
       "      <td>13860240.0</td>\n",
       "      <td>0.023980</td>\n",
       "      <td>False</td>\n",
       "    </tr>\n",
       "    <tr>\n",
       "      <th>4</th>\n",
       "      <td>81.259781</td>\n",
       "      <td>2</td>\n",
       "      <td>12</td>\n",
       "      <td>23.000000</td>\n",
       "      <td>0</td>\n",
       "      <td>0</td>\n",
       "      <td>-23.0</td>\n",
       "      <td>13860252.0</td>\n",
       "      <td>0.023252</td>\n",
       "      <td>False</td>\n",
       "    </tr>\n",
       "    <tr>\n",
       "      <th>...</th>\n",
       "      <td>...</td>\n",
       "      <td>...</td>\n",
       "      <td>...</td>\n",
       "      <td>...</td>\n",
       "      <td>...</td>\n",
       "      <td>...</td>\n",
       "      <td>...</td>\n",
       "      <td>...</td>\n",
       "      <td>...</td>\n",
       "      <td>...</td>\n",
       "    </tr>\n",
       "    <tr>\n",
       "      <th>6804</th>\n",
       "      <td>94.657280</td>\n",
       "      <td>19</td>\n",
       "      <td>2</td>\n",
       "      <td>13.666667</td>\n",
       "      <td>2</td>\n",
       "      <td>0</td>\n",
       "      <td>49.0</td>\n",
       "      <td>13928172.0</td>\n",
       "      <td>0.048355</td>\n",
       "      <td>False</td>\n",
       "    </tr>\n",
       "    <tr>\n",
       "      <th>6805</th>\n",
       "      <td>95.377308</td>\n",
       "      <td>19</td>\n",
       "      <td>2</td>\n",
       "      <td>13.750000</td>\n",
       "      <td>2</td>\n",
       "      <td>0</td>\n",
       "      <td>49.0</td>\n",
       "      <td>13928175.0</td>\n",
       "      <td>0.049483</td>\n",
       "      <td>False</td>\n",
       "    </tr>\n",
       "    <tr>\n",
       "      <th>6806</th>\n",
       "      <td>97.184352</td>\n",
       "      <td>19</td>\n",
       "      <td>2</td>\n",
       "      <td>14.083333</td>\n",
       "      <td>2</td>\n",
       "      <td>0</td>\n",
       "      <td>49.0</td>\n",
       "      <td>13928187.0</td>\n",
       "      <td>0.053763</td>\n",
       "      <td>False</td>\n",
       "    </tr>\n",
       "    <tr>\n",
       "      <th>6807</th>\n",
       "      <td>97.549774</td>\n",
       "      <td>19</td>\n",
       "      <td>2</td>\n",
       "      <td>14.833333</td>\n",
       "      <td>2</td>\n",
       "      <td>0</td>\n",
       "      <td>49.0</td>\n",
       "      <td>13928214.0</td>\n",
       "      <td>0.056864</td>\n",
       "      <td>False</td>\n",
       "    </tr>\n",
       "    <tr>\n",
       "      <th>6808</th>\n",
       "      <td>97.804168</td>\n",
       "      <td>19</td>\n",
       "      <td>2</td>\n",
       "      <td>15.166667</td>\n",
       "      <td>2</td>\n",
       "      <td>0</td>\n",
       "      <td>49.0</td>\n",
       "      <td>13928226.0</td>\n",
       "      <td>0.058625</td>\n",
       "      <td>False</td>\n",
       "    </tr>\n",
       "  </tbody>\n",
       "</table>\n",
       "<p>6809 rows × 10 columns</p>\n",
       "</div>"
      ],
      "text/plain": [
       "          value  day  month   hour_min  day_of_week  holiday  gap_holiday  \\\n",
       "0     79.329836    2     12  21.583333            0        0        -23.0   \n",
       "1     80.272828    2     12  21.833333            0        0        -23.0   \n",
       "2     79.302033    2     12  22.250000            0        0        -23.0   \n",
       "3     81.373575    2     12  22.666667            0        0        -23.0   \n",
       "4     81.259781    2     12  23.000000            0        0        -23.0   \n",
       "...         ...  ...    ...        ...          ...      ...          ...   \n",
       "6804  94.657280   19      2  13.666667            2        0         49.0   \n",
       "6805  95.377308   19      2  13.750000            2        0         49.0   \n",
       "6806  97.184352   19      2  14.083333            2        0         49.0   \n",
       "6807  97.549774   19      2  14.833333            2        0         49.0   \n",
       "6808  97.804168   19      2  15.166667            2        0         49.0   \n",
       "\n",
       "               t      loss  anomaly  \n",
       "0     13860201.0  0.025421    False  \n",
       "1     13860210.0  0.024593    False  \n",
       "2     13860225.0  0.025160    False  \n",
       "3     13860240.0  0.023980    False  \n",
       "4     13860252.0  0.023252    False  \n",
       "...          ...       ...      ...  \n",
       "6804  13928172.0  0.048355    False  \n",
       "6805  13928175.0  0.049483    False  \n",
       "6806  13928187.0  0.053763    False  \n",
       "6807  13928214.0  0.056864    False  \n",
       "6808  13928226.0  0.058625    False  \n",
       "\n",
       "[6809 rows x 10 columns]"
      ]
     },
     "execution_count": 74,
     "metadata": {},
     "output_type": "execute_result"
    }
   ],
   "source": [
    "data_with_losses_unscaled"
   ]
  },
  {
   "cell_type": "markdown",
   "metadata": {},
   "source": [
    "Then we build the histogram of `values`, coloured depending on whether or not the loss value for the corresponding observations are considered abnormal or not. "
   ]
  },
  {
   "cell_type": "code",
   "execution_count": 75,
   "metadata": {},
   "outputs": [
    {
     "data": {
      "text/plain": [
       "<matplotlib.legend.Legend at 0x2c44e2183c8>"
      ]
     },
     "execution_count": 75,
     "metadata": {},
     "output_type": "execute_result"
    },
    {
     "data": {
      "image/png": "[encoded data removed]",
      "text/plain": [
       "<Figure size 432x288 with 1 Axes>"
      ]
     },
     "metadata": {
      "needs_background": "light"
     },
     "output_type": "display_data"
    }
   ],
   "source": [
    "anomalies_value = data_with_losses_unscaled.loc[data_with_losses_unscaled['anomaly'], ['loss','value']]\n",
    "normals_value = data_with_losses_unscaled.loc[~data_with_losses_unscaled['anomaly'], ['loss','value']]\n",
    "\n",
    "plt.hist([normals_value['value'], anomalies_value['value']], bins=100, stacked=True, color=['blue', 'red'], label=['normal', 'abnormal'])\n",
    "plt.legend()"
   ]
  },
  {
   "cell_type": "markdown",
   "metadata": {},
   "source": [
    "It's interesting to note that the instances flagged as abnormal are not necessarily at the extreme end of the value spectrum, as they would be using a more naive approach. Let see these flagged examples on the original timeseries:\n"
   ]
  },
  {
   "cell_type": "code",
   "execution_count": 76,
   "metadata": {},
   "outputs": [
    {
     "name": "stdout",
     "output_type": "stream",
     "text": [
      "               t      value\n",
      "1141  13872081.0  40.461427\n",
      "1142  13872087.0  36.249653\n",
      "1143  13872096.0  30.699649\n",
      "1144  13872111.0  22.983839\n",
      "1145  13872114.0  21.737032\n"
     ]
    },
    {
     "data": {
      "image/png": "[encoded data removed]",
      "text/plain": [
       "<Figure size 432x288 with 1 Axes>"
      ]
     },
     "metadata": {
      "needs_background": "light"
     },
     "output_type": "display_data"
    }
   ],
   "source": [
    "anomalies_ts = data_with_losses_unscaled.loc[data_with_losses_unscaled['anomaly'], ('t', 'value')]\n",
    "holidays_ts = data_with_losses_unscaled.loc[data_with_losses_unscaled['holiday'] == 1, ('t', 'value')]\n",
    "print(anomalies_ts.head())\n",
    "fig, ax = plt.subplots()\n",
    "ax.plot(data_with_losses_unscaled['t'], data_with_losses_unscaled['value'], color='blue')\n",
    "ax.scatter(anomalies_ts['t'], anomalies_ts['value'], color='red', label='anomaly')\n",
    "plt.legend()\n",
    "plt.show()"
   ]
  },
  {
   "cell_type": "markdown",
   "metadata": {},
   "source": [
    "With a shreshold at 6 sigmas, our model detects the first anomaly (the voluntary system shutdown) as well as the third one (catastrophic failure). It misses the second one but does not generate many false positives. The threshold that we defined can be adjusted to favour precision or recall and the optimal value could be determined by the area under the precision-recall curve. It would also be interesting to perform an ablation study to understand which of the engineered features are the most helpful.\n",
    "\n",
    "I hope this notebook was informative and gave you some insight into VAEs and their usefulness!"
   ]
  },
  {
   "cell_type": "markdown",
   "metadata": {},
   "source": [
    "## References\n",
    "\\[1\\] Doersch, C. (2016). Tutorial on variational autoencoders. arXiv preprint arXiv:1606.05908.  \n",
    "\\[2\\] Ahmad, S., Lavin, A., Purdy, S., & Agha, Z. (2017). Unsupervised real-time anomaly detection for streaming data. Neurocomputing, 262, 134-147."
   ]
  }
 ],
 "metadata": {
  "kernelspec": {
   "display_name": "Python 3",
   "language": "python",
   "name": "python3"
  },
  "language_info": {
   "codemirror_mode": {
    "name": "ipython",
    "version": 3
   },
   "file_extension": ".py",
   "mimetype": "text/x-python",
   "name": "python",
   "nbconvert_exporter": "python",
   "pygments_lexer": "ipython3",
   "version": "3.7.6"
  }
 },
 "nbformat": 4,
 "nbformat_minor": 4
}
