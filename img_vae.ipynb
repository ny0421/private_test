{
 "cells": [
  {
   "cell_type": "code",
   "execution_count": 1,
   "metadata": {},
   "outputs": [],
   "source": [
    "import os\n",
    "import numpy as np # linear algebra\n",
    "import pandas as pd # data processing, CSV file I/O (e.g. pd.read_csv)\n",
    "from pathlib import Path\n",
    "from collections import OrderedDict\n",
    "import torch\n",
    "import torch.nn as nn\n",
    "import torch.nn.functional as F\n",
    "from torch.utils.data import Dataset, DataLoader\n",
    "from sklearn import preprocessing\n",
    "import matplotlib.pyplot as plt\n",
    "import pytorch_lightning as pl\n",
    "from pytorch_lightning.loggers import WandbLogger\n",
    "import wandb"
   ]
  },
  {
   "cell_type": "code",
   "execution_count": 43,
   "metadata": {},
   "outputs": [],
   "source": [
    "datafile_path = Path('C:/Users/Ni Ying/Desktop/data/imagexlsx.xlsx')\n",
    "datasets_root = Path('C:/Users/Ni Ying/Desktop/data/working')\n",
    "data = pd.read_excel(datafile_path)"
   ]
  },
  {
   "cell_type": "code",
   "execution_count": 3,
   "metadata": {},
   "outputs": [],
   "source": [
    "cont_vars = ['r1','r2','r3','g1','g2','g3','b1','b2','b3','asm','con','eng','idm']\n",
    "cat_vars = ['type','ifpic']"
   ]
  },
  {
   "cell_type": "code",
   "execution_count": 47,
   "metadata": {
    "scrolled": true
   },
   "outputs": [
    {
     "data": {
      "text/html": [
       "<div>\n",
       "<style scoped>\n",
       "    .dataframe tbody tr th:only-of-type {\n",
       "        vertical-align: middle;\n",
       "    }\n",
       "\n",
       "    .dataframe tbody tr th {\n",
       "        vertical-align: top;\n",
       "    }\n",
       "\n",
       "    .dataframe thead th {\n",
       "        text-align: right;\n",
       "    }\n",
       "</style>\n",
       "<table border=\"1\" class=\"dataframe\">\n",
       "  <thead>\n",
       "    <tr style=\"text-align: right;\">\n",
       "      <th></th>\n",
       "      <th>uid</th>\n",
       "      <th>type</th>\n",
       "      <th>ifpic</th>\n",
       "      <th>r1</th>\n",
       "      <th>r2</th>\n",
       "      <th>r3</th>\n",
       "      <th>g1</th>\n",
       "      <th>g2</th>\n",
       "      <th>g3</th>\n",
       "      <th>b1</th>\n",
       "      <th>b2</th>\n",
       "      <th>b3</th>\n",
       "      <th>asm</th>\n",
       "      <th>con</th>\n",
       "      <th>eng</th>\n",
       "      <th>idm</th>\n",
       "    </tr>\n",
       "  </thead>\n",
       "  <tbody>\n",
       "    <tr>\n",
       "      <th>0</th>\n",
       "      <td>1</td>\n",
       "      <td>2</td>\n",
       "      <td>1</td>\n",
       "      <td>166.841925</td>\n",
       "      <td>63.446047</td>\n",
       "      <td>-62.451236</td>\n",
       "      <td>158.253300</td>\n",
       "      <td>63.790080</td>\n",
       "      <td>-66.556483</td>\n",
       "      <td>156.180375</td>\n",
       "      <td>63.584990</td>\n",
       "      <td>-65.435522</td>\n",
       "      <td>0.179038</td>\n",
       "      <td>2.5806</td>\n",
       "      <td>2.895655</td>\n",
       "      <td>0.843625</td>\n",
       "    </tr>\n",
       "    <tr>\n",
       "      <th>1</th>\n",
       "      <td>12</td>\n",
       "      <td>2</td>\n",
       "      <td>1</td>\n",
       "      <td>111.179400</td>\n",
       "      <td>62.839314</td>\n",
       "      <td>-49.312123</td>\n",
       "      <td>155.679775</td>\n",
       "      <td>55.865453</td>\n",
       "      <td>-58.168950</td>\n",
       "      <td>187.076875</td>\n",
       "      <td>57.550191</td>\n",
       "      <td>-67.406039</td>\n",
       "      <td>0.049059</td>\n",
       "      <td>4.2790</td>\n",
       "      <td>3.882789</td>\n",
       "      <td>0.663226</td>\n",
       "    </tr>\n",
       "    <tr>\n",
       "      <th>2</th>\n",
       "      <td>18</td>\n",
       "      <td>2</td>\n",
       "      <td>0</td>\n",
       "      <td>0.000000</td>\n",
       "      <td>0.000000</td>\n",
       "      <td>0.000000</td>\n",
       "      <td>0.000000</td>\n",
       "      <td>0.000000</td>\n",
       "      <td>0.000000</td>\n",
       "      <td>0.000000</td>\n",
       "      <td>0.000000</td>\n",
       "      <td>0.000000</td>\n",
       "      <td>0.000000</td>\n",
       "      <td>0.0000</td>\n",
       "      <td>0.000000</td>\n",
       "      <td>0.000000</td>\n",
       "    </tr>\n",
       "    <tr>\n",
       "      <th>3</th>\n",
       "      <td>22</td>\n",
       "      <td>2</td>\n",
       "      <td>0</td>\n",
       "      <td>0.000000</td>\n",
       "      <td>0.000000</td>\n",
       "      <td>0.000000</td>\n",
       "      <td>0.000000</td>\n",
       "      <td>0.000000</td>\n",
       "      <td>0.000000</td>\n",
       "      <td>0.000000</td>\n",
       "      <td>0.000000</td>\n",
       "      <td>0.000000</td>\n",
       "      <td>0.000000</td>\n",
       "      <td>0.0000</td>\n",
       "      <td>0.000000</td>\n",
       "      <td>0.000000</td>\n",
       "    </tr>\n",
       "    <tr>\n",
       "      <th>4</th>\n",
       "      <td>35</td>\n",
       "      <td>2</td>\n",
       "      <td>0</td>\n",
       "      <td>0.000000</td>\n",
       "      <td>0.000000</td>\n",
       "      <td>0.000000</td>\n",
       "      <td>0.000000</td>\n",
       "      <td>0.000000</td>\n",
       "      <td>0.000000</td>\n",
       "      <td>0.000000</td>\n",
       "      <td>0.000000</td>\n",
       "      <td>0.000000</td>\n",
       "      <td>0.000000</td>\n",
       "      <td>0.0000</td>\n",
       "      <td>0.000000</td>\n",
       "      <td>0.000000</td>\n",
       "    </tr>\n",
       "    <tr>\n",
       "      <th>...</th>\n",
       "      <td>...</td>\n",
       "      <td>...</td>\n",
       "      <td>...</td>\n",
       "      <td>...</td>\n",
       "      <td>...</td>\n",
       "      <td>...</td>\n",
       "      <td>...</td>\n",
       "      <td>...</td>\n",
       "      <td>...</td>\n",
       "      <td>...</td>\n",
       "      <td>...</td>\n",
       "      <td>...</td>\n",
       "      <td>...</td>\n",
       "      <td>...</td>\n",
       "      <td>...</td>\n",
       "      <td>...</td>\n",
       "    </tr>\n",
       "    <tr>\n",
       "      <th>63658</th>\n",
       "      <td>1817710</td>\n",
       "      <td>2</td>\n",
       "      <td>1</td>\n",
       "      <td>88.309425</td>\n",
       "      <td>59.678349</td>\n",
       "      <td>53.144456</td>\n",
       "      <td>72.491300</td>\n",
       "      <td>46.649307</td>\n",
       "      <td>43.335417</td>\n",
       "      <td>56.603550</td>\n",
       "      <td>44.023987</td>\n",
       "      <td>42.715452</td>\n",
       "      <td>0.056898</td>\n",
       "      <td>0.9922</td>\n",
       "      <td>3.480351</td>\n",
       "      <td>0.758520</td>\n",
       "    </tr>\n",
       "    <tr>\n",
       "      <th>63659</th>\n",
       "      <td>1817712</td>\n",
       "      <td>2</td>\n",
       "      <td>0</td>\n",
       "      <td>0.000000</td>\n",
       "      <td>0.000000</td>\n",
       "      <td>0.000000</td>\n",
       "      <td>0.000000</td>\n",
       "      <td>0.000000</td>\n",
       "      <td>0.000000</td>\n",
       "      <td>0.000000</td>\n",
       "      <td>0.000000</td>\n",
       "      <td>0.000000</td>\n",
       "      <td>0.000000</td>\n",
       "      <td>0.0000</td>\n",
       "      <td>0.000000</td>\n",
       "      <td>0.000000</td>\n",
       "    </tr>\n",
       "    <tr>\n",
       "      <th>63660</th>\n",
       "      <td>1817890</td>\n",
       "      <td>2</td>\n",
       "      <td>1</td>\n",
       "      <td>187.832400</td>\n",
       "      <td>73.076020</td>\n",
       "      <td>-76.987670</td>\n",
       "      <td>155.453025</td>\n",
       "      <td>55.151594</td>\n",
       "      <td>-33.555261</td>\n",
       "      <td>89.282200</td>\n",
       "      <td>55.796176</td>\n",
       "      <td>50.441616</td>\n",
       "      <td>0.038189</td>\n",
       "      <td>2.9433</td>\n",
       "      <td>3.854994</td>\n",
       "      <td>0.730024</td>\n",
       "    </tr>\n",
       "    <tr>\n",
       "      <th>63661</th>\n",
       "      <td>1823090</td>\n",
       "      <td>1</td>\n",
       "      <td>1</td>\n",
       "      <td>204.942675</td>\n",
       "      <td>41.241178</td>\n",
       "      <td>-37.723090</td>\n",
       "      <td>121.325050</td>\n",
       "      <td>43.164924</td>\n",
       "      <td>25.844677</td>\n",
       "      <td>86.205650</td>\n",
       "      <td>32.699973</td>\n",
       "      <td>-16.954191</td>\n",
       "      <td>0.039200</td>\n",
       "      <td>1.0046</td>\n",
       "      <td>3.640017</td>\n",
       "      <td>0.741229</td>\n",
       "    </tr>\n",
       "    <tr>\n",
       "      <th>63662</th>\n",
       "      <td>1825048</td>\n",
       "      <td>1</td>\n",
       "      <td>0</td>\n",
       "      <td>0.000000</td>\n",
       "      <td>0.000000</td>\n",
       "      <td>0.000000</td>\n",
       "      <td>0.000000</td>\n",
       "      <td>0.000000</td>\n",
       "      <td>0.000000</td>\n",
       "      <td>0.000000</td>\n",
       "      <td>0.000000</td>\n",
       "      <td>0.000000</td>\n",
       "      <td>0.000000</td>\n",
       "      <td>0.0000</td>\n",
       "      <td>0.000000</td>\n",
       "      <td>0.000000</td>\n",
       "    </tr>\n",
       "  </tbody>\n",
       "</table>\n",
       "<p>63663 rows × 16 columns</p>\n",
       "</div>"
      ],
      "text/plain": [
       "           uid  type  ifpic          r1         r2         r3          g1  \\\n",
       "0            1     2      1  166.841925  63.446047 -62.451236  158.253300   \n",
       "1           12     2      1  111.179400  62.839314 -49.312123  155.679775   \n",
       "2           18     2      0    0.000000   0.000000   0.000000    0.000000   \n",
       "3           22     2      0    0.000000   0.000000   0.000000    0.000000   \n",
       "4           35     2      0    0.000000   0.000000   0.000000    0.000000   \n",
       "...        ...   ...    ...         ...        ...        ...         ...   \n",
       "63658  1817710     2      1   88.309425  59.678349  53.144456   72.491300   \n",
       "63659  1817712     2      0    0.000000   0.000000   0.000000    0.000000   \n",
       "63660  1817890     2      1  187.832400  73.076020 -76.987670  155.453025   \n",
       "63661  1823090     1      1  204.942675  41.241178 -37.723090  121.325050   \n",
       "63662  1825048     1      0    0.000000   0.000000   0.000000    0.000000   \n",
       "\n",
       "              g2         g3          b1         b2         b3       asm  \\\n",
       "0      63.790080 -66.556483  156.180375  63.584990 -65.435522  0.179038   \n",
       "1      55.865453 -58.168950  187.076875  57.550191 -67.406039  0.049059   \n",
       "2       0.000000   0.000000    0.000000   0.000000   0.000000  0.000000   \n",
       "3       0.000000   0.000000    0.000000   0.000000   0.000000  0.000000   \n",
       "4       0.000000   0.000000    0.000000   0.000000   0.000000  0.000000   \n",
       "...          ...        ...         ...        ...        ...       ...   \n",
       "63658  46.649307  43.335417   56.603550  44.023987  42.715452  0.056898   \n",
       "63659   0.000000   0.000000    0.000000   0.000000   0.000000  0.000000   \n",
       "63660  55.151594 -33.555261   89.282200  55.796176  50.441616  0.038189   \n",
       "63661  43.164924  25.844677   86.205650  32.699973 -16.954191  0.039200   \n",
       "63662   0.000000   0.000000    0.000000   0.000000   0.000000  0.000000   \n",
       "\n",
       "          con       eng       idm  \n",
       "0      2.5806  2.895655  0.843625  \n",
       "1      4.2790  3.882789  0.663226  \n",
       "2      0.0000  0.000000  0.000000  \n",
       "3      0.0000  0.000000  0.000000  \n",
       "4      0.0000  0.000000  0.000000  \n",
       "...       ...       ...       ...  \n",
       "63658  0.9922  3.480351  0.758520  \n",
       "63659  0.0000  0.000000  0.000000  \n",
       "63660  2.9433  3.854994  0.730024  \n",
       "63661  1.0046  3.640017  0.741229  \n",
       "63662  0.0000  0.000000  0.000000  \n",
       "\n",
       "[63663 rows x 16 columns]"
      ]
     },
     "execution_count": 47,
     "metadata": {},
     "output_type": "execute_result"
    }
   ],
   "source": [
    "from sklearn.preprocessing import LabelEncoder\n",
    "\n",
    "label_encoders = [LabelEncoder() for _ in cat_vars] \n",
    "for col, enc in zip(cat_vars, label_encoders):\n",
    "    data[col] = enc.fit_transform(data[col])\n",
    "    \n",
    "data"
   ]
  },
  {
   "cell_type": "code",
   "execution_count": 49,
   "metadata": {},
   "outputs": [],
   "source": [
    "pri_data = data[data['type']==2]\n",
    "tst_data = pri_data\n",
    "off_data = data[data['type']==0]\n",
    "plat_data = data[data['type']==1]\n",
    "tr_data = pd.concat((off_data, plat_data), ignore_index=True)"
   ]
  },
  {
   "cell_type": "code",
   "execution_count": 50,
   "metadata": {},
   "outputs": [],
   "source": [
    "scaler = preprocessing.StandardScaler().fit(tr_data[cont_vars])"
   ]
  },
  {
   "cell_type": "code",
   "execution_count": 51,
   "metadata": {},
   "outputs": [],
   "source": [
    "tr_data_scaled = tr_data.copy()\n",
    "tr_data_scaled[cont_vars] = scaler.transform(tr_data[cont_vars])\n",
    "tst_data_scaled = tst_data.copy()\n",
    "tst_data_scaled[cont_vars] = scaler.transform(tst_data[cont_vars])"
   ]
  },
  {
   "cell_type": "code",
   "execution_count": 52,
   "metadata": {
    "scrolled": true
   },
   "outputs": [
    {
     "data": {
      "text/plain": [
       "(          uid  type  ifpic          r1          r2          r3          g1  \\\n",
       " 0        5719     0      1   78.896825   74.612187   39.078860   54.869900   \n",
       " 1        6719     0      1  182.745225  108.374545 -107.900955  195.247175   \n",
       " 2        7179     0      1   64.799700   58.491642   71.718025   80.051075   \n",
       " 3        7207     0      1  224.493475   16.922179  -17.684040  202.285325   \n",
       " 4        7257     0      0    0.000000    0.000000    0.000000    0.000000   \n",
       " ...       ...   ...    ...         ...         ...         ...         ...   \n",
       " 3767  1808066     1      0    0.000000    0.000000    0.000000    0.000000   \n",
       " 3768  1808828     1      0    0.000000    0.000000    0.000000    0.000000   \n",
       " 3769  1809348     1      0    0.000000    0.000000    0.000000    0.000000   \n",
       " 3770  1823090     1      1  204.942675   41.241178  -37.723090  121.325050   \n",
       " 3771  1825048     1      0    0.000000    0.000000    0.000000    0.000000   \n",
       " \n",
       "              g2         g3          b1         b2         b3       asm  \\\n",
       " 0     49.705432  -8.276585   23.881725  23.460473  22.432648  0.189662   \n",
       " 1     85.291743 -80.432292  212.582450  62.767672 -67.207104  0.409124   \n",
       " 2     68.668376  78.536762  101.821675  77.887469  74.833777  0.119673   \n",
       " 3     30.294557 -26.095023  167.392700  43.293536 -33.097670  0.080244   \n",
       " 4      0.000000   0.000000    0.000000   0.000000   0.000000  0.000000   \n",
       " ...         ...        ...         ...        ...        ...       ...   \n",
       " 3767   0.000000   0.000000    0.000000   0.000000   0.000000  0.000000   \n",
       " 3768   0.000000   0.000000    0.000000   0.000000   0.000000  0.000000   \n",
       " 3769   0.000000   0.000000    0.000000   0.000000   0.000000  0.000000   \n",
       " 3770  43.164924  25.844677   86.205650  32.699973 -16.954191  0.039200   \n",
       " 3771   0.000000   0.000000    0.000000   0.000000   0.000000  0.000000   \n",
       " \n",
       "          con       eng       idm  \n",
       " 0     3.6392  2.703286  0.795945  \n",
       " 1     4.1468  1.564471  0.889403  \n",
       " 2     0.6236  2.889069  0.869746  \n",
       " 3     0.4576  2.881979  0.851102  \n",
       " 4     0.0000  0.000000  0.000000  \n",
       " ...      ...       ...       ...  \n",
       " 3767  0.0000  0.000000  0.000000  \n",
       " 3768  0.0000  0.000000  0.000000  \n",
       " 3769  0.0000  0.000000  0.000000  \n",
       " 3770  1.0046  3.640017  0.741229  \n",
       " 3771  0.0000  0.000000  0.000000  \n",
       " \n",
       " [3772 rows x 16 columns],\n",
       "           uid  type  ifpic        r1        r2        r3        g1        g2  \\\n",
       " 0        5719     0      1 -0.305752  1.227966  1.444914 -0.474961  0.348039   \n",
       " 1        6719     0      1  0.656434  2.168581 -1.901661  0.925902  1.302675   \n",
       " 2        7179     0      1 -0.436365  0.778850  2.188073 -0.223671  0.856737   \n",
       " 3        7207     0      1  1.043243 -0.379270  0.152483  0.996138 -0.172676   \n",
       " 4        7257     0      0 -1.036753 -0.850720  0.555130 -1.022523 -0.985355   \n",
       " ...       ...   ...    ...       ...       ...       ...       ...       ...   \n",
       " 3767  1808066     1      0 -1.036753 -0.850720  0.555130 -1.022523 -0.985355   \n",
       " 3768  1808828     1      0 -1.036753 -0.850720  0.555130 -1.022523 -0.985355   \n",
       " 3769  1809348     1      0 -1.036753 -0.850720  0.555130 -1.022523 -0.985355   \n",
       " 3770  1823090     1      1  0.862100  0.298254 -0.303785  0.188213  0.172584   \n",
       " 3771  1825048     1      0 -1.036753 -0.850720  0.555130 -1.022523 -0.985355   \n",
       " \n",
       "             g3        b1        b2        b3       asm       con       eng  \\\n",
       " 0     0.344507 -0.755868 -0.394689  0.952432 -0.071256  0.358006  1.300065   \n",
       " 1    -1.220392  1.162140  0.578196 -0.835028  0.890469  0.503087  0.338017   \n",
       " 2     2.227297  0.036336  0.952423  1.997335 -0.377961 -0.503907  1.457011   \n",
       " 3    -0.041936  0.702818  0.096196 -0.154870 -0.550744 -0.551353  1.451022   \n",
       " 4     0.524007 -0.998609 -0.975355  0.505114 -0.902389 -0.682143 -0.983619   \n",
       " ...        ...       ...       ...       ...       ...       ...       ...   \n",
       " 3767  0.524007 -0.998609 -0.975355  0.505114 -0.902389 -0.682143 -0.983619   \n",
       " 3768  0.524007 -0.998609 -0.975355  0.505114 -0.902389 -0.682143 -0.983619   \n",
       " 3769  0.524007 -0.998609 -0.975355  0.505114 -0.902389 -0.682143 -0.983619   \n",
       " 3770  1.084522 -0.122390 -0.166004  0.167039 -0.730607 -0.395010  2.091398   \n",
       " 3771  0.524007 -0.998609 -0.975355  0.505114 -0.902389 -0.682143 -0.983619   \n",
       " \n",
       "            idm  \n",
       " 0     0.811984  \n",
       " 1     1.036325  \n",
       " 2     0.989140  \n",
       " 3     0.944385  \n",
       " 4    -1.098656  \n",
       " ...        ...  \n",
       " 3767 -1.098656  \n",
       " 3768 -1.098656  \n",
       " 3769 -1.098656  \n",
       " 3770  0.680638  \n",
       " 3771 -1.098656  \n",
       " \n",
       " [3772 rows x 16 columns])"
      ]
     },
     "execution_count": 52,
     "metadata": {},
     "output_type": "execute_result"
    }
   ],
   "source": [
    "tr_data, tr_data_scaled"
   ]
  },
  {
   "cell_type": "code",
   "execution_count": 56,
   "metadata": {},
   "outputs": [],
   "source": [
    "tr_data_scaled.to_csv(datasets_root/'img_ad_train.csv', index=False)\n",
    "tst_data_scaled.to_csv(datasets_root/'img_ad_test.csv', index=False)"
   ]
  },
  {
   "cell_type": "code",
   "execution_count": 57,
   "metadata": {},
   "outputs": [],
   "source": [
    "class TSDataset(Dataset):\n",
    "    def __init__(self, split, cont_vars=None, cat_vars=None, lbl_as_feat=True):\n",
    "        \"\"\"\n",
    "        split: 'train' if we want to get data from the training examples, 'test' for\n",
    "        test examples, or 'both' to merge the training and test sets and return samples\n",
    "        from either.\n",
    "        cont_vars: List of continuous variables to return as features. If None, returns\n",
    "        all continuous variables available.\n",
    "        cat_vars: Same as above, but for categorical variables.\n",
    "        lbl_as_feat: Set to True when training a VAE -- the labels (temperature values)\n",
    "        will be included as another dimension of the data. Set to False when training\n",
    "        a model to predict temperatures.\n",
    "        \"\"\"\n",
    "        super().__init__()\n",
    "        assert split in ['train', 'test', 'both']\n",
    "        self.lbl_as_feat = lbl_as_feat\n",
    "        if split == 'train':\n",
    "            self.df = pd.read_csv(datasets_root/'img_ad_train.csv')\n",
    "        elif split == 'test':\n",
    "            self.df = pd.read_csv(datasets_root/'img_ad_test.csv')\n",
    "        else:\n",
    "            df1 = pd.read_csv(datasets_root/'img_ad_train.csv')\n",
    "            df2 = pd.read_csv(datasets_root/'img_ad_test.csv')\n",
    "            self.df = pd.concat((df1, df2), ignore_index=True)\n",
    "        \n",
    "        if cat_vars:\n",
    "            self.cont_vars = cont_vars\n",
    "        else:  # if no list provided, use all available\n",
    "            self.cont_vars = ['r1','r2','r3','g1','g2','g3','b1','b2','b3','asm','con','eng','idm']\n",
    "\n",
    "        # Select categorical variables to use\n",
    "        if cat_vars:\n",
    "            self.cat_vars = cat_vars\n",
    "        else:  # if no list provided, use all available\n",
    "            self.cat_vars = ['ifpic']\n",
    "        \n",
    "        # Finally, make two Numpy arrays for continuous and categorical\n",
    "        # variables, respectively:\n",
    "        if self.lbl_as_feat:\n",
    "            self.cont = self.df[self.cont_vars].copy().to_numpy(dtype=np.float32)\n",
    "        else:\n",
    "            self.cont = self.df[self.cont_vars].copy().to_numpy(dtype=np.float32)\n",
    "            self.lbl = self.df['type'].copy().to_numpy(dtype=np.float32)\n",
    "        self.cat = self.df[self.cat_vars].copy().to_numpy(dtype=np.int64)\n",
    "            \n",
    "    def __getitem__(self, idx):\n",
    "        if self.lbl_as_feat:  # for VAE training\n",
    "            return torch.tensor(self.cont[idx]), torch.tensor(self.cat[idx])\n",
    "        else:  # for supervised prediction\n",
    "            return torch.tensor(self.cont[idx]), torch.tensor(self.cat[idx]), torch.tensor(self.lbl[idx])\n",
    "    \n",
    "    def __len__(self):\n",
    "        return self.df.shape[0]"
   ]
  },
  {
   "cell_type": "code",
   "execution_count": 58,
   "metadata": {
    "scrolled": true
   },
   "outputs": [
    {
     "name": "stdout",
     "output_type": "stream",
     "text": [
      "63663\n",
      "(tensor([-0.3058,  1.2280,  1.4449, -0.4750,  0.3480,  0.3445, -0.7559, -0.3947,\n",
      "         0.9524, -0.0713,  0.3580,  1.3001,  0.8120]), tensor([1]))\n",
      "(tensor([ 0.6564,  2.1686, -1.9017,  0.9259,  1.3027, -1.2204,  1.1621,  0.5782,\n",
      "        -0.8350,  0.8905,  0.5031,  0.3380,  1.0363]), tensor([1]))\n",
      "(tensor([-0.4364,  0.7788,  2.1881, -0.2237,  0.8567,  2.2273,  0.0363,  0.9524,\n",
      "         1.9973, -0.3780, -0.5039,  1.4570,  0.9891]), tensor([1]))\n",
      "(tensor([ 1.0432, -0.3793,  0.1525,  0.9961, -0.1727, -0.0419,  0.7028,  0.0962,\n",
      "        -0.1549, -0.5507, -0.5514,  1.4510,  0.9444]), tensor([1]))\n",
      "(tensor([-1.0368, -0.8507,  0.5551, -1.0225, -0.9854,  0.5240, -0.9986, -0.9754,\n",
      "         0.5051, -0.9024, -0.6821, -0.9836, -1.0987]), tensor([0]))\n",
      "(tensor([ 0.5603,  1.3976, -1.2418,  0.5729,  1.3385, -1.0672,  0.5725,  1.1837,\n",
      "        -0.8828, -0.6256, -0.1243,  2.1297,  0.7058]), tensor([1]))\n",
      "(tensor([ 1.1636, -0.1395, -0.2110,  1.0016,  0.2758, -0.8483,  0.1090,  0.0432,\n",
      "         1.4338,  0.6405,  0.1257,  0.9524,  0.7664]), tensor([1]))\n",
      "(tensor([-1.0368, -0.8507,  0.5551, -1.0225, -0.9854,  0.5240, -0.9986, -0.9754,\n",
      "         0.5051, -0.9024, -0.6821, -0.9836, -1.0987]), tensor([0]))\n",
      "(tensor([-1.0368, -0.8507,  0.5551, -1.0225, -0.9854,  0.5240, -0.9986, -0.9754,\n",
      "         0.5051, -0.9024, -0.6821, -0.9836, -1.0987]), tensor([0]))\n",
      "(tensor([ 0.1931,  1.3390,  0.2670,  0.2174,  1.2909,  1.5125,  0.1664,  1.0727,\n",
      "         1.6536, -0.7218, -0.0710,  2.2910,  0.6399]), tensor([1]))\n"
     ]
    }
   ],
   "source": [
    "ds = TSDataset(split='both', cont_vars=['r1','r2','r3','g1','g2','g3','b1','b2','b3','asm','con','eng','idm'], cat_vars=['ifpic'], lbl_as_feat=True)\n",
    "print(len(ds))\n",
    "it = iter(ds)\n",
    "for _ in range(10):\n",
    "    print(next(it))"
   ]
  },
  {
   "cell_type": "code",
   "execution_count": 59,
   "metadata": {},
   "outputs": [],
   "source": [
    "class Layer(nn.Module):\n",
    "    '''\n",
    "    A single fully connected layer with optional batch normalisation and activation.\n",
    "    '''\n",
    "    def __init__(self, in_dim, out_dim, bn = True):\n",
    "        super().__init__()\n",
    "        layers = [nn.Linear(in_dim, out_dim)]\n",
    "        if bn: layers.append(nn.BatchNorm1d(out_dim))\n",
    "        layers.append(nn.LeakyReLU(0.1, inplace=True))\n",
    "        self.block = nn.Sequential(*layers)\n",
    "    \n",
    "    def forward(self, x):\n",
    "        return self.block(x)\n",
    "\n",
    "    \n",
    "class Encoder(nn.Module):\n",
    "    '''\n",
    "    The encoder part of our VAE. Takes a data sample and returns the mean and the log-variance of the \n",
    "    latent vector's distribution.\n",
    "    '''\n",
    "    def __init__(self, hparams):\n",
    "        super().__init__()\n",
    "\n",
    "        self.embeds = nn.ModuleList([\n",
    "            nn.Embedding(n_cats, emb_size) for (n_cats, emb_size) in hparams.embedding_sizes\n",
    "        ])\n",
    "        # The input to the first layer is the concatenation of all embedding vectors and continuous\n",
    "        # values\n",
    "        in_dim = sum(emb.embedding_dim for emb in self.embeds) + len(hparams.cont_vars)\n",
    "        layer_dims = [in_dim] + [int(s) for s in hparams.layer_sizes.split(',')]\n",
    "        bn = hparams.batch_norm\n",
    "        self.layers = nn.Sequential(\n",
    "            *[Layer(layer_dims[i], layer_dims[i + 1], bn) for i in range(len(layer_dims) - 1)],\n",
    "        )\n",
    "        self.mu = nn.Linear(layer_dims[-1], hparams.latent_dim)\n",
    "        self.logvar = nn.Linear(layer_dims[-1], hparams.latent_dim)\n",
    "    \n",
    "    def forward(self, x_cont, x_cat):\n",
    "        x_embed = [e(x_cat[:, i]) for i, e in enumerate(self.embeds)]        \n",
    "        x_embed = torch.cat(x_embed, dim=1)\n",
    "        x = torch.cat((x_embed, x_cont), dim=1)\n",
    "        h = self.layers(x)\n",
    "        mu_ = self.mu(h)\n",
    "        logvar_ = self.logvar(h)\n",
    "        return mu_, logvar_, x  # we return the concatenated input vector for use in loss fn\n",
    "    \n",
    "\n",
    "class Decoder(nn.Module):\n",
    "    '''\n",
    "    The decoder part of our VAE. Takes a latent vector (sampled from the distribution learned by the \n",
    "    encoder) and converts it back to a reconstructed data sample.\n",
    "    '''\n",
    "    def __init__(self, hparams):\n",
    "        super().__init__()\n",
    "#         self.final_activ = hparams.final_activ\n",
    "        hidden_dims = [hparams.latent_dim] + [int(s) for s in reversed(hparams.layer_sizes.split(','))]\n",
    "        out_dim = sum(emb_size for _, emb_size in hparams.embedding_sizes) + len(hparams.cont_vars)\n",
    "        bn = hparams.batch_norm\n",
    "        self.layers = nn.Sequential(\n",
    "            *[Layer(hidden_dims[i], hidden_dims[i + 1], bn) for i in range(len(hidden_dims) - 1)],\n",
    "        )\n",
    "        self.reconstructed = nn.Linear(hidden_dims[-1], out_dim)\n",
    "        \n",
    "    def forward(self, z):\n",
    "        h = self.layers(z)\n",
    "        recon = self.reconstructed(h)\n",
    "        return recon"
   ]
  },
  {
   "cell_type": "code",
   "execution_count": 14,
   "metadata": {},
   "outputs": [],
   "source": [
    "class VAE(pl.LightningModule):\n",
    "    def __init__(self, hparams):\n",
    "        super().__init__()\n",
    "        if isinstance(hparams, dict):\n",
    "            hparams = Namespace(**hparams)\n",
    "        self.hparams = hparams\n",
    "        self.encoder = Encoder(hparams)\n",
    "        self.decoder = Decoder(hparams)\n",
    "        self.stdev = hparams.stdev\n",
    "        self.kld_beta = hparams.kld_beta\n",
    "        self.lr = hparams.lr\n",
    "        self.wd = hparams.weight_decay\n",
    "        \n",
    "    def reparameterize(self, mu, logvar):\n",
    "        '''\n",
    "        The reparameterisation trick allows us to backpropagate through the encoder.\n",
    "        '''\n",
    "        if self.training:\n",
    "            std = torch.exp(0.5 * logvar)\n",
    "            eps = torch.randn_like(std) * self.stdev\n",
    "            return eps * std + mu\n",
    "        else:\n",
    "            return mu\n",
    "        \n",
    "    def forward(self, batch):\n",
    "        x_cont, x_cat = batch\n",
    "        assert x_cat.dtype == torch.int64\n",
    "        mu, logvar, x = self.encoder(x_cont, x_cat)\n",
    "        z = self.reparameterize(mu, logvar)\n",
    "        recon = self.decoder(z)\n",
    "        return recon, mu, logvar, x\n",
    "        \n",
    "    def loss_function(self, obs, recon, mu, logvar):\n",
    "#         recon_loss = F.mse_loss(recon, obs, reduction='sum')\n",
    "        recon_loss = F.smooth_l1_loss(recon, obs, reduction='sum')\n",
    "        kld = -0.5 * torch.sum(1 + logvar - mu ** 2 - logvar.exp())\n",
    "        return recon_loss, kld\n",
    "                               \n",
    "    def training_step(self, batch, batch_idx):\n",
    "        recon, mu, logvar, x = self.forward(batch)\n",
    "        # The loss function compares the concatenated input vector including\n",
    "        # embeddings to the reconstructed vector\n",
    "        recon_loss, kld = self.loss_function(x, recon, mu, logvar)\n",
    "        loss = recon_loss + self.kld_beta * kld\n",
    "\n",
    "        self.log('total_tr_loss', loss.mean(dim=0), on_step=True, prog_bar=True, \n",
    "                 logger=True)\n",
    "        self.log('recon_loss', recon_loss.mean(dim=0), on_step=True, prog_bar=True, \n",
    "                 logger=True)\n",
    "        self.log('kld', kld.mean(dim=0), on_step=True, prog_bar=True, logger=True)\n",
    "        return loss\n",
    "    \n",
    "    def test_step(self, batch, batch_idx):\n",
    "        recon, mu, logvar, x = self.forward(batch)\n",
    "        recon_loss, kld = self.loss_function(x, recon, mu, logvar)\n",
    "        loss = recon_loss + self.kld_beta * kld\n",
    "        self.log('test_loss', loss)\n",
    "        return loss\n",
    "        \n",
    "    def configure_optimizers(self):\n",
    "        opt = torch.optim.AdamW(self.parameters(), lr=self.lr, \n",
    "                                weight_decay=self.hparams.weight_decay, \n",
    "                                eps=1e-4)\n",
    "        sch = torch.optim.lr_scheduler.MultiplicativeLR(opt, lr_lambda=lambda epoch: 0.95)\n",
    "        return opt\n",
    "    \n",
    "    def train_dataloader(self):\n",
    "        dataset = TSDataset('train', cont_vars=self.hparams.cont_vars, \n",
    "                            cat_vars = self.hparams.cat_vars, lbl_as_feat=True)\n",
    "        return DataLoader(dataset, batch_size=self.hparams.batch_size, num_workers=0)\n",
    "    \n",
    "    def test_dataloader(self):\n",
    "        dataset = TSDataset('test', cont_vars=self.hparams.cont_vars,\n",
    "                            cat_vars=self.hparams.cat_vars, lbl_as_feat=True)\n",
    "        return DataLoader(dataset, batch_size=self.hparams.batch_size, num_workers=0)       "
   ]
  },
  {
   "cell_type": "code",
   "execution_count": 60,
   "metadata": {},
   "outputs": [],
   "source": [
    "tr_data_scaled=pd.read_csv(datasets_root/'img_ad_train.csv')\n",
    "tst_data_scaled=pd.read_csv(datasets_root/'img_ad_test.csv')"
   ]
  },
  {
   "cell_type": "code",
   "execution_count": 69,
   "metadata": {},
   "outputs": [],
   "source": [
    "cont_features = ['r1','r2','r3','g1','g2','g3','b1','b2','b3','asm','con','eng','idm']\n",
    "cat_features = ['ifpic'] \n",
    "\n",
    "embed_cats = [len(tr_data_scaled[c].unique()) for c in cat_features]\n",
    "\n",
    "hparams = OrderedDict(\n",
    "    run='img_vars_embsz8_latsz32_bsz64_lay64-128-64_ep50',\n",
    "    cont_vars = cont_features,\n",
    "    cat_vars = cat_features,\n",
    "    embedding_sizes = [(embed_cats[i], 14) for i in range(len(embed_cats))],\n",
    "    latent_dim = 32,\n",
    "    layer_sizes = '64,128,64',\n",
    "    batch_norm = True,\n",
    "    stdev = 0.01,\n",
    "    kld_beta = 0.2,\n",
    "    lr = 0.01,\n",
    "    weight_decay = 1e-5,\n",
    "    batch_size = 64,\n",
    "    epochs = 200,\n",
    ")"
   ]
  },
  {
   "cell_type": "code",
   "execution_count": 70,
   "metadata": {},
   "outputs": [
    {
     "data": {
      "text/plain": [
       "OrderedDict([('run', 'img_vars_embsz8_latsz32_bsz64_lay64-128-64_ep50'),\n",
       "             ('cont_vars',\n",
       "              ['r1',\n",
       "               'r2',\n",
       "               'r3',\n",
       "               'g1',\n",
       "               'g2',\n",
       "               'g3',\n",
       "               'b1',\n",
       "               'b2',\n",
       "               'b3',\n",
       "               'asm',\n",
       "               'con',\n",
       "               'eng',\n",
       "               'idm']),\n",
       "             ('cat_vars', ['ifpic']),\n",
       "             ('embedding_sizes', [(2, 14)]),\n",
       "             ('latent_dim', 32),\n",
       "             ('layer_sizes', '64,128,64'),\n",
       "             ('batch_norm', True),\n",
       "             ('stdev', 0.01),\n",
       "             ('kld_beta', 0.2),\n",
       "             ('lr', 0.01),\n",
       "             ('weight_decay', 1e-05),\n",
       "             ('batch_size', 64),\n",
       "             ('epochs', 200)])"
      ]
     },
     "execution_count": 70,
     "metadata": {},
     "output_type": "execute_result"
    }
   ],
   "source": [
    "hparams"
   ]
  },
  {
   "cell_type": "code",
   "execution_count": 71,
   "metadata": {},
   "outputs": [],
   "source": [
    "from argparse import Namespace\n",
    "# Simulate a Namespace with the defined hyperparameters\n",
    "hparams = Namespace(**hparams)"
   ]
  },
  {
   "cell_type": "code",
   "execution_count": 72,
   "metadata": {},
   "outputs": [],
   "source": [
    "torch.cuda.empty_cache()\n",
    "model = VAE(hparams)\n",
    "logger = WandbLogger(name=hparams.run, project='img_ad_VAE_Anomaly', version=hparams.run)"
   ]
  },
  {
   "cell_type": "code",
   "execution_count": 73,
   "metadata": {
    "scrolled": true
   },
   "outputs": [
    {
     "name": "stderr",
     "output_type": "stream",
     "text": [
      "GPU available: False, used: False\n",
      "TPU available: None, using: 0 TPU cores\n",
      "\n",
      "  | Name    | Type    | Params\n",
      "------------------------------------\n",
      "0 | encoder | Encoder | 23.1 K\n",
      "1 | decoder | Decoder | 21.0 K\n",
      "------------------------------------\n",
      "44.0 K    Trainable params\n",
      "0         Non-trainable params\n",
      "44.0 K    Total params\n"
     ]
    },
    {
     "data": {
      "application/vnd.jupyter.widget-view+json": {
       "model_id": "bbfe76c6e8a6471db1145e7fc9ff11ab",
       "version_major": 2,
       "version_minor": 0
      },
      "text/plain": [
       "HBox(children=(FloatProgress(value=0.0, description='Finding best initial lr', style=ProgressStyle(description…"
      ]
     },
     "metadata": {},
     "output_type": "display_data"
    },
    {
     "name": "stderr",
     "output_type": "stream",
     "text": [
      "Learning rate set to 0.006918309709189364\n"
     ]
    }
   ],
   "source": [
    "ckpt_callback = pl.callbacks.ModelCheckpoint(filepath='C:/Users/Ni Ying/Desktop/data/img_ad_vae_weights')\n",
    "# Replace argument logger by None if you don't have a WandB account (and don't want to create one)\n",
    "trainer = pl.Trainer(gpus=None,logger=logger, max_epochs=hparams.epochs, \n",
    "                     auto_lr_find=True, benchmark=True, callbacks=[ckpt_callback],\n",
    "                     gradient_clip_val=1.\n",
    "                     )\n",
    "trainer.tune(model)"
   ]
  },
  {
   "cell_type": "code",
   "execution_count": 74,
   "metadata": {
    "scrolled": true
   },
   "outputs": [
    {
     "data": {
      "text/html": [
       "Finishing last run (ID:1yx0gslo) before initializing another..."
      ],
      "text/plain": [
       "<IPython.core.display.HTML object>"
      ]
     },
     "metadata": {},
     "output_type": "display_data"
    },
    {
     "data": {
      "text/html": [
       "<br/>Waiting for W&B process to finish, PID 12500<br/>Program ended successfully."
      ],
      "text/plain": [
       "<IPython.core.display.HTML object>"
      ]
     },
     "metadata": {},
     "output_type": "display_data"
    },
    {
     "data": {
      "application/vnd.jupyter.widget-view+json": {
       "model_id": "",
       "version_major": 2,
       "version_minor": 0
      },
      "text/plain": [
       "VBox(children=(Label(value=' 0.00MB of 0.00MB uploaded (0.00MB deduped)\\r'), FloatProgress(value=1.0, max=1.0)…"
      ]
     },
     "metadata": {},
     "output_type": "display_data"
    },
    {
     "data": {
      "text/html": [
       "Find user logs for this run at: <code>D:\\Python_Program\\vae_anomaly_detection-main\\wandb\\run-20201215_005026-1yx0gslo\\logs\\debug.log</code>"
      ],
      "text/plain": [
       "<IPython.core.display.HTML object>"
      ]
     },
     "metadata": {},
     "output_type": "display_data"
    },
    {
     "data": {
      "text/html": [
       "Find internal logs for this run at: <code>D:\\Python_Program\\vae_anomaly_detection-main\\wandb\\run-20201215_005026-1yx0gslo\\logs\\debug-internal.log</code>"
      ],
      "text/plain": [
       "<IPython.core.display.HTML object>"
      ]
     },
     "metadata": {},
     "output_type": "display_data"
    },
    {
     "data": {
      "text/html": [
       "<h3>Run summary:</h3><br/><style>\n",
       "    table.wandb td:nth-child(1) { padding: 0 10px; text-align: right }\n",
       "    </style><table class=\"wandb\">\n",
       "<tr><td>total_tr_loss</td><td>13.57512</td></tr><tr><td>recon_loss</td><td>12.91878</td></tr><tr><td>kld</td><td>3.2817</td></tr><tr><td>_step</td><td>2947</td></tr><tr><td>_runtime</td><td>312</td></tr><tr><td>_timestamp</td><td>1607964961</td></tr></table>"
      ],
      "text/plain": [
       "<IPython.core.display.HTML object>"
      ]
     },
     "metadata": {},
     "output_type": "display_data"
    },
    {
     "data": {
      "text/html": [
       "<h3>Run history:</h3><br/><style>\n",
       "    table.wandb td:nth-child(1) { padding: 0 10px; text-align: right }\n",
       "    </style><table class=\"wandb\">\n",
       "<tr><td>total_tr_loss</td><td>▂▃█▂▂▂▁▂▂▁▁▁▁▁▁▁▁▁▂▁▁▂▁▁▁▁▁▂▁▁▁▂▁▁▁▁▁▁▁▁</td></tr><tr><td>recon_loss</td><td>▂▃█▂▂▂▁▂▂▁▁▁▁▁▁▁▁▁▂▁▁▂▁▁▁▁▁▂▁▁▁▂▁▁▁▁▂▁▁▁</td></tr><tr><td>kld</td><td>▄▅█▄▃▂▃▂▂▂▁▂▁▁▁▁▁▂▁▁▂▁▁▁▁▁▁▁▁▁▁▁▁▁▁▁▁▁▁▁</td></tr><tr><td>_step</td><td>▁▁▁▁▂▂▂▂▂▃▃▃▃▃▃▄▄▄▄▄▅▅▅▅▅▅▆▆▆▆▆▇▇▇▇▇▇███</td></tr><tr><td>_runtime</td><td>▁▁▁▁▁▁▁▁▁▁▁▁▁▁▁▁▁▁▁▁▁▁▁▂▂▂▂▂▂▂▂▂▂▂▂▂▂▂▂█</td></tr><tr><td>_timestamp</td><td>▁▁▁▁▁▁▁▁▁▁▁▁▁▁▁▁▁▁▁▁▁▁▁▂▂▂▂▂▂▂▂▂▂▂▂▂▂▂▂█</td></tr></table><br/>"
      ],
      "text/plain": [
       "<IPython.core.display.HTML object>"
      ]
     },
     "metadata": {},
     "output_type": "display_data"
    },
    {
     "data": {
      "text/html": [
       "Synced 5 W&B file(s), 0 media file(s), 0 artifact file(s) and 0 other file(s)"
      ],
      "text/plain": [
       "<IPython.core.display.HTML object>"
      ]
     },
     "metadata": {},
     "output_type": "display_data"
    },
    {
     "data": {
      "text/html": [
       "\n",
       "                    <br/>Synced <strong style=\"color:#cdcd00\">zesty-breeze-1</strong>: <a href=\"https://wandb.ai/ny0421/VAE_Anomaly_img_ad/runs/1yx0gslo\" target=\"_blank\">https://wandb.ai/ny0421/VAE_Anomaly_img_ad/runs/1yx0gslo</a><br/>\n",
       "                "
      ],
      "text/plain": [
       "<IPython.core.display.HTML object>"
      ]
     },
     "metadata": {},
     "output_type": "display_data"
    },
    {
     "data": {
      "text/html": [
       "...Successfully finished last run (ID:1yx0gslo). Initializing new run:<br/><br/>"
      ],
      "text/plain": [
       "<IPython.core.display.HTML object>"
      ]
     },
     "metadata": {},
     "output_type": "display_data"
    },
    {
     "data": {
      "text/html": [
       "\n",
       "                Tracking run with wandb version 0.10.12<br/>\n",
       "                Syncing run <strong style=\"color:#cdcd00\">golden-plasma-2</strong> to <a href=\"https://wandb.ai\" target=\"_blank\">Weights & Biases</a> <a href=\"https://docs.wandb.com/integrations/jupyter.html\" target=\"_blank\">(Documentation)</a>.<br/>\n",
       "                Project page: <a href=\"https://wandb.ai/ny0421/VAE_Anomaly_img_ad\" target=\"_blank\">https://wandb.ai/ny0421/VAE_Anomaly_img_ad</a><br/>\n",
       "                Run page: <a href=\"https://wandb.ai/ny0421/VAE_Anomaly_img_ad/runs/3j7454wu\" target=\"_blank\">https://wandb.ai/ny0421/VAE_Anomaly_img_ad/runs/3j7454wu</a><br/>\n",
       "                Run data is saved locally in <code>D:\\Python_Program\\vae_anomaly_detection-main\\wandb\\run-20201215_005601-3j7454wu</code><br/><br/>\n",
       "            "
      ],
      "text/plain": [
       "<IPython.core.display.HTML object>"
      ]
     },
     "metadata": {},
     "output_type": "display_data"
    },
    {
     "data": {
      "text/html": [
       "<h1>Run(3j7454wu)</h1><p></p><iframe src=\"https://wandb.ai/ny0421/VAE_Anomaly_img_ad/runs/3j7454wu\" style=\"border:none;width:100%;height:400px\"></iframe>"
      ],
      "text/plain": [
       "<wandb.sdk.wandb_run.Run at 0x1fc9eae0988>"
      ]
     },
     "execution_count": 74,
     "metadata": {},
     "output_type": "execute_result"
    }
   ],
   "source": [
    "wandb.init(project='VAE_Anomaly_img_ad')"
   ]
  },
  {
   "cell_type": "code",
   "execution_count": 75,
   "metadata": {
    "scrolled": false
   },
   "outputs": [
    {
     "name": "stderr",
     "output_type": "stream",
     "text": [
      "\n",
      "  | Name    | Type    | Params\n",
      "------------------------------------\n",
      "0 | encoder | Encoder | 23.1 K\n",
      "1 | decoder | Decoder | 21.0 K\n",
      "------------------------------------\n",
      "44.0 K    Trainable params\n",
      "0         Non-trainable params\n",
      "44.0 K    Total params\n"
     ]
    },
    {
     "data": {
      "application/vnd.jupyter.widget-view+json": {
       "model_id": "6e72f9b5e1b4498a8a13226f226de086",
       "version_major": 2,
       "version_minor": 0
      },
      "text/plain": [
       "HBox(children=(FloatProgress(value=1.0, bar_style='info', description='Training', layout=Layout(flex='2'), max…"
      ]
     },
     "metadata": {},
     "output_type": "display_data"
    },
    {
     "data": {
      "text/plain": [
       "1"
      ]
     },
     "execution_count": 75,
     "metadata": {},
     "output_type": "execute_result"
    }
   ],
   "source": [
    "trainer.fit(model)"
   ]
  },
  {
   "cell_type": "code",
   "execution_count": 76,
   "metadata": {},
   "outputs": [
    {
     "data": {
      "application/vnd.jupyter.widget-view+json": {
       "model_id": "82b1ec70e3dd4168a7f52375b0731a77",
       "version_major": 2,
       "version_minor": 0
      },
      "text/plain": [
       "HBox(children=(FloatProgress(value=1.0, bar_style='info', description='Testing', layout=Layout(flex='2'), max=…"
      ]
     },
     "metadata": {},
     "output_type": "display_data"
    },
    {
     "name": "stderr",
     "output_type": "stream",
     "text": [
      "wandb: WARNING Step must only increase in log calls.  Step 11742 < 11797; dropping {'test_loss': 8.66108512878418, 'epoch': 199}.\n"
     ]
    },
    {
     "name": "stdout",
     "output_type": "stream",
     "text": [
      "\n",
      "--------------------------------------------------------------------------------\n",
      "DATALOADER:0 TEST RESULTS\n",
      "{'test_loss': tensor(8.6611)}\n",
      "--------------------------------------------------------------------------------\n"
     ]
    },
    {
     "data": {
      "text/plain": [
       "[{'test_loss': 8.66108512878418}]"
      ]
     },
     "execution_count": 76,
     "metadata": {},
     "output_type": "execute_result"
    }
   ],
   "source": [
    "trainer.test()"
   ]
  },
  {
   "cell_type": "code",
   "execution_count": 77,
   "metadata": {
    "scrolled": true
   },
   "outputs": [
    {
     "data": {
      "text/html": [
       "<div>\n",
       "<style scoped>\n",
       "    .dataframe tbody tr th:only-of-type {\n",
       "        vertical-align: middle;\n",
       "    }\n",
       "\n",
       "    .dataframe tbody tr th {\n",
       "        vertical-align: top;\n",
       "    }\n",
       "\n",
       "    .dataframe thead th {\n",
       "        text-align: right;\n",
       "    }\n",
       "</style>\n",
       "<table border=\"1\" class=\"dataframe\">\n",
       "  <thead>\n",
       "    <tr style=\"text-align: right;\">\n",
       "      <th></th>\n",
       "      <th>uid</th>\n",
       "      <th>type</th>\n",
       "      <th>ifpic</th>\n",
       "      <th>r1</th>\n",
       "      <th>r2</th>\n",
       "      <th>r3</th>\n",
       "      <th>g1</th>\n",
       "      <th>g2</th>\n",
       "      <th>g3</th>\n",
       "      <th>b1</th>\n",
       "      <th>b2</th>\n",
       "      <th>b3</th>\n",
       "      <th>asm</th>\n",
       "      <th>con</th>\n",
       "      <th>eng</th>\n",
       "      <th>idm</th>\n",
       "      <th>loss</th>\n",
       "    </tr>\n",
       "  </thead>\n",
       "  <tbody>\n",
       "    <tr>\n",
       "      <th>0</th>\n",
       "      <td>1</td>\n",
       "      <td>2</td>\n",
       "      <td>1</td>\n",
       "      <td>0.509085</td>\n",
       "      <td>0.916879</td>\n",
       "      <td>-0.866819</td>\n",
       "      <td>0.556730</td>\n",
       "      <td>0.725873</td>\n",
       "      <td>-0.919456</td>\n",
       "      <td>0.588853</td>\n",
       "      <td>0.598425</td>\n",
       "      <td>-0.799702</td>\n",
       "      <td>-0.117813</td>\n",
       "      <td>0.055439</td>\n",
       "      <td>1.462575</td>\n",
       "      <td>0.926437</td>\n",
       "      <td>0.655334</td>\n",
       "    </tr>\n",
       "    <tr>\n",
       "      <th>1</th>\n",
       "      <td>12</td>\n",
       "      <td>2</td>\n",
       "      <td>1</td>\n",
       "      <td>-0.006644</td>\n",
       "      <td>0.899975</td>\n",
       "      <td>-0.567655</td>\n",
       "      <td>0.531048</td>\n",
       "      <td>0.513287</td>\n",
       "      <td>-0.737549</td>\n",
       "      <td>0.902894</td>\n",
       "      <td>0.449059</td>\n",
       "      <td>-0.838995</td>\n",
       "      <td>-0.687405</td>\n",
       "      <td>0.540872</td>\n",
       "      <td>2.296487</td>\n",
       "      <td>0.493395</td>\n",
       "      <td>0.730622</td>\n",
       "    </tr>\n",
       "    <tr>\n",
       "      <th>2</th>\n",
       "      <td>18</td>\n",
       "      <td>2</td>\n",
       "      <td>0</td>\n",
       "      <td>-1.036753</td>\n",
       "      <td>-0.850720</td>\n",
       "      <td>0.555130</td>\n",
       "      <td>-1.022523</td>\n",
       "      <td>-0.985355</td>\n",
       "      <td>0.524007</td>\n",
       "      <td>-0.998609</td>\n",
       "      <td>-0.975355</td>\n",
       "      <td>0.505114</td>\n",
       "      <td>-0.902389</td>\n",
       "      <td>-0.682143</td>\n",
       "      <td>-0.983619</td>\n",
       "      <td>-1.098656</td>\n",
       "      <td>0.035264</td>\n",
       "    </tr>\n",
       "    <tr>\n",
       "      <th>3</th>\n",
       "      <td>22</td>\n",
       "      <td>2</td>\n",
       "      <td>0</td>\n",
       "      <td>-1.036753</td>\n",
       "      <td>-0.850720</td>\n",
       "      <td>0.555130</td>\n",
       "      <td>-1.022523</td>\n",
       "      <td>-0.985355</td>\n",
       "      <td>0.524007</td>\n",
       "      <td>-0.998609</td>\n",
       "      <td>-0.975355</td>\n",
       "      <td>0.505114</td>\n",
       "      <td>-0.902389</td>\n",
       "      <td>-0.682143</td>\n",
       "      <td>-0.983619</td>\n",
       "      <td>-1.098656</td>\n",
       "      <td>0.035264</td>\n",
       "    </tr>\n",
       "    <tr>\n",
       "      <th>4</th>\n",
       "      <td>35</td>\n",
       "      <td>2</td>\n",
       "      <td>0</td>\n",
       "      <td>-1.036753</td>\n",
       "      <td>-0.850720</td>\n",
       "      <td>0.555130</td>\n",
       "      <td>-1.022523</td>\n",
       "      <td>-0.985355</td>\n",
       "      <td>0.524007</td>\n",
       "      <td>-0.998609</td>\n",
       "      <td>-0.975355</td>\n",
       "      <td>0.505114</td>\n",
       "      <td>-0.902389</td>\n",
       "      <td>-0.682143</td>\n",
       "      <td>-0.983619</td>\n",
       "      <td>-1.098656</td>\n",
       "      <td>0.035264</td>\n",
       "    </tr>\n",
       "  </tbody>\n",
       "</table>\n",
       "</div>"
      ],
      "text/plain": [
       "   uid  type  ifpic        r1        r2        r3        g1        g2  \\\n",
       "0    1     2      1  0.509085  0.916879 -0.866819  0.556730  0.725873   \n",
       "1   12     2      1 -0.006644  0.899975 -0.567655  0.531048  0.513287   \n",
       "2   18     2      0 -1.036753 -0.850720  0.555130 -1.022523 -0.985355   \n",
       "3   22     2      0 -1.036753 -0.850720  0.555130 -1.022523 -0.985355   \n",
       "4   35     2      0 -1.036753 -0.850720  0.555130 -1.022523 -0.985355   \n",
       "\n",
       "         g3        b1        b2        b3       asm       con       eng  \\\n",
       "0 -0.919456  0.588853  0.598425 -0.799702 -0.117813  0.055439  1.462575   \n",
       "1 -0.737549  0.902894  0.449059 -0.838995 -0.687405  0.540872  2.296487   \n",
       "2  0.524007 -0.998609 -0.975355  0.505114 -0.902389 -0.682143 -0.983619   \n",
       "3  0.524007 -0.998609 -0.975355  0.505114 -0.902389 -0.682143 -0.983619   \n",
       "4  0.524007 -0.998609 -0.975355  0.505114 -0.902389 -0.682143 -0.983619   \n",
       "\n",
       "        idm      loss  \n",
       "0  0.926437  0.655334  \n",
       "1  0.493395  0.730622  \n",
       "2 -1.098656  0.035264  \n",
       "3 -1.098656  0.035264  \n",
       "4 -1.098656  0.035264  "
      ]
     },
     "execution_count": 77,
     "metadata": {},
     "output_type": "execute_result"
    }
   ],
   "source": [
    "trained_model = VAE.load_from_checkpoint('C:/Users/Ni Ying/Desktop/data/img_ad_vae_weights.ckpt')\n",
    "trained_model.freeze()\n",
    "dataset = TSDataset('test', cont_vars=hparams.cont_vars, \n",
    "                    cat_vars=hparams.cat_vars,\n",
    "                    lbl_as_feat=True) \n",
    "losses = []\n",
    "# run predictions for the training set examples\n",
    "for i in range(len(dataset)):\n",
    "    x_cont, x_cat = dataset[i]\n",
    "    x_cont.unsqueeze_(0)\n",
    "    x_cat.unsqueeze_(0)\n",
    "    recon, mu, logvar, x = trained_model.forward((x_cont, x_cat))\n",
    "    recon_loss, kld = trained_model.loss_function(x, recon, mu, logvar)\n",
    "    losses.append(recon_loss + trained_model.hparams.kld_beta * kld)\n",
    "    \n",
    "data_with_losses = dataset.df\n",
    "data_with_losses['loss'] = np.asarray(losses)\n",
    "data_with_losses.head()"
   ]
  },
  {
   "cell_type": "code",
   "execution_count": 78,
   "metadata": {},
   "outputs": [
    {
     "data": {
      "text/plain": [
       "(0.34678179025650024, 0.4900517165660858)"
      ]
     },
     "execution_count": 78,
     "metadata": {},
     "output_type": "execute_result"
    }
   ],
   "source": [
    "mean, sigma = data_with_losses['loss'].mean(), data_with_losses['loss'].std()\n",
    "mean, sigma"
   ]
  },
  {
   "cell_type": "code",
   "execution_count": 81,
   "metadata": {},
   "outputs": [],
   "source": [
    "import seaborn as sns"
   ]
  },
  {
   "cell_type": "code",
   "execution_count": 82,
   "metadata": {},
   "outputs": [
    {
     "data": {
      "image/png": "[encoded data removed]",
      "text/plain": [
       "<Figure size 432x288 with 2 Axes>"
      ]
     },
     "metadata": {
      "needs_background": "light"
     },
     "output_type": "display_data"
    }
   ],
   "source": [
    "fig, axes = plt.subplots(1,2)  \n",
    "sns.distplot(data_with_losses['loss'], ax = axes[0], kde = True, rug = True)        # kde 密度曲线  rug 边际毛毯  \n",
    "sns.kdeplot(data_with_losses['loss'], ax = axes[1], shade=True)                     # shade  阴影                         \n",
    "plt.show()  "
   ]
  },
  {
   "cell_type": "code",
   "execution_count": null,
   "metadata": {},
   "outputs": [],
   "source": []
  },
  {
   "cell_type": "code",
   "execution_count": 79,
   "metadata": {},
   "outputs": [],
   "source": [
    "thresh = 6  # threshold for anomaly, in sigmas."
   ]
  },
  {
   "cell_type": "code",
   "execution_count": 80,
   "metadata": {},
   "outputs": [
    {
     "name": "stdout",
     "output_type": "stream",
     "text": [
      "   uid  type  ifpic        r1        r2        r3        g1        g2  \\\n",
      "0    1     2      1  0.509085  0.916879 -0.866819  0.556730  0.725873   \n",
      "1   12     2      1 -0.006644  0.899975 -0.567655  0.531048  0.513287   \n",
      "2   18     2      0 -1.036753 -0.850720  0.555130 -1.022523 -0.985355   \n",
      "3   22     2      0 -1.036753 -0.850720  0.555130 -1.022523 -0.985355   \n",
      "4   35     2      0 -1.036753 -0.850720  0.555130 -1.022523 -0.985355   \n",
      "\n",
      "         g3        b1        b2        b3       asm       con       eng  \\\n",
      "0 -0.919456  0.588853  0.598425 -0.799702 -0.117813  0.055439  1.462575   \n",
      "1 -0.737549  0.902894  0.449059 -0.838995 -0.687405  0.540872  2.296487   \n",
      "2  0.524007 -0.998609 -0.975355  0.505114 -0.902389 -0.682143 -0.983619   \n",
      "3  0.524007 -0.998609 -0.975355  0.505114 -0.902389 -0.682143 -0.983619   \n",
      "4  0.524007 -0.998609 -0.975355  0.505114 -0.902389 -0.682143 -0.983619   \n",
      "\n",
      "        idm      loss  anomaly  \n",
      "0  0.926437  0.655334    False  \n",
      "1  0.493395  0.730622    False  \n",
      "2 -1.098656  0.035264    False  \n",
      "3 -1.098656  0.035264    False  \n",
      "4 -1.098656  0.035264    False  \n"
     ]
    }
   ],
   "source": [
    "data_with_losses['anomaly'] = data_with_losses['loss'] > (mean + sigma * thresh)\n",
    "print(data_with_losses.head())\n",
    "colors = ['red' if anomaly else 'blue' for anomaly in data_with_losses['anomaly']]"
   ]
  },
  {
   "cell_type": "code",
   "execution_count": 32,
   "metadata": {
    "scrolled": true
   },
   "outputs": [
    {
     "data": {
      "text/plain": [
       "<matplotlib.legend.Legend at 0x1fc9810ff08>"
      ]
     },
     "execution_count": 32,
     "metadata": {},
     "output_type": "execute_result"
    },
    {
     "data": {
      "image/png": "[encoded data removed]",
      "text/plain": [
       "<Figure size 432x288 with 1 Axes>"
      ]
     },
     "metadata": {
      "needs_background": "light"
     },
     "output_type": "display_data"
    }
   ],
   "source": [
    "anomalies_loss = data_with_losses.loc[data_with_losses['anomaly'], 'loss']\n",
    "normals_loss   = data_with_losses.loc[~data_with_losses['anomaly'], 'loss']\n",
    "plt.hist([normals_loss, anomalies_loss], bins=32, stacked=True, color=['blue', 'red'], label=['normal', 'abnormal'])\n",
    "plt.legend()"
   ]
  },
  {
   "cell_type": "code",
   "execution_count": 39,
   "metadata": {},
   "outputs": [
    {
     "name": "stdout",
     "output_type": "stream",
     "text": [
      "       uid  type  ifpic          r1         r2         r3          g1  \\\n",
      "0  1088916     2      1   97.614978  67.456272  63.780334   97.087358   \n",
      "1       37     2      0    0.057993   0.024396  -0.029042    0.048980   \n",
      "2       42     2      1  212.405175  80.847712 -96.379919  211.349598   \n",
      "3  1088924     2      0    0.057993   0.024396  -0.029042    0.048980   \n",
      "4  1088942     2      1  102.540626  61.393805   9.708157  109.923367   \n",
      "\n",
      "          g2         g3          b1         b2         b3       asm       con  \\\n",
      "0  68.117285  64.699577   90.991269  71.837066  67.974166  0.027085  8.851774   \n",
      "1   0.021508   0.092140    0.010261   0.008832   0.060727  0.000009 -0.011093   \n",
      "2  75.771202 -85.542578  224.618555  55.529670 -70.554195  0.442060  6.478422   \n",
      "3   0.021508   0.092140    0.010261   0.008832   0.060727  0.000009 -0.011093   \n",
      "4  65.996971 -32.987108   93.182573  60.048402 -14.858932  0.025685  3.052300   \n",
      "\n",
      "        eng       idm      loss  anomaly  \n",
      "0  4.346545  0.540460  0.114905    False  \n",
      "1  0.001393  0.000286  0.007562    False  \n",
      "2  2.122618  0.809034  0.349021    False  \n",
      "3  0.001393  0.000286  0.007562    False  \n",
      "4  4.164575  0.631431  0.121053    False  \n"
     ]
    }
   ],
   "source": [
    "data_with_losses_unscaled = data_with_losses.copy()\n",
    "data_with_losses_unscaled[cont_vars] = scaler.inverse_transform(data_with_losses[cont_vars])\n",
    "data_with_losses_unscaled = pd.DataFrame(data_with_losses_unscaled, columns=data_with_losses.columns)\n",
    "print(data_with_losses_unscaled.head())"
   ]
  },
  {
   "cell_type": "code",
   "execution_count": 42,
   "metadata": {},
   "outputs": [
    {
     "data": {
      "text/plain": [
       "<matplotlib.legend.Legend at 0x1fc99191188>"
      ]
     },
     "execution_count": 42,
     "metadata": {},
     "output_type": "execute_result"
    },
    {
     "data": {
      "image/png": "[encoded data removed]",
      "text/plain": [
       "<Figure size 432x288 with 1 Axes>"
      ]
     },
     "metadata": {
      "needs_background": "light"
     },
     "output_type": "display_data"
    }
   ],
   "source": [
    "anomalies_value = data_with_losses_unscaled.loc[data_with_losses_unscaled['anomaly'], ['loss','type']]\n",
    "normals_value = data_with_losses_unscaled.loc[~data_with_losses_unscaled['anomaly'], ['loss','type']]\n",
    "\n",
    "plt.hist([normals_value['type'], anomalies_value['type']], bins=100, stacked=True, color=['blue', 'red'], label=['normal', 'abnormal'])\n",
    "plt.legend()"
   ]
  },
  {
   "cell_type": "code",
   "execution_count": null,
   "metadata": {},
   "outputs": [],
   "source": [
    "anomalies_ts = data_with_losses_unscaled.loc[data_with_losses_unscaled['anomaly'], ('t', 'value')]\n",
    "holidays_ts = data_with_losses_unscaled.loc[data_with_losses_unscaled['holiday'] == 1, ('t', 'value')]\n",
    "print(anomalies_ts.head())\n",
    "fig, ax = plt.subplots()\n",
    "ax.plot(data_with_losses_unscaled['t'], data_with_losses_unscaled['value'], color='blue')\n",
    "ax.scatter(anomalies_ts['t'], anomalies_ts['value'], color='red', label='anomaly')\n",
    "plt.legend()\n",
    "plt.show()"
   ]
  }
 ],
 "metadata": {
  "kernelspec": {
   "display_name": "Python 3",
   "language": "python",
   "name": "python3"
  },
  "language_info": {
   "codemirror_mode": {
    "name": "ipython",
    "version": 3
   },
   "file_extension": ".py",
   "mimetype": "text/x-python",
   "name": "python",
   "nbconvert_exporter": "python",
   "pygments_lexer": "ipython3",
   "version": "3.7.6"
  }
 },
 "nbformat": 4,
 "nbformat_minor": 4
}
